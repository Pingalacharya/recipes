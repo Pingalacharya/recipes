{
 "cells": [
  {
   "cell_type": "markdown",
   "id": "56ea9d78",
   "metadata": {},
   "source": [
    "## Linked List Implementation\n",
    "\n",
    "```\n",
    "Linked list has only one attribute : the head node. It knows nothing about other nodes.hence no indexing is possible.\n",
    "\n",
    "Que :Then how does it function ?\n",
    "Ans : The head node contains its own value and also the information about the next node.the next node also contains its own value and information about its next node and so on. \n",
    "\n",
    "Hence the Singly linked list \n",
    "\n",
    "Que : Attributes of Node object ?\n",
    "Ans : As told above, Node object has two attributes : its value and the next node ( which is also a Node object)\n",
    "\n",
    "\n",
    "```"
   ]
  },
  {
   "cell_type": "markdown",
   "id": "3e14d48d",
   "metadata": {},
   "source": [
    "### LinkedList and Node class"
   ]
  },
  {
   "cell_type": "code",
   "execution_count": 2,
   "id": "0dd59f98",
   "metadata": {},
   "outputs": [],
   "source": [
    "class LnkedList:    \n",
    "    def __init__(self):\n",
    "        self.head_node  = None            # contains only head node \n",
    "        \n",
    "class Node:                               # node object : contains its own data and \n",
    "    def __init__(self,data):              # information about next node \n",
    "        self.data = data\n",
    "        self.next_node = None\n"
   ]
  },
  {
   "cell_type": "markdown",
   "id": "93c419b0",
   "metadata": {},
   "source": [
    "### adding methods to LinkedList"
   ]
  },
  {
   "cell_type": "code",
   "execution_count": null,
   "id": "d23beb58",
   "metadata": {},
   "outputs": [],
   "source": [
    "class Node:                               # node object : contains its own data and \n",
    "    def __init__(self,data):              # information about next node \n",
    "        self.data = data\n",
    "        self.next_node = None\n",
    "\n",
    "class LnkedList:    \n",
    "    def __init__(self):\n",
    "        self.head_node  = None           # contains only head node  \n",
    "        \n",
    "    def get_head(self):\n",
    "       return self.head_node       \n",
    "\n",
    "    def is_empty(self):\n",
    "        if self.head_node is None :\n",
    "            return True\n",
    "        else:\n",
    "            return False\n",
    "        \n",
    "    def insert_at_head(self, data):              # head_node becomes next node \n",
    "                                                 # a node object with given data is created\n",
    "        temp_node = Node(data)                   # and made the head node \n",
    "        temp_node.next_node = self.head_node        \n",
    "        self.head_node = temp_node\n",
    "        \n",
    "        return self.head_node       \n",
    "    \n",
    "    \n",
    "    def insert_at_tail(self, value):\n",
    "      \n",
    "        new_node = Node(value)\n",
    "\n",
    "        if self.get_head() is None:\n",
    "            self.head_node = new_node\n",
    "            return\n",
    "\n",
    "        temp = self.get_head()\n",
    "\n",
    "        while temp.next_element is not None:\n",
    "            temp = temp.next_element\n",
    "\n",
    "        temp.next_element = new_node\n",
    "        return\n",
    "    \n",
    "    \n",
    "    def print_list(self):\n",
    "        if(self.is_empty()):\n",
    "            print(\"List is Empty\")\n",
    "            return False\n",
    "        temp = self.head_node\n",
    "        while temp.next_node is not None:\n",
    "            print(temp.data, end=\" -> \")\n",
    "            temp = temp.next_node\n",
    "        print(temp.data, \"-> None\")\n",
    "        return True\n",
    "             \n",
    "        \n",
    "            \n",
    "list = LinkedList()\n",
    "list.print_list()\n",
    "\n",
    "print(\"Inserting values in list\")\n",
    "for i in range(1, 10):\n",
    "    list.insert_at_head(i)\n",
    "list.print_list()            \n",
    "            \n",
    "      "
   ]
  },
  {
   "cell_type": "markdown",
   "id": "4543bd74",
   "metadata": {},
   "source": [
    "### Stack\n",
    "\n",
    "LIFO"
   ]
  },
  {
   "cell_type": "code",
   "execution_count": null,
   "id": "5689f623",
   "metadata": {},
   "outputs": [],
   "source": [
    "class Stack:\n",
    "    \n",
    "    def __init__(self,):\n",
    "        self.entries = []\n",
    "        \n",
    "    def size(self):\n",
    "        return len(self.entries)\n",
    "    \n",
    "    def push(self,val):\n",
    "        return entries.append(val)\n",
    "    \n",
    "    def pop(self):\n",
    "        if self.size() > 0:\n",
    "            self.entries.pop(self.size() - 1)\n",
    "        "
   ]
  },
  {
   "cell_type": "markdown",
   "id": "fd02903b",
   "metadata": {},
   "source": [
    "### Binary Tree\n",
    "\n",
    "Convert an array into binary tree"
   ]
  },
  {
   "cell_type": "code",
   "execution_count": null,
   "id": "72a2b0f1",
   "metadata": {},
   "outputs": [],
   "source": []
  }
 ],
 "metadata": {
  "kernelspec": {
   "display_name": "Python 3 (ipykernel)",
   "language": "python",
   "name": "python3"
  },
  "language_info": {
   "codemirror_mode": {
    "name": "ipython",
    "version": 3
   },
   "file_extension": ".py",
   "mimetype": "text/x-python",
   "name": "python",
   "nbconvert_exporter": "python",
   "pygments_lexer": "ipython3",
   "version": "3.8.10"
  }
 },
 "nbformat": 4,
 "nbformat_minor": 5
}
