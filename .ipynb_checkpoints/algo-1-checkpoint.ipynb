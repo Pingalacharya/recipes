{
 "cells": [
  {
   "cell_type": "markdown",
   "id": "4896e86e",
   "metadata": {},
   "source": [
    "## Sorting Algos\n",
    "\n",
    "### 1. Insertion Sort\n",
    "\n",
    "```\n",
    "\n",
    "In the first pass ( first iteration), the first two elements in the list are sorted, in the second pass , first three elements are sorted and so on. After we perform the (n-1) th iteration, the entire array is sorted.\n",
    "\n",
    "Time Complexity:\n",
    "Every element is visited, which contributes O(n). Swapping backwards takes\n",
    "O(n/2) time on average, meaning that the total complexity is O(n^2)\n",
    "```"
   ]
  },
  {
   "cell_type": "code",
   "execution_count": null,
   "id": "24ac33d3",
   "metadata": {},
   "outputs": [],
   "source": [
    "def insertion_sort(lst):\n",
    "    \n",
    "    for i in range(1,len(lst)):\n",
    "        while(i > 0 and lst[i] < lst[i - 1]):\n",
    "            lst[i], lst[i - 1] = lst[i -  1], lst[i]\n",
    "            i -= 1\n",
    "    return lst\n",
    "\n",
    "test_data  = [5,9,4,27,3,6]\n",
    "print(insertion_sort(test_data))\n",
    "            \n",
    "            "
   ]
  },
  {
   "cell_type": "markdown",
   "id": "3c4e8403",
   "metadata": {},
   "source": [
    "###  2. Merge Sort\n",
    "```\n",
    "merge_sort is a divide and conquer algorithm that splits in halves the array and\n",
    "then builds it back up by merging and sorting at the same time its elements.\n",
    "\n",
    "Time complexity:\n",
    "merge_sort has a time complexity of O(n log n).\n",
    "```"
   ]
  },
  {
   "cell_type": "code",
   "execution_count": null,
   "id": "56195f27",
   "metadata": {},
   "outputs": [],
   "source": [
    "def merge_sort(arr):\n",
    "    if len(arr) > 1 :\n",
    "        mid = len(arr)//2\n",
    "        \n",
    "        L = arr[:mid]\n",
    "        R = arr[mid:]\n",
    "        \n",
    "        merge_sort(L)\n",
    "        merge_sort(R)\n",
    "        \n",
    "        i = j = k = 0\n",
    "        \n",
    "        while i < len(L) and j < len(R):\n",
    "            if L[i] < R[j]:\n",
    "                arr[k] = L[i]\n",
    "                i += 1\n",
    "            else:\n",
    "                arr[k] = R[j]\n",
    "                j+=1\n",
    "                \n",
    "            k +=1    \n",
    "\n",
    "        # Checking if any element was left\n",
    "        while i < len(L):\n",
    "            arr[k] = L[i]\n",
    "            i+=1\n",
    "            k+=1\n",
    "\n",
    "        while j < len(R):\n",
    "            arr[k] = R[j]\n",
    "            j+=1\n",
    "            k+=1                "
   ]
  },
  {
   "cell_type": "markdown",
   "id": "07c196ee",
   "metadata": {},
   "source": [
    "### QuickSort\n",
    "```\n",
    "Choose a pivot and move all items larger than the pivot to the right and all \n",
    "smaller items to the left.\n",
    "\n",
    "Time complexity:\n",
    "Quicksort has a time complexity of O(n log n).\n",
    "```"
   ]
  },
  {
   "cell_type": "code",
   "execution_count": null,
   "id": "34b13b03",
   "metadata": {},
   "outputs": [],
   "source": [
    "def qsort(arr):\n",
    "    if len(arr) <= 1:\n",
    "        return arr\n",
    "    \n",
    "    pivot = arr.pop()               # last element has been chosen as the pivot \n",
    "    \n",
    "    greater, lesser = [],[]\n",
    "    \n",
    "    for item in arr:\n",
    "        if item > pivot:\n",
    "            greater.append(item)\n",
    "        else:\n",
    "            lesser.append(item)\n",
    "            \n",
    "    return qsort(lesser) + [pivot] + qsort(greater)\n",
    "    "
   ]
  },
  {
   "cell_type": "markdown",
   "id": "c3cc9581",
   "metadata": {},
   "source": [
    "### Selection Sort\n",
    "```\n",
    "In selection sort, the first smallest element is selected from the unsorted array and placed at the first position. After that second smallest element is selected and placed in the second position. The process continues until the array is entirely sorted.\n",
    "\n",
    "The average and worst-case complexity of selection sort is O(n2), where n is the number of items. Due to this, it is not suitable for large data sets.\n",
    "```"
   ]
  },
  {
   "cell_type": "code",
   "execution_count": 17,
   "id": "e6975f16",
   "metadata": {},
   "outputs": [
    {
     "data": {
      "text/plain": [
       "[1, 5, 27, 36, 41, 72, 78, 80, 99, 100]"
      ]
     },
     "execution_count": 17,
     "metadata": {},
     "output_type": "execute_result"
    }
   ],
   "source": [
    "import math\n",
    "\n",
    "def find_smallest(arr):\n",
    "    smallest = arr[0]\n",
    "    smallest_index = 0\n",
    "    \n",
    "    for i in range(1, len(arr)):\n",
    "        \n",
    "        if arr[i] < smallest:\n",
    "            smallest = arr[i]\n",
    "            smallest_index = i\n",
    "            \n",
    "    return smallest_index\n",
    "\n",
    "\n",
    "def selection_sort(arr):\n",
    "    \n",
    "    new_arr = []\n",
    "    \n",
    "    i = 0    \n",
    "    while arr:\n",
    "        smallest_index = find_smallest(arr)\n",
    "        new_arr.append(arr[smallest_index])\n",
    "        arr.pop(smallest_index)   \n",
    "        i += 1\n",
    "        \n",
    "    return new_arr \n",
    "\n",
    "\n",
    "\n",
    "arr = [100, 5, 72, 41, 80, 1, 99, 36, 27, 78]\n",
    " \n",
    "selection_sort(arr)    "
   ]
  },
  {
   "cell_type": "markdown",
   "id": "5852575c",
   "metadata": {},
   "source": [
    "### Bubble Sort\n",
    "\n",
    "```\n",
    "Bubble Sort worst time complexity occurs when array is reverse sorted - O(n^2)\n",
    "Best time scenario is when array is already sorted - O(n)\n",
    "```"
   ]
  },
  {
   "cell_type": "code",
   "execution_count": null,
   "id": "fd17de69",
   "metadata": {},
   "outputs": [],
   "source": [
    "def bubble_sort(array):\n",
    "    n = len(array)\n",
    "    for i in range(n):\n",
    "        for j in range(0, n-i-1):\n",
    "            if array[j] > array[j+1]:\n",
    "                array[j], array[j+1] = array[j+1], array[j] \n",
    "    return array\n",
    "\n",
    "\n",
    "def bubble_sort_optimized(array):\n",
    "    \"\"\"\n",
    "    Optimizes on bubble sort by taking care of already swapped cases\n",
    "    Reference - https://github.com/prabhupant/python-ds/pull/346\n",
    "    \"\"\"\n",
    "    has_swapped = True\n",
    "\n",
    "    num_of_iterations = 0\n",
    "\n",
    "    while has_swapped:\n",
    "        has_swapped = False\n",
    "        for i in range(len(array) - num_of_iterations - 1):\n",
    "            if array[i] > array[i + 1]:\n",
    "                array[i], array[i + 1] = array[i + 1], array[i]\n",
    "                has_swapped = True\n",
    "        num_of_iterations += 1"
   ]
  }
 ],
 "metadata": {
  "kernelspec": {
   "display_name": "Python 3 (ipykernel)",
   "language": "python",
   "name": "python3"
  },
  "language_info": {
   "codemirror_mode": {
    "name": "ipython",
    "version": 3
   },
   "file_extension": ".py",
   "mimetype": "text/x-python",
   "name": "python",
   "nbconvert_exporter": "python",
   "pygments_lexer": "ipython3",
   "version": "3.8.10"
  }
 },
 "nbformat": 4,
 "nbformat_minor": 5
}
