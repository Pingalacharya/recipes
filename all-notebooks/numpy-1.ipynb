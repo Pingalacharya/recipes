{
 "cells": [
  {
   "cell_type": "code",
   "execution_count": 1,
   "id": "5e4e9453",
   "metadata": {},
   "outputs": [],
   "source": [
    "import numpy as np"
   ]
  },
  {
   "cell_type": "markdown",
   "id": "2c9945c4",
   "metadata": {},
   "source": [
    "### dtype"
   ]
  },
  {
   "cell_type": "code",
   "execution_count": null,
   "id": "e4b2edce",
   "metadata": {},
   "outputs": [],
   "source": [
    "arr = np.array([1,2,3,9], dtype = np.int32)\n",
    "print(arr.astype(float))\n",
    "\n",
    "# np.nan \n",
    "np.array([np.nan, 1, np.inf], dtype=np.float32)"
   ]
  },
  {
   "cell_type": "markdown",
   "id": "9d72fab3",
   "metadata": {},
   "source": [
    "### making arrays"
   ]
  },
  {
   "cell_type": "code",
   "execution_count": 3,
   "id": "0109fbeb",
   "metadata": {},
   "outputs": [],
   "source": [
    "# linspace\n",
    "np.linspace(10,100,9, endpoint=False)\n",
    "np.linspace(10,100,9)\n",
    "\n",
    "#reshape\n",
    "arr = np.arange(0,10)    # excludes last \n",
    "np.reshape(arr,(2,5))\n",
    "\n",
    "#flatten\n",
    "flattened = arr.flatten()\n",
    "\n",
    "# transpose with dims = 2\n",
    "arr = np.transpose(arr)\n",
    "\n",
    "# transpose with ndims > 2 \n",
    "arr = np.arange(24)\n",
    "arr = np.reshape(arr, (3, 4, 2))\n",
    "transposed = np.transpose(arr, axes = (1,2,0))   # (2.4.3) if axes is not specified"
   ]
  },
  {
   "cell_type": "markdown",
   "id": "d5f20efa",
   "metadata": {},
   "source": [
    "### math operations"
   ]
  },
  {
   "cell_type": "code",
   "execution_count": 7,
   "id": "0aa8cdb0",
   "metadata": {},
   "outputs": [],
   "source": [
    "np.exp(arr) \n",
    "np.log(arr)\n",
    "np.log10(arr)"
   ]
  },
  {
   "cell_type": "markdown",
   "id": "5f36a613",
   "metadata": {},
   "source": [
    "### generate random arrays"
   ]
  },
  {
   "cell_type": "code",
   "execution_count": null,
   "id": "2a134824",
   "metadata": {},
   "outputs": [],
   "source": [
    "np.random.randint(5)\n",
    "np.random.randint(5, high=6)\n",
    "random_arr = np.random.randint(3, high=100, size=(2, 2))"
   ]
  },
  {
   "cell_type": "markdown",
   "id": "50888db2",
   "metadata": {},
   "source": [
    "### distributions"
   ]
  },
  {
   "cell_type": "code",
   "execution_count": null,
   "id": "2bdefb15",
   "metadata": {},
   "outputs": [],
   "source": [
    "np.random.uniform(low=-1.5, high=2.2)\n",
    "np.random.normal(loc=1.5, scale=3.5)     # loc = mean , scale = std deviation\n",
    "np.random.normal(loc=-2.4, scale=4.0, size=(2, 2))"
   ]
  },
  {
   "cell_type": "markdown",
   "id": "5765e871",
   "metadata": {},
   "source": [
    "### custom sampling"
   ]
  },
  {
   "cell_type": "code",
   "execution_count": null,
   "id": "51eaefa0",
   "metadata": {},
   "outputs": [],
   "source": [
    "colors = ['red', 'blue', 'green']\n",
    "np.random.choice(colors)\n",
    "np.random.choice(colors, size=2)\n",
    "np.random.choice(colors, size=(2, 2), p=[0.8, 0.19, 0.01]"
   ]
  },
  {
   "cell_type": "markdown",
   "id": "6124d1b8",
   "metadata": {},
   "source": [
    "### array indexing"
   ]
  },
  {
   "cell_type": "code",
   "execution_count": null,
   "id": "dfab80e7",
   "metadata": {},
   "outputs": [],
   "source": [
    "\n",
    "arr = np.array([[1, 2, 3],\n",
    "                [4, 5, 6],\n",
    "                [7, 8, 9]])\n",
    "\n",
    "arr[0:1, 1:]                          # array([[2, 3]])"
   ]
  },
  {
   "cell_type": "markdown",
   "id": "0a36fe84",
   "metadata": {},
   "source": [
    "### filtering"
   ]
  },
  {
   "cell_type": "code",
   "execution_count": 8,
   "id": "a92937dc",
   "metadata": {},
   "outputs": [
    {
     "name": "stdout",
     "output_type": "stream",
     "text": [
      "[[False False  True]\n",
      " [False  True False]\n",
      " [ True False False]]\n"
     ]
    }
   ],
   "source": [
    "arr = np.array([[0, 2, np.nan],\n",
    "                [1, np.nan, -6],\n",
    "                [np.nan, -2, 1]])\n",
    "\n",
    "print(np.isnan(arr))"
   ]
  },
  {
   "cell_type": "markdown",
   "id": "b2d176f0",
   "metadata": {},
   "source": [
    "### argmin & argmax"
   ]
  },
  {
   "cell_type": "code",
   "execution_count": null,
   "id": "6d5c643f",
   "metadata": {},
   "outputs": [],
   "source": [
    "arr = np.array([[-2, -1, -3],\n",
    "                [4, 5, -6],\n",
    "                [-3, 9, 1]])\n",
    "\n",
    "\n",
    "\n",
    "print(np.argmin(arr[0]))   # 2\n",
    "print(np.argmin(arr))      # 5\n",
    "\n",
    "print(np.argmin(arr[:,1]))  # 0 \n",
    "\n",
    "print(repr(np.argmin(arr, axis=0)))    # array([2, 0, 1])\n",
    "print(repr(np.argmin(arr, axis=1)))    # array([2, 2, 0])\n",
    "print(repr(np.argmax(arr, axis=-1)))   # array([1, 1, 1])"
   ]
  },
  {
   "cell_type": "markdown",
   "id": "55d735c1",
   "metadata": {},
   "source": [
    "### concatenate"
   ]
  },
  {
   "cell_type": "code",
   "execution_count": 11,
   "id": "8e88a0cd",
   "metadata": {},
   "outputs": [
    {
     "name": "stdout",
     "output_type": "stream",
     "text": [
      "array([[  0,  72,   3],\n",
      "       [  1,   3, -60],\n",
      "       [ -3,  -2,   4],\n",
      "       [-15,   6,   1],\n",
      "       [  8,   9,  -4],\n",
      "       [  5, -21,  18]])\n",
      "\n",
      "array([[  0,  72,   3, -15,   6,   1],\n",
      "       [  1,   3, -60,   8,   9,  -4],\n",
      "       [ -3,  -2,   4,   5, -21,  18]])\n"
     ]
    }
   ],
   "source": [
    "arr1 = np.array([[0, 72, 3],\n",
    "                 [1, 3, -60],\n",
    "                 [-3, -2, 4]])\n",
    "\n",
    "arr2 = np.array([[-15, 6, 1],\n",
    "                 [8, 9, -4],\n",
    "                 [5, -21, 18]])\n",
    "\n",
    "print(repr(np.concatenate([arr1, arr2])))\n",
    "print()\n",
    "print(repr(np.concatenate([arr1, arr2], axis=1)))\n",
    "\n"
   ]
  },
  {
   "cell_type": "markdown",
   "id": "832fac0a",
   "metadata": {},
   "source": [
    "### operations along an axis"
   ]
  },
  {
   "cell_type": "code",
   "execution_count": 12,
   "id": "2c0a13e1",
   "metadata": {},
   "outputs": [
    {
     "name": "stdout",
     "output_type": "stream",
     "text": [
      "18\n",
      "array([ -2,  73, -53])\n",
      "array([ 75, -56,  -1])\n"
     ]
    }
   ],
   "source": [
    "# np.sum\n",
    "arr = np.array([[0, 72, 3],\n",
    "                [1, 3, -60],\n",
    "                [-3, -2, 4]])\n",
    "\n",
    "print(np.sum(arr))   \n",
    "print(repr(np.sum(arr, axis=0)))    # array([ -2,  73, -53])    \n",
    "print(repr(np.sum(arr, axis=1)))    # array([ -2,  73, -53])"
   ]
  },
  {
   "cell_type": "markdown",
   "id": "a58c6a66",
   "metadata": {},
   "source": [
    "### np.where\n",
    "\n",
    "```\n",
    "The interesting thing about np.where is that it must be applied with exactly 1 or 3 arguments. When we use 3 arguments, the first argument is still the boolean array. However, the next two arguments represent the True replacement values and the False replacement values,\n",
    "\n",
    "Note that our second and third arguments necessarily had the same shape as the first argument. However, if we wanted to use a constant replacement value, e.g. -1, we could incorporate broadcasting. Rather than using an entire array of the same value, we can just use the value itself as an argument.\n",
    "\n",
    "```"
   ]
  },
  {
   "cell_type": "code",
   "execution_count": null,
   "id": "17e84a30",
   "metadata": {},
   "outputs": [],
   "source": [
    "arr = np.array([[0, 2, 3],\n",
    "                [1, 0, 0],\n",
    "                [-3, 0, 1]])\n",
    "\n",
    "x_ind, y_ind = np.where(arr == 0)  "
   ]
  },
  {
   "cell_type": "code",
   "execution_count": null,
   "id": "9616e2e1",
   "metadata": {},
   "outputs": [],
   "source": [
    "np_filter = np.array([[True, False], [False, True]])\n",
    "positives = np.array([[1, 2], [3, 4]])\n",
    "negatives = np.array([[-2, -5], [-1, -8]])\n",
    "print(repr(np.where(np_filter, positives, negatives)))"
   ]
  },
  {
   "cell_type": "markdown",
   "id": "884bfb29",
   "metadata": {},
   "source": [
    "### np.any & np.all"
   ]
  },
  {
   "cell_type": "code",
   "execution_count": null,
   "id": "6ea6c606",
   "metadata": {},
   "outputs": [],
   "source": [
    "arr = np.array([[-2, -1, -3],\n",
    "                [4, 5, -6],\n",
    "                [3, 9, 1]])\n",
    "\n",
    "print(repr(np.any(arr > 0, axis=0)))   # array([ True,  True,  True])\n",
    "print(repr(np.any(arr > 0, axis=1)))   # array([False,  True,  True])\n",
    "print(repr(np.all(arr > 0, axis=1)))   # array([False, False,  True])\n"
   ]
  },
  {
   "cell_type": "markdown",
   "id": "c920bf83",
   "metadata": {},
   "source": [
    "### np.cumsum"
   ]
  },
  {
   "cell_type": "code",
   "execution_count": null,
   "id": "982ef80e",
   "metadata": {},
   "outputs": [],
   "source": [
    "arr = np.array([[0, 72, 3],\n",
    "                [1, 3, -60],\n",
    "                [-3, -2, 4]])\n",
    "print(repr(np.cumsum(arr)))\n",
    "print(repr(np.cumsum(arr, axis=0)))\n",
    "print(repr(np.cumsum(arr, axis=1)))"
   ]
  },
  {
   "cell_type": "markdown",
   "id": "164d0f9e",
   "metadata": {},
   "source": [
    "### statistics"
   ]
  },
  {
   "cell_type": "code",
   "execution_count": 14,
   "id": "fe5cb263",
   "metadata": {},
   "outputs": [
    {
     "data": {
      "text/plain": [
       "31.262330900515614"
      ]
     },
     "execution_count": 14,
     "metadata": {},
     "output_type": "execute_result"
    }
   ],
   "source": [
    "arr.min()\n",
    "arr.std()"
   ]
  },
  {
   "cell_type": "code",
   "execution_count": null,
   "id": "d29a7356",
   "metadata": {},
   "outputs": [],
   "source": []
  },
  {
   "cell_type": "markdown",
   "id": "c7134d75",
   "metadata": {},
   "source": [
    "## EXERCISES"
   ]
  },
  {
   "cell_type": "markdown",
   "id": "afbbaa7d",
   "metadata": {},
   "source": [
    "Create a 5x5 matrix with values 1,2,3,4 just below the diagonal"
   ]
  },
  {
   "cell_type": "code",
   "execution_count": null,
   "id": "e3c07d3c",
   "metadata": {},
   "outputs": [],
   "source": [
    "z = np.zeros((5,5), dtype = np.int32)\n",
    "\n",
    "for i in range(5):\n",
    "    for j in range(5):\n",
    "        if j - i == -1:\n",
    "            z[i,j] = i \n",
    "            \n",
    "print(z) "
   ]
  },
  {
   "cell_type": "markdown",
   "id": "53a8e1b1",
   "metadata": {},
   "source": [
    "Create a 8x8 matrix and fill it with a checkerboard pattern"
   ]
  },
  {
   "cell_type": "code",
   "execution_count": null,
   "id": "852883d7",
   "metadata": {},
   "outputs": [],
   "source": [
    "Z1 = np.zeros((8,8), dtype = np.uint8)\n",
    "\n",
    "box = 0 \n",
    "for i in range(8):\n",
    "    for j in range(8):\n",
    "        if (i+j)%2 !=0 :\n",
    "            Z1[i,j] = 1\n",
    "\n",
    "print(Z1)\n",
    "print()\n",
    "\n",
    "Z2 = np.zeros((8,8),dtype=int)\n",
    "\n",
    "Z2[1::2,::2] = 1\n",
    "Z2[::2,1::2] = 1\n",
    "\n",
    "print(Z2)\n",
    "\n",
    "Z1 == Z2"
   ]
  },
  {
   "cell_type": "markdown",
   "id": "323e08c4",
   "metadata": {},
   "source": [
    "Consider a (6,7,8) shape array, what is the index (x,y,z) of the 100th element"
   ]
  },
  {
   "cell_type": "code",
   "execution_count": 18,
   "id": "0c725f9d",
   "metadata": {},
   "outputs": [],
   "source": [
    "np.unravel_index(99,(6,7,8))"
   ]
  },
  {
   "cell_type": "markdown",
   "id": "1a3dfcb0",
   "metadata": {},
   "source": [
    "Create a checkerboard 8x8 matrix using the tile function"
   ]
  },
  {
   "cell_type": "code",
   "execution_count": null,
   "id": "259d3d72",
   "metadata": {},
   "outputs": [],
   "source": [
    "z = np.array([[0,1],[1,0]])\n",
    "Z = np.tile(z,(4,4))\n"
   ]
  },
  {
   "cell_type": "markdown",
   "id": "54734938",
   "metadata": {},
   "source": [
    "Normalize a 5x5 random matrix "
   ]
  },
  {
   "cell_type": "code",
   "execution_count": null,
   "id": "b9eb9ab7",
   "metadata": {},
   "outputs": [],
   "source": [
    "Z = np.random.random((5,5))Z\n",
    "Z = (Z - Z.mean())/Z.std()\n",
    "\n",
    "Z = (Z - np.mean (Z)) / (np.std (Z))"
   ]
  },
  {
   "cell_type": "markdown",
   "id": "72a91129",
   "metadata": {},
   "source": [
    "Given a 1D array, negate all elements which are between 3 and 8, in place"
   ]
  },
  {
   "cell_type": "code",
   "execution_count": 20,
   "id": "4404ad74",
   "metadata": {},
   "outputs": [],
   "source": [
    "Z1 = np.random.random(10)\n",
    "\n",
    "Z2 = np.array([-x if  x < 8.0 and x > 3 else x for x in list(Z)])"
   ]
  },
  {
   "cell_type": "markdown",
   "id": "1f0b6ba5",
   "metadata": {},
   "source": [
    "How to round away from zero a float array"
   ]
  },
  {
   "cell_type": "code",
   "execution_count": null,
   "id": "9f7587b6",
   "metadata": {},
   "outputs": [],
   "source": [
    "Z = np.random.uniform(low=-1, high=1, size=(10,))\n",
    "Z = np.random.normal(loc=-1, scale=1, size=(10,))\n",
    "\n",
    "print(np.where(Z>0, np.ceil(Z), np.floor(Z)))"
   ]
  },
  {
   "cell_type": "markdown",
   "id": "5fa42805",
   "metadata": {},
   "source": [
    "How to find common values between two arrays"
   ]
  },
  {
   "cell_type": "code",
   "execution_count": null,
   "id": "45ee3212",
   "metadata": {},
   "outputs": [],
   "source": [
    "Z1 = np.random.randint(low=0, high=10, size=(10,))\n",
    "Z2 = np.random.randint(low=0, high=10, size=(10,))\n",
    "\n",
    "print(Z1[Z1==Z2])               # matches only at same index\n",
    "print(np.intersect1d(Z1,Z2))    # finds intesection "
   ]
  },
  {
   "cell_type": "markdown",
   "id": "fff952f6",
   "metadata": {},
   "source": [
    "How to get the dates of yesterday, today and tomorrow"
   ]
  },
  {
   "cell_type": "code",
   "execution_count": null,
   "id": "77bce40b",
   "metadata": {},
   "outputs": [],
   "source": [
    "yesterday = np.datetime64(\"today\") - np.timedelta64(1)\n",
    "today = np.datetime64(\"today\")\n",
    "tomorrow = np.datetime64(\"today\") + np.timedelta64(1)"
   ]
  },
  {
   "cell_type": "markdown",
   "id": "62a7a996",
   "metadata": {},
   "source": [
    "How to get all the dates corresponding to the month of July 2016"
   ]
  },
  {
   "cell_type": "code",
   "execution_count": null,
   "id": "f9ab1b4d",
   "metadata": {},
   "outputs": [],
   "source": [
    "Z = np.arange('2016-07', '2016-08', dtype='datetime64[D]')\n",
    "print(Z)"
   ]
  },
  {
   "cell_type": "markdown",
   "id": "bf69ba59",
   "metadata": {},
   "source": [
    "Create a 5x5 matrix with row values ranging from 0 to 4 "
   ]
  },
  {
   "cell_type": "code",
   "execution_count": null,
   "id": "d03f2e59",
   "metadata": {},
   "outputs": [],
   "source": [
    "Z = np.zeros((5,5))\n",
    "Z += np.arange(5)\n",
    "print(Z)\n",
    "\n",
    "# without broadcasting\n",
    "Z = np.tile(np.arange(0, 5), (5,1))\n",
    "print(Z)"
   ]
  },
  {
   "cell_type": "markdown",
   "id": "0ce1cafe",
   "metadata": {},
   "source": [
    "convert to polar coordinates"
   ]
  },
  {
   "cell_type": "code",
   "execution_count": null,
   "id": "4e7eca8a",
   "metadata": {},
   "outputs": [],
   "source": [
    "Z = np.random.random((10,2))\n",
    "X,Y = Z[:,0], Z[:,1]\n",
    "\n",
    "R = np.sqrt(X**2 + Y**2)\n",
    "T = np.arctan2(Y,X)\n",
    "\n",
    "print(R)\n",
    "print(T)"
   ]
  },
  {
   "cell_type": "markdown",
   "id": "5e93c087",
   "metadata": {},
   "source": [
    "Create random vector of size 10 and replace the maximum value by 0 "
   ]
  },
  {
   "cell_type": "code",
   "execution_count": null,
   "id": "38ffb313",
   "metadata": {},
   "outputs": [],
   "source": [
    "Z = np.random.random(10)\n",
    "Z[Z.argmax()] = 0"
   ]
  },
  {
   "cell_type": "markdown",
   "id": "40577175",
   "metadata": {},
   "source": [
    "equivalent of enumerate for numpy arrays"
   ]
  },
  {
   "cell_type": "code",
   "execution_count": null,
   "id": "07863e3b",
   "metadata": {},
   "outputs": [],
   "source": [
    "for index, value in np.ndenumerate(Z):\n",
    "    print(index, value)"
   ]
  },
  {
   "cell_type": "markdown",
   "id": "63a47d3d",
   "metadata": {},
   "source": [
    "Generate a generic 2D Gaussian-like array "
   ]
  },
  {
   "cell_type": "code",
   "execution_count": null,
   "id": "230d32a8",
   "metadata": {},
   "outputs": [],
   "source": [
    "X,Y = np.meshgrid(np.linspace(-1,1,10), np.linspace(-1,1,10))\n",
    "\n",
    "D = np.sqrt(X*X+Y*Y)\n",
    "\n",
    "sigma, mu = 1.0, 0.0\n",
    "\n",
    "G = np.exp(-( (D-mu)**2 / ( 2.0 * sigma**2 ) ) )"
   ]
  },
  {
   "cell_type": "markdown",
   "id": "75f22efd",
   "metadata": {},
   "source": [
    "Subtract the mean of each row of a matrix"
   ]
  },
  {
   "cell_type": "code",
   "execution_count": null,
   "id": "fc085c98",
   "metadata": {},
   "outputs": [],
   "source": [
    "X = np.random.rand(5, 10)\n",
    "\n",
    "# Recent versions of numpy\n",
    "Y = X - X.mean(axis=1, keepdims=True)\n",
    "\n",
    "# Older versions of numpy\n",
    "Y = X - X.mean(axis=1).reshape(-1, 1)"
   ]
  },
  {
   "cell_type": "markdown",
   "id": "82bbfbac",
   "metadata": {},
   "source": [
    "How to sort an array by the nth column"
   ]
  },
  {
   "cell_type": "code",
   "execution_count": null,
   "id": "d966c483",
   "metadata": {},
   "outputs": [],
   "source": [
    "Z = np.random.randint(0,10,(3,3))\n",
    "print(Z)\n",
    "print()\n",
    "\n",
    "print(Z[Z[:,1].argsort()])\n",
    "Z[:,1].argsort()"
   ]
  },
  {
   "cell_type": "markdown",
   "id": "4e5ca604",
   "metadata": {},
   "source": [
    "How to tell if a given 2D array has null columns"
   ]
  },
  {
   "cell_type": "code",
   "execution_count": null,
   "id": "e9c74d2c",
   "metadata": {},
   "outputs": [],
   "source": [
    "Z = np.random.randint(0,3,(3,10))\n",
    "print((~Z.any(axis=0)).any())"
   ]
  },
  {
   "cell_type": "markdown",
   "id": "36495f7e",
   "metadata": {},
   "source": [
    "Find the nearest value from a given value in an array"
   ]
  },
  {
   "cell_type": "code",
   "execution_count": null,
   "id": "712c47bc",
   "metadata": {},
   "outputs": [],
   "source": [
    "Z = np.random.uniform(0,1,10)\n",
    "z = 0.5\n",
    "\n",
    "print(Z)\n",
    "\n",
    "m = Z[np.abs(Z - z).argmin()]\n",
    "print(m)\n",
    "\n",
    "# np.abs(Z - z).argmin()"
   ]
  },
  {
   "cell_type": "markdown",
   "id": "c822fcef",
   "metadata": {},
   "source": [
    "Considering a four dimensions array, how to get sum over the last two axis at once"
   ]
  },
  {
   "cell_type": "code",
   "execution_count": null,
   "id": "132f8de0",
   "metadata": {},
   "outputs": [],
   "source": [
    "A = np.random.randint(0,10,(3,4,3,4))\n",
    "\n",
    "sum = A.sum(axis=(-2,-1))\n",
    "print(sum)"
   ]
  },
  {
   "cell_type": "markdown",
   "id": "3fbe9621",
   "metadata": {},
   "source": [
    "How to swap two rows of an array"
   ]
  },
  {
   "cell_type": "code",
   "execution_count": null,
   "id": "001c200a",
   "metadata": {},
   "outputs": [],
   "source": [
    "A = np.random.random((5,3))\n",
    "\n",
    "i = 1\n",
    "j = 3\n",
    "\n",
    "B = A.copy()\n",
    "B[j,:],B[i,:] = A[i,:],A[j,:]\n",
    "print(B)\n",
    "\n",
    "\n",
    "A[[i,j]] = A[[j,i]]\n",
    "print(A==B)"
   ]
  }
 ],
 "metadata": {
  "kernelspec": {
   "display_name": "Python 3 (ipykernel)",
   "language": "python",
   "name": "python3"
  },
  "language_info": {
   "codemirror_mode": {
    "name": "ipython",
    "version": 3
   },
   "file_extension": ".py",
   "mimetype": "text/x-python",
   "name": "python",
   "nbconvert_exporter": "python",
   "pygments_lexer": "ipython3",
   "version": "3.8.10"
  }
 },
 "nbformat": 4,
 "nbformat_minor": 5
}
