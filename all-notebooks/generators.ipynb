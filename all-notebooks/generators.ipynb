{
 "cells": [
  {
   "cell_type": "code",
   "execution_count": null,
   "id": "fdd1c978",
   "metadata": {},
   "outputs": [],
   "source": [
    "class Gen:\n",
    "    def __init__(self, num):\n",
    "        self.num = num\n",
    "        self.last = 0\n",
    "        \n",
    "    def __next__(self):\n",
    "        return self.next()\n",
    "    \n",
    "    def next(self):\n",
    "        if self.last == self.num:\n",
    "            raise StopIteration()\n",
    "            \n",
    "        rv = self.last**2\n",
    "        self.last += 1 \n",
    "        return rv \n",
    "    \n",
    "    \n",
    "g = Gen(10000)    \n",
    "\n",
    "while True:\n",
    "    try:\n",
    "        print(next(g))\n",
    "    except StopIteration:\n",
    "        break\n",
    "                "
   ]
  },
  {
   "cell_type": "code",
   "execution_count": 3,
   "id": "50787372",
   "metadata": {},
   "outputs": [
    {
     "name": "stdout",
     "output_type": "stream",
     "text": [
      "0\n",
      "1\n",
      "4\n"
     ]
    }
   ],
   "source": [
    "def  gen(n):\n",
    "    for i in range(n):\n",
    "        yield i**2\n",
    "        \n",
    "g = gen(100)        \n",
    "        \n",
    "print(next(g))        \n",
    "print(next(g))      \n",
    "print(next(g))      "
   ]
  },
  {
   "cell_type": "code",
   "execution_count": 4,
   "id": "d6829600",
   "metadata": {},
   "outputs": [
    {
     "name": "stdout",
     "output_type": "stream",
     "text": [
      "1\n",
      "100\n",
      "1000\n"
     ]
    }
   ],
   "source": [
    "def  gen(n):\n",
    "    yield 1\n",
    "    yield 100\n",
    "    yield 1000\n",
    "    yield 10000\n",
    "    \n",
    "g = gen(100)        \n",
    "        \n",
    "print(next(g))        \n",
    "print(next(g))      \n",
    "print(next(g))         "
   ]
  },
  {
   "cell_type": "markdown",
   "id": "de32bc45",
   "metadata": {},
   "source": [
    "https://github.com/milaan9/07_Python_Advanced_Topics/blob/main/002_Python_Generators.ipynb"
   ]
  },
  {
   "cell_type": "code",
   "execution_count": null,
   "id": "309b01c8",
   "metadata": {},
   "outputs": [],
   "source": []
  }
 ],
 "metadata": {
  "kernelspec": {
   "display_name": "Python 3 (ipykernel)",
   "language": "python",
   "name": "python3"
  },
  "language_info": {
   "codemirror_mode": {
    "name": "ipython",
    "version": 3
   },
   "file_extension": ".py",
   "mimetype": "text/x-python",
   "name": "python",
   "nbconvert_exporter": "python",
   "pygments_lexer": "ipython3",
   "version": "3.8.10"
  }
 },
 "nbformat": 4,
 "nbformat_minor": 5
}
