{
 "cells": [
  {
   "cell_type": "code",
   "execution_count": 4,
   "id": "a98f5d05",
   "metadata": {},
   "outputs": [],
   "source": [
    "import pandas as pd\n",
    "import numpy as np\n",
    "\n",
    "import matplotlib.pyplot as plt"
   ]
  },
  {
   "cell_type": "markdown",
   "id": "76091064",
   "metadata": {},
   "source": [
    "### Data"
   ]
  },
  {
   "cell_type": "code",
   "execution_count": 5,
   "id": "78eba754",
   "metadata": {},
   "outputs": [],
   "source": [
    "data = { \"artist\" : [\"The Beatles\", \"Pink Floyd\", \"Metallica\",\"Cairokee\", \"ACDC\",\n",
    "                     \"The Doors\",\"Poets of The Fall\"],\n",
    "       \"country\" : [\"UK\", \"UK\", \"US\",\"Egypt\",\"US\",\"US\",\"Finland\"],\n",
    "       \"plays\" : [150,10000,500,200,250,1000,250],\n",
    "       \"genre\" : [\"rock\",\"rock\",\"metal\", \"rock\",\"rock\",\"rock\",\"rock\"]}\n",
    "\n",
    "df = pd.DataFrame(data)"
   ]
  },
  {
   "cell_type": "markdown",
   "id": "d200838a",
   "metadata": {},
   "source": [
    "### Filtering"
   ]
  },
  {
   "cell_type": "code",
   "execution_count": 6,
   "id": "924a82bc",
   "metadata": {},
   "outputs": [
    {
     "data": {
      "text/html": [
       "<div>\n",
       "<style scoped>\n",
       "    .dataframe tbody tr th:only-of-type {\n",
       "        vertical-align: middle;\n",
       "    }\n",
       "\n",
       "    .dataframe tbody tr th {\n",
       "        vertical-align: top;\n",
       "    }\n",
       "\n",
       "    .dataframe thead th {\n",
       "        text-align: right;\n",
       "    }\n",
       "</style>\n",
       "<table border=\"1\" class=\"dataframe\">\n",
       "  <thead>\n",
       "    <tr style=\"text-align: right;\">\n",
       "      <th></th>\n",
       "      <th>artist</th>\n",
       "      <th>country</th>\n",
       "      <th>plays</th>\n",
       "      <th>genre</th>\n",
       "    </tr>\n",
       "  </thead>\n",
       "  <tbody>\n",
       "    <tr>\n",
       "      <th>0</th>\n",
       "      <td>The Beatles</td>\n",
       "      <td>UK</td>\n",
       "      <td>150</td>\n",
       "      <td>rock</td>\n",
       "    </tr>\n",
       "    <tr>\n",
       "      <th>1</th>\n",
       "      <td>Pink Floyd</td>\n",
       "      <td>UK</td>\n",
       "      <td>10000</td>\n",
       "      <td>rock</td>\n",
       "    </tr>\n",
       "  </tbody>\n",
       "</table>\n",
       "</div>"
      ],
      "text/plain": [
       "        artist country  plays genre\n",
       "0  The Beatles      UK    150  rock\n",
       "1   Pink Floyd      UK  10000  rock"
      ]
     },
     "metadata": {},
     "output_type": "display_data"
    },
    {
     "data": {
      "text/html": [
       "<div>\n",
       "<style scoped>\n",
       "    .dataframe tbody tr th:only-of-type {\n",
       "        vertical-align: middle;\n",
       "    }\n",
       "\n",
       "    .dataframe tbody tr th {\n",
       "        vertical-align: top;\n",
       "    }\n",
       "\n",
       "    .dataframe thead th {\n",
       "        text-align: right;\n",
       "    }\n",
       "</style>\n",
       "<table border=\"1\" class=\"dataframe\">\n",
       "  <thead>\n",
       "    <tr style=\"text-align: right;\">\n",
       "      <th></th>\n",
       "      <th>artist</th>\n",
       "      <th>country</th>\n",
       "      <th>plays</th>\n",
       "      <th>genre</th>\n",
       "    </tr>\n",
       "  </thead>\n",
       "  <tbody>\n",
       "    <tr>\n",
       "      <th>1</th>\n",
       "      <td>Pink Floyd</td>\n",
       "      <td>UK</td>\n",
       "      <td>10000</td>\n",
       "      <td>rock</td>\n",
       "    </tr>\n",
       "    <tr>\n",
       "      <th>3</th>\n",
       "      <td>Cairokee</td>\n",
       "      <td>Egypt</td>\n",
       "      <td>200</td>\n",
       "      <td>rock</td>\n",
       "    </tr>\n",
       "    <tr>\n",
       "      <th>4</th>\n",
       "      <td>ACDC</td>\n",
       "      <td>US</td>\n",
       "      <td>250</td>\n",
       "      <td>rock</td>\n",
       "    </tr>\n",
       "    <tr>\n",
       "      <th>5</th>\n",
       "      <td>The Doors</td>\n",
       "      <td>US</td>\n",
       "      <td>1000</td>\n",
       "      <td>rock</td>\n",
       "    </tr>\n",
       "    <tr>\n",
       "      <th>6</th>\n",
       "      <td>Poets of The Fall</td>\n",
       "      <td>Finland</td>\n",
       "      <td>250</td>\n",
       "      <td>rock</td>\n",
       "    </tr>\n",
       "  </tbody>\n",
       "</table>\n",
       "</div>"
      ],
      "text/plain": [
       "              artist  country  plays genre\n",
       "1         Pink Floyd       UK  10000  rock\n",
       "3           Cairokee    Egypt    200  rock\n",
       "4               ACDC       US    250  rock\n",
       "5          The Doors       US   1000  rock\n",
       "6  Poets of The Fall  Finland    250  rock"
      ]
     },
     "metadata": {},
     "output_type": "display_data"
    },
    {
     "data": {
      "text/html": [
       "<div>\n",
       "<style scoped>\n",
       "    .dataframe tbody tr th:only-of-type {\n",
       "        vertical-align: middle;\n",
       "    }\n",
       "\n",
       "    .dataframe tbody tr th {\n",
       "        vertical-align: top;\n",
       "    }\n",
       "\n",
       "    .dataframe thead th {\n",
       "        text-align: right;\n",
       "    }\n",
       "</style>\n",
       "<table border=\"1\" class=\"dataframe\">\n",
       "  <thead>\n",
       "    <tr style=\"text-align: right;\">\n",
       "      <th></th>\n",
       "      <th>artist</th>\n",
       "      <th>country</th>\n",
       "      <th>plays</th>\n",
       "      <th>genre</th>\n",
       "    </tr>\n",
       "  </thead>\n",
       "  <tbody>\n",
       "    <tr>\n",
       "      <th>0</th>\n",
       "      <td>The Beatles</td>\n",
       "      <td>UK</td>\n",
       "      <td>150</td>\n",
       "      <td>rock</td>\n",
       "    </tr>\n",
       "    <tr>\n",
       "      <th>1</th>\n",
       "      <td>Pink Floyd</td>\n",
       "      <td>UK</td>\n",
       "      <td>10000</td>\n",
       "      <td>rock</td>\n",
       "    </tr>\n",
       "    <tr>\n",
       "      <th>3</th>\n",
       "      <td>Cairokee</td>\n",
       "      <td>Egypt</td>\n",
       "      <td>200</td>\n",
       "      <td>rock</td>\n",
       "    </tr>\n",
       "    <tr>\n",
       "      <th>4</th>\n",
       "      <td>ACDC</td>\n",
       "      <td>US</td>\n",
       "      <td>250</td>\n",
       "      <td>rock</td>\n",
       "    </tr>\n",
       "    <tr>\n",
       "      <th>6</th>\n",
       "      <td>Poets of The Fall</td>\n",
       "      <td>Finland</td>\n",
       "      <td>250</td>\n",
       "      <td>rock</td>\n",
       "    </tr>\n",
       "  </tbody>\n",
       "</table>\n",
       "</div>"
      ],
      "text/plain": [
       "              artist  country  plays genre\n",
       "0        The Beatles       UK    150  rock\n",
       "1         Pink Floyd       UK  10000  rock\n",
       "3           Cairokee    Egypt    200  rock\n",
       "4               ACDC       US    250  rock\n",
       "6  Poets of The Fall  Finland    250  rock"
      ]
     },
     "metadata": {},
     "output_type": "display_data"
    },
    {
     "data": {
      "text/html": [
       "<div>\n",
       "<style scoped>\n",
       "    .dataframe tbody tr th:only-of-type {\n",
       "        vertical-align: middle;\n",
       "    }\n",
       "\n",
       "    .dataframe tbody tr th {\n",
       "        vertical-align: top;\n",
       "    }\n",
       "\n",
       "    .dataframe thead th {\n",
       "        text-align: right;\n",
       "    }\n",
       "</style>\n",
       "<table border=\"1\" class=\"dataframe\">\n",
       "  <thead>\n",
       "    <tr style=\"text-align: right;\">\n",
       "      <th></th>\n",
       "      <th>artist</th>\n",
       "      <th>country</th>\n",
       "      <th>plays</th>\n",
       "      <th>genre</th>\n",
       "    </tr>\n",
       "  </thead>\n",
       "  <tbody>\n",
       "    <tr>\n",
       "      <th>0</th>\n",
       "      <td>The Beatles</td>\n",
       "      <td>UK</td>\n",
       "      <td>150</td>\n",
       "      <td>rock</td>\n",
       "    </tr>\n",
       "    <tr>\n",
       "      <th>1</th>\n",
       "      <td>Pink Floyd</td>\n",
       "      <td>UK</td>\n",
       "      <td>10000</td>\n",
       "      <td>rock</td>\n",
       "    </tr>\n",
       "    <tr>\n",
       "      <th>2</th>\n",
       "      <td>Metallica</td>\n",
       "      <td>US</td>\n",
       "      <td>500</td>\n",
       "      <td>metal</td>\n",
       "    </tr>\n",
       "    <tr>\n",
       "      <th>4</th>\n",
       "      <td>ACDC</td>\n",
       "      <td>US</td>\n",
       "      <td>250</td>\n",
       "      <td>rock</td>\n",
       "    </tr>\n",
       "    <tr>\n",
       "      <th>5</th>\n",
       "      <td>The Doors</td>\n",
       "      <td>US</td>\n",
       "      <td>1000</td>\n",
       "      <td>rock</td>\n",
       "    </tr>\n",
       "  </tbody>\n",
       "</table>\n",
       "</div>"
      ],
      "text/plain": [
       "        artist country  plays  genre\n",
       "0  The Beatles      UK    150   rock\n",
       "1   Pink Floyd      UK  10000   rock\n",
       "2    Metallica      US    500  metal\n",
       "4         ACDC      US    250   rock\n",
       "5    The Doors      US   1000   rock"
      ]
     },
     "metadata": {},
     "output_type": "display_data"
    },
    {
     "data": {
      "text/html": [
       "<div>\n",
       "<style scoped>\n",
       "    .dataframe tbody tr th:only-of-type {\n",
       "        vertical-align: middle;\n",
       "    }\n",
       "\n",
       "    .dataframe tbody tr th {\n",
       "        vertical-align: top;\n",
       "    }\n",
       "\n",
       "    .dataframe thead th {\n",
       "        text-align: right;\n",
       "    }\n",
       "</style>\n",
       "<table border=\"1\" class=\"dataframe\">\n",
       "  <thead>\n",
       "    <tr style=\"text-align: right;\">\n",
       "      <th></th>\n",
       "      <th>artist</th>\n",
       "      <th>country</th>\n",
       "      <th>plays</th>\n",
       "      <th>genre</th>\n",
       "    </tr>\n",
       "  </thead>\n",
       "  <tbody>\n",
       "    <tr>\n",
       "      <th>1</th>\n",
       "      <td>Pink Floyd</td>\n",
       "      <td>UK</td>\n",
       "      <td>10000</td>\n",
       "      <td>rock</td>\n",
       "    </tr>\n",
       "    <tr>\n",
       "      <th>2</th>\n",
       "      <td>Metallica</td>\n",
       "      <td>US</td>\n",
       "      <td>500</td>\n",
       "      <td>metal</td>\n",
       "    </tr>\n",
       "    <tr>\n",
       "      <th>3</th>\n",
       "      <td>Cairokee</td>\n",
       "      <td>Egypt</td>\n",
       "      <td>200</td>\n",
       "      <td>rock</td>\n",
       "    </tr>\n",
       "    <tr>\n",
       "      <th>4</th>\n",
       "      <td>ACDC</td>\n",
       "      <td>US</td>\n",
       "      <td>250</td>\n",
       "      <td>rock</td>\n",
       "    </tr>\n",
       "    <tr>\n",
       "      <th>5</th>\n",
       "      <td>The Doors</td>\n",
       "      <td>US</td>\n",
       "      <td>1000</td>\n",
       "      <td>rock</td>\n",
       "    </tr>\n",
       "    <tr>\n",
       "      <th>6</th>\n",
       "      <td>Poets of The Fall</td>\n",
       "      <td>Finland</td>\n",
       "      <td>250</td>\n",
       "      <td>rock</td>\n",
       "    </tr>\n",
       "  </tbody>\n",
       "</table>\n",
       "</div>"
      ],
      "text/plain": [
       "              artist  country  plays  genre\n",
       "1         Pink Floyd       UK  10000   rock\n",
       "2          Metallica       US    500  metal\n",
       "3           Cairokee    Egypt    200   rock\n",
       "4               ACDC       US    250   rock\n",
       "5          The Doors       US   1000   rock\n",
       "6  Poets of The Fall  Finland    250   rock"
      ]
     },
     "metadata": {},
     "output_type": "display_data"
    }
   ],
   "source": [
    "uk_artists = df[df['country']=='UK']\n",
    "display(uk_artists)\n",
    "\n",
    "out = df[(df['genre']=='rock') & (df['plays']>=200)]\n",
    "display(out)\n",
    "\n",
    "out = df[~((df.country=='US') & (df.plays >= 500))]\n",
    "display(out)\n",
    "\n",
    "out = df[df[\"country\"].isin([\"US\",\"UK\"]) ]\n",
    "display(out)\n",
    "\n",
    "out = df[((df['country']=='UK') & (df['plays'] > 200) ) \\\n",
    "         | ((df['country']!='UK') &( df['plays'] > 100))]\n",
    "display(out)"
   ]
  },
  {
   "cell_type": "markdown",
   "id": "c690ec4b",
   "metadata": {},
   "source": [
    "### String filters"
   ]
  },
  {
   "cell_type": "code",
   "execution_count": 7,
   "id": "98f202b2",
   "metadata": {},
   "outputs": [
    {
     "data": {
      "text/html": [
       "<div>\n",
       "<style scoped>\n",
       "    .dataframe tbody tr th:only-of-type {\n",
       "        vertical-align: middle;\n",
       "    }\n",
       "\n",
       "    .dataframe tbody tr th {\n",
       "        vertical-align: top;\n",
       "    }\n",
       "\n",
       "    .dataframe thead th {\n",
       "        text-align: right;\n",
       "    }\n",
       "</style>\n",
       "<table border=\"1\" class=\"dataframe\">\n",
       "  <thead>\n",
       "    <tr style=\"text-align: right;\">\n",
       "      <th></th>\n",
       "      <th>artist</th>\n",
       "      <th>country</th>\n",
       "      <th>plays</th>\n",
       "      <th>genre</th>\n",
       "    </tr>\n",
       "  </thead>\n",
       "  <tbody>\n",
       "    <tr>\n",
       "      <th>0</th>\n",
       "      <td>The Beatles</td>\n",
       "      <td>UK</td>\n",
       "      <td>150</td>\n",
       "      <td>rock</td>\n",
       "    </tr>\n",
       "    <tr>\n",
       "      <th>6</th>\n",
       "      <td>Poets of The Fall</td>\n",
       "      <td>Finland</td>\n",
       "      <td>250</td>\n",
       "      <td>rock</td>\n",
       "    </tr>\n",
       "  </tbody>\n",
       "</table>\n",
       "</div>"
      ],
      "text/plain": [
       "              artist  country  plays genre\n",
       "0        The Beatles       UK    150  rock\n",
       "6  Poets of The Fall  Finland    250  rock"
      ]
     },
     "metadata": {},
     "output_type": "display_data"
    },
    {
     "name": "stdout",
     "output_type": "stream",
     "text": [
      "['Pink Floyd' 'Metallica' 'Cairokee' 'ACDC' 'The Doors']\n"
     ]
    }
   ],
   "source": [
    "out = df[df['artist'].str.startswith('The')]\n",
    "out = df[df.artist.str.contains('The')]\n",
    "\n",
    "out = out[out['country'].isin(['UK', 'Finland'])]\n",
    "display(out)\n",
    "\n",
    "filtered = df[(~df.country.isin(['UK', 'Finland'])) | (df.plays >= 10000)]\n",
    "print(filtered.artist.values)"
   ]
  },
  {
   "cell_type": "code",
   "execution_count": 8,
   "id": "c97aeff8",
   "metadata": {},
   "outputs": [
    {
     "name": "stdout",
     "output_type": "stream",
     "text": [
      "Overwriting music.csv\n"
     ]
    }
   ],
   "source": [
    "%%file music.csv\n",
    "artist,country,plays,genre,fans\n",
    "The Beatles,UK,150,rock,50\n",
    "Pink Floyd,UK,10000,rock,1500\n",
    "Metallica,US,500,metal,50\n",
    "Cairokee,Egypt,200,rock,10\n",
    "ACDC,US,250,rock,20\n",
    "The Doors,US,1000,rock,80\n",
    "Poets of The Fall,Finland,250,rock,10\n",
    "Megadeth,US,300,metal,20\n",
    "Iron Maiden,UK,20000,metal,3500\n",
    "Judas Priest,UK,5000,metal,1000"
   ]
  },
  {
   "cell_type": "code",
   "execution_count": 9,
   "id": "9147ec0b",
   "metadata": {},
   "outputs": [],
   "source": [
    "df = pd.read_csv('music.csv')"
   ]
  },
  {
   "cell_type": "markdown",
   "id": "b66a9e1d",
   "metadata": {},
   "source": [
    "### groupby"
   ]
  },
  {
   "cell_type": "code",
   "execution_count": 46,
   "id": "7b8a96f2",
   "metadata": {},
   "outputs": [
    {
     "name": "stdout",
     "output_type": "stream",
     "text": [
      "<pandas.core.groupby.generic.SeriesGroupBy object at 0x7f841bc00be0>\n",
      "Index(['Egypt', 'Finland', 'UK', 'US'], dtype='object', name='country')\n",
      "{'Egypt': 200, 'Finland': 250, 'UK': 35150, 'US': 2050}\n"
     ]
    }
   ],
   "source": [
    "print(df.groupby('country').plays)   # series\n",
    "print(df.groupby('country').plays.sum().index)\n",
    "print(df.groupby('country').plays.sum().to_dict())"
   ]
  },
  {
   "cell_type": "code",
   "execution_count": 47,
   "id": "8c1ae176",
   "metadata": {},
   "outputs": [
    {
     "data": {
      "text/plain": [
       "{('Egypt', 'rock'): 200,\n",
       " ('Finland', 'rock'): 250,\n",
       " ('UK', 'metal'): 25000,\n",
       " ('UK', 'rock'): 10150,\n",
       " ('US', 'metal'): 800,\n",
       " ('US', 'rock'): 1250}"
      ]
     },
     "execution_count": 47,
     "metadata": {},
     "output_type": "execute_result"
    }
   ],
   "source": [
    "df.groupby(['country', 'genre']).plays.sum().to_dict()"
   ]
  },
  {
   "cell_type": "markdown",
   "id": "a2fd5cfc",
   "metadata": {},
   "source": [
    "### reset_index"
   ]
  },
  {
   "cell_type": "code",
   "execution_count": 55,
   "id": "bac200e6",
   "metadata": {},
   "outputs": [
    {
     "name": "stdout",
     "output_type": "stream",
     "text": [
      "country\n",
      "Egypt        200\n",
      "Finland      250\n",
      "UK         35150\n",
      "US          2050\n",
      "Name: plays, dtype: int64 \n",
      "\n",
      "   country  plays\n",
      "0    Egypt    200\n",
      "1  Finland    250\n",
      "2       UK  35150\n",
      "3       US   2050 \n",
      "\n",
      "['UK' 'US']\n"
     ]
    }
   ],
   "source": [
    "non_reset = df.groupby('country').plays.sum()\n",
    "print(non_reset,\"\\n\")\n",
    "\n",
    "\n",
    "reset = df.groupby('country').plays.sum().reset_index()\n",
    "print(reset,\"\\n\")\n",
    "\n",
    "print((reset[reset.plays>1000].country.values))"
   ]
  },
  {
   "cell_type": "code",
   "execution_count": 63,
   "id": "dc67a97c",
   "metadata": {},
   "outputs": [
    {
     "name": "stdout",
     "output_type": "stream",
     "text": [
      "Index(['UK', 'US'], dtype='object', name='country')\n",
      "['UK', 'US']\n"
     ]
    }
   ],
   "source": [
    "reset = df.groupby('country').plays.sum()\n",
    "filtered = reset[reset > 1000]\n",
    "print((filtered.index))\n",
    "print(list(filtered.index))"
   ]
  },
  {
   "cell_type": "markdown",
   "id": "33af2841",
   "metadata": {},
   "source": [
    "### apply\n",
    "\n",
    "Your music analyst would like to know the ratio of plays/fans (plays per fan) to see how dedicated listeners are to artists. This comes with a twist: it should be done per nation, not per artist."
   ]
  },
  {
   "cell_type": "code",
   "execution_count": 65,
   "id": "965eaed3",
   "metadata": {},
   "outputs": [
    {
     "data": {
      "text/plain": [
       "country\n",
       "Egypt      20.000000\n",
       "Finland    25.000000\n",
       "UK          5.809917\n",
       "US         12.058824\n",
       "dtype: float64"
      ]
     },
     "execution_count": 65,
     "metadata": {},
     "output_type": "execute_result"
    }
   ],
   "source": [
    "df.groupby('country').apply(lambda x: x.plays.sum() / x.fans.sum())\n"
   ]
  },
  {
   "cell_type": "code",
   "execution_count": 66,
   "id": "a4cdeb36",
   "metadata": {},
   "outputs": [
    {
     "data": {
      "text/plain": [
       "{'Egypt': 20.0,\n",
       " 'Finland': 25.0,\n",
       " 'UK': 5.809917355371901,\n",
       " 'US': 12.058823529411764}"
      ]
     },
     "execution_count": 66,
     "metadata": {},
     "output_type": "execute_result"
    }
   ],
   "source": [
    "df.groupby('country').apply(lambda x: x.plays.sum() / x.fans.sum()).to_dict()"
   ]
  },
  {
   "cell_type": "markdown",
   "id": "b58c902b",
   "metadata": {},
   "source": [
    "### Aggregate\n",
    "\n",
    "Your music analyst is interested in knowing multiple statistics at once, grouped by country.These are as follows:\n",
    "\n",
    "- Sum of plays\n",
    "- Average of plays\n",
    "- Maximum fans from all artists in the country"
   ]
  },
  {
   "cell_type": "code",
   "execution_count": 85,
   "id": "37f67ee2",
   "metadata": {},
   "outputs": [
    {
     "data": {
      "text/html": [
       "<div>\n",
       "<style scoped>\n",
       "    .dataframe tbody tr th:only-of-type {\n",
       "        vertical-align: middle;\n",
       "    }\n",
       "\n",
       "    .dataframe tbody tr th {\n",
       "        vertical-align: top;\n",
       "    }\n",
       "\n",
       "    .dataframe thead tr th {\n",
       "        text-align: left;\n",
       "    }\n",
       "\n",
       "    .dataframe thead tr:last-of-type th {\n",
       "        text-align: right;\n",
       "    }\n",
       "</style>\n",
       "<table border=\"1\" class=\"dataframe\">\n",
       "  <thead>\n",
       "    <tr>\n",
       "      <th></th>\n",
       "      <th colspan=\"2\" halign=\"left\">plays</th>\n",
       "      <th>fans</th>\n",
       "    </tr>\n",
       "    <tr>\n",
       "      <th></th>\n",
       "      <th>sum</th>\n",
       "      <th>mean</th>\n",
       "      <th>max</th>\n",
       "    </tr>\n",
       "    <tr>\n",
       "      <th>country</th>\n",
       "      <th></th>\n",
       "      <th></th>\n",
       "      <th></th>\n",
       "    </tr>\n",
       "  </thead>\n",
       "  <tbody>\n",
       "    <tr>\n",
       "      <th>Egypt</th>\n",
       "      <td>200</td>\n",
       "      <td>200.0</td>\n",
       "      <td>10</td>\n",
       "    </tr>\n",
       "    <tr>\n",
       "      <th>Finland</th>\n",
       "      <td>250</td>\n",
       "      <td>250.0</td>\n",
       "      <td>10</td>\n",
       "    </tr>\n",
       "    <tr>\n",
       "      <th>UK</th>\n",
       "      <td>35150</td>\n",
       "      <td>8787.5</td>\n",
       "      <td>3500</td>\n",
       "    </tr>\n",
       "    <tr>\n",
       "      <th>US</th>\n",
       "      <td>2050</td>\n",
       "      <td>512.5</td>\n",
       "      <td>80</td>\n",
       "    </tr>\n",
       "  </tbody>\n",
       "</table>\n",
       "</div>"
      ],
      "text/plain": [
       "         plays          fans\n",
       "           sum    mean   max\n",
       "country                     \n",
       "Egypt      200   200.0    10\n",
       "Finland    250   250.0    10\n",
       "UK       35150  8787.5  3500\n",
       "US        2050   512.5    80"
      ]
     },
     "metadata": {},
     "output_type": "display_data"
    },
    {
     "name": "stdout",
     "output_type": "stream",
     "text": [
      "Index(['plays_sum', 'plays_mean', 'fans_max'], dtype='object') \n",
      "\n",
      "{'Egypt': {'plays_sum': 200, 'plays_mean': 200.0, 'fans_max': 10}, 'Finland': {'plays_sum': 250, 'plays_mean': 250.0, 'fans_max': 10}, 'UK': {'plays_sum': 35150, 'plays_mean': 8787.5, 'fans_max': 3500}, 'US': {'plays_sum': 2050, 'plays_mean': 512.5, 'fans_max': 80}}\n"
     ]
    }
   ],
   "source": [
    "grp = df.groupby('country').agg({'plays': ['sum', 'mean'], 'fans': ['max']})\n",
    "display(grp)\n",
    "\n",
    "grp.columns = ['_'.join(col) for col in grp.columns.values]\n",
    "print(grp.columns,\"\\n\")\n",
    "\n",
    "res = grp.to_dict(orient='index')\n",
    "print(res)"
   ]
  },
  {
   "cell_type": "markdown",
   "id": "35bad4ed",
   "metadata": {},
   "source": [
    "### Other concepts : Explore \n",
    "Passing `as_index=False` while applying a groupby function: When aggregating and applying a reset_index function afterwards, the grouped by column will not be the index of the resultant DataFrame.\n",
    "\n",
    "**Applying filters on groups using .filter() with a lambda function**: This would allow more concise filters, such as keeping groups with only a count of records greater than a certain value"
   ]
  },
  {
   "cell_type": "code",
   "execution_count": null,
   "id": "7c5f024f",
   "metadata": {},
   "outputs": [],
   "source": []
  },
  {
   "cell_type": "markdown",
   "id": "450a7f83",
   "metadata": {},
   "source": [
    "### Travel dataset"
   ]
  },
  {
   "cell_type": "code",
   "execution_count": 90,
   "id": "3a172bf0",
   "metadata": {},
   "outputs": [
    {
     "data": {
      "text/plain": [
       "4"
      ]
     },
     "execution_count": 90,
     "metadata": {},
     "output_type": "execute_result"
    }
   ],
   "source": [
    "df = pd.read_csv('dates.csv')\n",
    "\n",
    "df['date'] = df['date'].map(lambda x: pd.to_datetime(x))\n",
    "df['month'] = df['date'].dt.month\n",
    "\n",
    "len(df[df['month']==9])\n",
    "\n"
   ]
  },
  {
   "cell_type": "code",
   "execution_count": 91,
   "id": "f00d6973",
   "metadata": {},
   "outputs": [
    {
     "data": {
      "text/plain": [
       "44"
      ]
     },
     "execution_count": 91,
     "metadata": {},
     "output_type": "execute_result"
    }
   ],
   "source": [
    "df['date'] = pd.to_datetime(df['date'])\n",
    "\n",
    "start = pd.to_datetime('2019-01-01')\n",
    "end = pd.to_datetime('2020-01-01')\n",
    "\n",
    "filtered = df[(df.date >= start) & (df.date < end)]\n",
    "len(filtered)"
   ]
  },
  {
   "cell_type": "markdown",
   "id": "c32e1648",
   "metadata": {},
   "source": [
    "Your music analyst wants to generate a list of dates to set the concert schedule of a new band, starting 1 January 2019, up-to and including 31 December 2019, all separated by exactly 7 days."
   ]
  },
  {
   "cell_type": "code",
   "execution_count": 96,
   "id": "b2cb3a97",
   "metadata": {},
   "outputs": [],
   "source": [
    "date_list = ([x.strftime(\"%Y-%m-%d\") for x in \\\n",
    "     pd.date_range(start='2019-01-01', end='2019-12-31', freq='7D')])\n",
    "\n",
    "# date_list\n"
   ]
  },
  {
   "cell_type": "markdown",
   "id": "f2c6af4e",
   "metadata": {},
   "source": [
    "Question : Your music analyst would like to know how many concerts were held in each month present in the dataset.\n",
    "\n",
    "\n",
    "Pandas has a very handy function for upsampling/downsampling time series: resample(<freq>). The correct freq here is MS, which refers to “Month Start”. It will generate groups by months, identified in the index by the start date of every month.\n",
    "\n",
    "The solution starts by setting the index to be the date column, and then applying the resampling operation (which is close to a groupby operation); this groups the data by the month. You simply want the size of each group.\n",
    "\n",
    "The last step is to format the index of the resampled data to match the YYYY-MM expected output, and generate the dict representation."
   ]
  },
  {
   "cell_type": "code",
   "execution_count": 104,
   "id": "c1243b48",
   "metadata": {},
   "outputs": [
    {
     "data": {
      "text/html": [
       "<div>\n",
       "<style scoped>\n",
       "    .dataframe tbody tr th:only-of-type {\n",
       "        vertical-align: middle;\n",
       "    }\n",
       "\n",
       "    .dataframe tbody tr th {\n",
       "        vertical-align: top;\n",
       "    }\n",
       "\n",
       "    .dataframe thead th {\n",
       "        text-align: right;\n",
       "    }\n",
       "</style>\n",
       "<table border=\"1\" class=\"dataframe\">\n",
       "  <thead>\n",
       "    <tr style=\"text-align: right;\">\n",
       "      <th></th>\n",
       "      <th>date</th>\n",
       "    </tr>\n",
       "  </thead>\n",
       "  <tbody>\n",
       "    <tr>\n",
       "      <th>0</th>\n",
       "      <td>2020-04-21 17:52:20</td>\n",
       "    </tr>\n",
       "    <tr>\n",
       "      <th>1</th>\n",
       "      <td>2019-08-15 04:32:38</td>\n",
       "    </tr>\n",
       "    <tr>\n",
       "      <th>2</th>\n",
       "      <td>2019-04-12 06:39:37</td>\n",
       "    </tr>\n",
       "    <tr>\n",
       "      <th>3</th>\n",
       "      <td>2020-10-04 06:05:16</td>\n",
       "    </tr>\n",
       "    <tr>\n",
       "      <th>4</th>\n",
       "      <td>2020-07-21 22:19:35</td>\n",
       "    </tr>\n",
       "    <tr>\n",
       "      <th>...</th>\n",
       "      <td>...</td>\n",
       "    </tr>\n",
       "    <tr>\n",
       "      <th>95</th>\n",
       "      <td>2019-12-05 22:39:29</td>\n",
       "    </tr>\n",
       "    <tr>\n",
       "      <th>96</th>\n",
       "      <td>2020-11-23 18:02:26</td>\n",
       "    </tr>\n",
       "    <tr>\n",
       "      <th>97</th>\n",
       "      <td>2019-06-22 05:01:15</td>\n",
       "    </tr>\n",
       "    <tr>\n",
       "      <th>98</th>\n",
       "      <td>2020-08-25 21:38:58</td>\n",
       "    </tr>\n",
       "    <tr>\n",
       "      <th>99</th>\n",
       "      <td>2019-06-05 21:04:08</td>\n",
       "    </tr>\n",
       "  </tbody>\n",
       "</table>\n",
       "<p>100 rows × 1 columns</p>\n",
       "</div>"
      ],
      "text/plain": [
       "                  date\n",
       "0  2020-04-21 17:52:20\n",
       "1  2019-08-15 04:32:38\n",
       "2  2019-04-12 06:39:37\n",
       "3  2020-10-04 06:05:16\n",
       "4  2020-07-21 22:19:35\n",
       "..                 ...\n",
       "95 2019-12-05 22:39:29\n",
       "96 2020-11-23 18:02:26\n",
       "97 2019-06-22 05:01:15\n",
       "98 2020-08-25 21:38:58\n",
       "99 2019-06-05 21:04:08\n",
       "\n",
       "[100 rows x 1 columns]"
      ]
     },
     "metadata": {},
     "output_type": "display_data"
    },
    {
     "name": "stdout",
     "output_type": "stream",
     "text": [
      "date\n",
      "2019-01-01    3\n",
      "2019-02-01    3\n",
      "2019-03-01    1\n",
      "2019-04-01    4\n",
      "2019-05-01    3\n",
      "2019-06-01    5\n",
      "2019-07-01    2\n",
      "2019-08-01    7\n",
      "2019-09-01    2\n",
      "2019-10-01    6\n",
      "2019-11-01    2\n",
      "2019-12-01    6\n",
      "2020-01-01    2\n",
      "2020-02-01    4\n",
      "2020-03-01    6\n",
      "2020-04-01    5\n",
      "2020-05-01    2\n",
      "2020-06-01    5\n",
      "2020-07-01    8\n",
      "2020-08-01    5\n",
      "2020-09-01    2\n",
      "2020-10-01    5\n",
      "2020-11-01    3\n",
      "2020-12-01    4\n",
      "2021-01-01    2\n",
      "2021-02-01    3\n",
      "Freq: MS, dtype: int64\n",
      "Index(['2019-01', '2019-02', '2019-03', '2019-04', '2019-05', '2019-06',\n",
      "       '2019-07', '2019-08', '2019-09', '2019-10', '2019-11', '2019-12',\n",
      "       '2020-01', '2020-02', '2020-03', '2020-04', '2020-05', '2020-06',\n",
      "       '2020-07', '2020-08', '2020-09', '2020-10', '2020-11', '2020-12',\n",
      "       '2021-01', '2021-02'],\n",
      "      dtype='object', name='date')\n",
      "{'2019-01': 3, '2019-02': 3, '2019-03': 1, '2019-04': 4, '2019-05': 3, '2019-06': 5, '2019-07': 2, '2019-08': 7, '2019-09': 2, '2019-10': 6, '2019-11': 2, '2019-12': 6, '2020-01': 2, '2020-02': 4, '2020-03': 6, '2020-04': 5, '2020-05': 2, '2020-06': 5, '2020-07': 8, '2020-08': 5, '2020-09': 2, '2020-10': 5, '2020-11': 3, '2020-12': 4, '2021-01': 2, '2021-02': 3}\n"
     ]
    }
   ],
   "source": [
    "df = pd.read_csv(\"dates.csv\")\n",
    "df['date'] = pd.to_datetime(df['date'])\n",
    "\n",
    "display(df)\n",
    "\n",
    "resampled = df.set_index('date').resample('MS').size()   # MS : Month Start\n",
    "\n",
    "print(resampled)\n",
    "\n",
    "resampled.index = resampled.index.map(lambda x: x.strftime(\"%Y-%m\"))\n",
    "print(resampled.index)\n",
    "\n",
    "\n",
    "print(resampled.to_dict())\n",
    "\n",
    "\n"
   ]
  },
  {
   "cell_type": "markdown",
   "id": "2aead2e0",
   "metadata": {},
   "source": [
    "### Other concepts\n",
    "Working with time information other than dates\n",
    "Adding/subtracting dates using timedelta, which can help you shift dates by a specific range e.g., by adding 1 month to an existing value"
   ]
  },
  {
   "cell_type": "code",
   "execution_count": null,
   "id": "0e62898a",
   "metadata": {},
   "outputs": [],
   "source": []
  },
  {
   "cell_type": "markdown",
   "id": "80926d8d",
   "metadata": {},
   "source": [
    "### Apply/Map \n",
    "\n",
    "```python\n",
    "df['my_col'].map(lambda x: my_magic_fn(x))\n",
    "```"
   ]
  },
  {
   "cell_type": "markdown",
   "id": "0aa91365",
   "metadata": {},
   "source": [
    "Your music analyst would like to know the continent of origin of each band. Can you help them with that?"
   ]
  },
  {
   "cell_type": "code",
   "execution_count": 125,
   "id": "9620564a",
   "metadata": {},
   "outputs": [
    {
     "data": {
      "text/plain": [
       "{'continent': {'The Beatles': 'Europe',\n",
       "  'Pink Floyd': 'Europe',\n",
       "  'Metallica': 'North America',\n",
       "  'Cairokee': 'Africa',\n",
       "  'ACDC': 'North America',\n",
       "  'The Doors': 'North America',\n",
       "  'Poets of The Fall': 'Europe',\n",
       "  'Megadeth': 'North America',\n",
       "  'Iron Maiden': 'Europe',\n",
       "  'Judas Priest': 'Europe'}}"
      ]
     },
     "execution_count": 125,
     "metadata": {},
     "output_type": "execute_result"
    }
   ],
   "source": [
    "df = pd.read_csv('music.csv')\n",
    "continents = {'UK': 'Europe', 'US': 'North America', 'Egypt': 'Africa', 'Finland': 'Europe'}\n",
    "\n",
    "df [\"continent\"] = df[\"country\"].map(lambda x : continents[x])\n",
    "df[[\"artist\" , \"continent\"]].set_index('artist').to_dict()"
   ]
  },
  {
   "cell_type": "code",
   "execution_count": 127,
   "id": "180c0d5f",
   "metadata": {},
   "outputs": [
    {
     "data": {
      "text/plain": [
       "{'The Beatles': 'Europe',\n",
       " 'Pink Floyd': 'Europe',\n",
       " 'Metallica': 'North America',\n",
       " 'Cairokee': 'Africa',\n",
       " 'ACDC': 'North America',\n",
       " 'The Doors': 'North America',\n",
       " 'Poets of The Fall': 'Europe',\n",
       " 'Megadeth': 'North America',\n",
       " 'Iron Maiden': 'Europe',\n",
       " 'Judas Priest': 'Europe'}"
      ]
     },
     "execution_count": 127,
     "metadata": {},
     "output_type": "execute_result"
    }
   ],
   "source": [
    "df = pd.read_csv('music.csv')\n",
    "continents = {'UK': 'Europe', 'US': 'North America', 'Egypt': 'Africa', 'Finland': 'Europe'}\n",
    "df['continent'] = df['country'].map(continents)\n",
    "df.set_index('artist')['continent'].to_dict()"
   ]
  },
  {
   "cell_type": "markdown",
   "id": "10b180a4",
   "metadata": {},
   "source": [
    "### band initials\n",
    "Your music analyst would like to assign nicknames to each band based on the first two letters of their name. Can you help them with that?"
   ]
  },
  {
   "cell_type": "code",
   "execution_count": 137,
   "id": "31c72133",
   "metadata": {},
   "outputs": [
    {
     "data": {
      "text/plain": [
       "{'The Beatles': 'Th',\n",
       " 'Pink Floyd': 'Pi',\n",
       " 'Metallica': 'Me',\n",
       " 'Cairokee': 'Ca',\n",
       " 'ACDC': 'AC',\n",
       " 'The Doors': 'Th',\n",
       " 'Poets of The Fall': 'Po',\n",
       " 'Megadeth': 'Me',\n",
       " 'Iron Maiden': 'Ir',\n",
       " 'Judas Priest': 'Ju'}"
      ]
     },
     "execution_count": 137,
     "metadata": {},
     "output_type": "execute_result"
    }
   ],
   "source": [
    "df = pd.read_csv('music.csv')\n",
    "df['initials'] = df['artist'].map(lambda x : x[0:2])\n",
    "df.set_index(\"artist\").initials.to_dict()"
   ]
  },
  {
   "cell_type": "markdown",
   "id": "e9b26137",
   "metadata": {},
   "source": [
    "### Find popularity of bands\n",
    "\n",
    "**Since the function isn’t applied to a single column, you use `.apply, with axis=1` to indicate this will be applied to every row (where every row will be defined as x as per the lambda function).**\n",
    "\n"
   ]
  },
  {
   "cell_type": "code",
   "execution_count": 139,
   "id": "4e0362e4",
   "metadata": {},
   "outputs": [
    {
     "data": {
      "text/plain": [
       "{'The Beatles': 'not popular',\n",
       " 'Pink Floyd': 'very popular',\n",
       " 'Metallica': 'popular',\n",
       " 'Cairokee': 'not popular',\n",
       " 'ACDC': 'not popular',\n",
       " 'The Doors': 'very popular',\n",
       " 'Poets of The Fall': 'not popular',\n",
       " 'Megadeth': 'not popular',\n",
       " 'Iron Maiden': 'very popular',\n",
       " 'Judas Priest': 'very popular'}"
      ]
     },
     "execution_count": 139,
     "metadata": {},
     "output_type": "execute_result"
    }
   ],
   "source": [
    "def is_popular(plays, fans):\n",
    "    if plays > 1000 or fans > 50:\n",
    "        return 'very popular'\n",
    "    elif plays >= 500:\n",
    "        return 'popular'\n",
    "    else:\n",
    "        return 'not popular'\n",
    "    \n",
    "\n",
    "\n",
    "df = pd.read_csv('music.csv')\n",
    "df['popular'] = df.apply(lambda x: is_popular(x.plays, x.fans), axis=1)\n",
    "df.set_index('artist')['popular'].to_dict()\n",
    "\n"
   ]
  },
  {
   "cell_type": "code",
   "execution_count": 140,
   "id": "a307ec65",
   "metadata": {},
   "outputs": [
    {
     "name": "stdout",
     "output_type": "stream",
     "text": [
      "Writing sales.csv\n"
     ]
    }
   ],
   "source": [
    "%%file sales.csv\n",
    "Band,US Sales,UK Sales,Egypt Sales\n",
    "The Beatles,10k,20k,5k\n",
    "Black Sabbath,3k,15k,3k"
   ]
  },
  {
   "cell_type": "markdown",
   "id": "d183e854",
   "metadata": {},
   "source": [
    "The first step into solving this problem is removing the k suffix, and multiplying the integer value by 1000. This will convert the sales value from thousands of sales.\n",
    "\n",
    "\n",
    "After cleaning the dataset, it’s important to effectively find the maximum value in each column to get the max per market. To achieve this, you have to apply the max function with the crucial setting of axis=0."
   ]
  },
  {
   "cell_type": "code",
   "execution_count": 141,
   "id": "fb194411",
   "metadata": {},
   "outputs": [
    {
     "data": {
      "text/plain": [
       "{'US Sales': 10000, 'UK Sales': 20000, 'Egypt Sales': 5000}"
      ]
     },
     "execution_count": 141,
     "metadata": {},
     "output_type": "execute_result"
    }
   ],
   "source": [
    "df = pd.read_csv('sales.csv').set_index('Band')\n",
    "\n",
    "replaced = df.applymap(lambda x: int(x.replace('k', '')) * 1000)\n",
    "mx = replaced.apply(lambda x: max(x), axis=0)\n",
    "mx.to_dict()\n"
   ]
  },
  {
   "cell_type": "markdown",
   "id": "c40106b7",
   "metadata": {},
   "source": [
    "### Basic Merge "
   ]
  },
  {
   "cell_type": "code",
   "execution_count": 142,
   "id": "b4a8f6a5",
   "metadata": {},
   "outputs": [
    {
     "name": "stdout",
     "output_type": "stream",
     "text": [
      "Writing countries.csv\n"
     ]
    }
   ],
   "source": [
    "%%file countries.csv\n",
    "country_id,name\n",
    "1,UK\n",
    "2,US\n",
    "3,Egypt\n",
    "4,Finland"
   ]
  },
  {
   "cell_type": "code",
   "execution_count": 161,
   "id": "981682cc",
   "metadata": {},
   "outputs": [
    {
     "name": "stdout",
     "output_type": "stream",
     "text": [
      "Overwriting music_2.csv\n"
     ]
    }
   ],
   "source": [
    "%%file music_2.csv\n",
    "artist,country,plays,genre,fans\n",
    "The Beatles,1,150,rock,50\n",
    "Pink Floyd,1,10000,rock,1500\n",
    "Metallica,2,500,metal,50\n",
    "Cairokee,3,200,rock,10\n",
    "ACDC,2,250,rock,20\n",
    "The Doors,2,1000,rock,80\n",
    "Poets of The Fall,4,250,rock,10\n",
    "Megadeth,2,300,metal,20\n",
    "Iron Maiden,1,20000,metal,3500\n",
    "Judas Priest,1,5000,metal,1000\n",
    "Leprous,5,1000,metal,500\n",
    "ABBA,5,2000,pop,100\n",
    "Bryan Adams,6,2500,pop,200\n",
    "Rush,6,3000,rock,500"
   ]
  },
  {
   "cell_type": "code",
   "execution_count": 162,
   "id": "e406a707",
   "metadata": {},
   "outputs": [
    {
     "data": {
      "text/plain": [
       "{'Egypt': 200, 'Finland': 250, 'UK': 35150, 'US': 2050}"
      ]
     },
     "execution_count": 162,
     "metadata": {},
     "output_type": "execute_result"
    }
   ],
   "source": [
    "df = pd.read_csv('music_2.csv')\n",
    "countries = pd.read_csv('countries.csv')\n",
    "\n",
    "merged = df.merge(countries, left_on='country', right_on='country_id')\n",
    "\n",
    "merged.groupby('name').plays.sum().to_dict()\n",
    "\n"
   ]
  },
  {
   "cell_type": "markdown",
   "id": "f2e15267",
   "metadata": {},
   "source": [
    "### Merge with Missing Values"
   ]
  },
  {
   "cell_type": "code",
   "execution_count": 187,
   "id": "37e56f55",
   "metadata": {},
   "outputs": [
    {
     "data": {
      "text/plain": [
       "8500"
      ]
     },
     "execution_count": 187,
     "metadata": {},
     "output_type": "execute_result"
    }
   ],
   "source": [
    "df = pd.read_csv('music_2.csv')\n",
    "countries = pd.read_csv('countries.csv')\n",
    "merged = pd.merge(df, countries, how='left', left_on='country', right_on='country_id')\n",
    "merged[merged.name.isnull()].plays.sum()\n"
   ]
  },
  {
   "cell_type": "markdown",
   "id": "c8a4fa1f",
   "metadata": {},
   "source": [
    "You can also use a one-liner to solve this problem, without merging at all. What we do here is to filter the music DataFrame by the country column, keeping only the rows where this column is not in the unique values of the countries DataFrame."
   ]
  },
  {
   "cell_type": "code",
   "execution_count": 204,
   "id": "9f105eea",
   "metadata": {},
   "outputs": [
    {
     "name": "stdout",
     "output_type": "stream",
     "text": [
      "[1 2 3 4]\n"
     ]
    },
    {
     "data": {
      "text/html": [
       "<div>\n",
       "<style scoped>\n",
       "    .dataframe tbody tr th:only-of-type {\n",
       "        vertical-align: middle;\n",
       "    }\n",
       "\n",
       "    .dataframe tbody tr th {\n",
       "        vertical-align: top;\n",
       "    }\n",
       "\n",
       "    .dataframe thead th {\n",
       "        text-align: right;\n",
       "    }\n",
       "</style>\n",
       "<table border=\"1\" class=\"dataframe\">\n",
       "  <thead>\n",
       "    <tr style=\"text-align: right;\">\n",
       "      <th></th>\n",
       "      <th>artist</th>\n",
       "      <th>country</th>\n",
       "      <th>plays</th>\n",
       "      <th>genre</th>\n",
       "      <th>fans</th>\n",
       "    </tr>\n",
       "  </thead>\n",
       "  <tbody>\n",
       "    <tr>\n",
       "      <th>10</th>\n",
       "      <td>Leprous</td>\n",
       "      <td>5</td>\n",
       "      <td>1000</td>\n",
       "      <td>metal</td>\n",
       "      <td>500</td>\n",
       "    </tr>\n",
       "    <tr>\n",
       "      <th>11</th>\n",
       "      <td>ABBA</td>\n",
       "      <td>5</td>\n",
       "      <td>2000</td>\n",
       "      <td>pop</td>\n",
       "      <td>100</td>\n",
       "    </tr>\n",
       "    <tr>\n",
       "      <th>12</th>\n",
       "      <td>Bryan Adams</td>\n",
       "      <td>6</td>\n",
       "      <td>2500</td>\n",
       "      <td>pop</td>\n",
       "      <td>200</td>\n",
       "    </tr>\n",
       "    <tr>\n",
       "      <th>13</th>\n",
       "      <td>Rush</td>\n",
       "      <td>6</td>\n",
       "      <td>3000</td>\n",
       "      <td>rock</td>\n",
       "      <td>500</td>\n",
       "    </tr>\n",
       "  </tbody>\n",
       "</table>\n",
       "</div>"
      ],
      "text/plain": [
       "         artist  country  plays  genre  fans\n",
       "10      Leprous        5   1000  metal   500\n",
       "11         ABBA        5   2000    pop   100\n",
       "12  Bryan Adams        6   2500    pop   200\n",
       "13         Rush        6   3000   rock   500"
      ]
     },
     "metadata": {},
     "output_type": "display_data"
    },
    {
     "name": "stdout",
     "output_type": "stream",
     "text": [
      "8500\n"
     ]
    }
   ],
   "source": [
    "df = pd.read_csv('music_2.csv')\n",
    "\n",
    "list_contries = countries[\"country_id\"].unique()\n",
    "print(list_contries)\n",
    "\n",
    "df = df[~df[\"country\"].isin(list_contries)]\n",
    "display(df)\n",
    "\n",
    "# onle liner\n",
    "print(df[~df[\"country\"].isin(list_contries)].plays.sum())"
   ]
  },
  {
   "cell_type": "code",
   "execution_count": null,
   "id": "9c227591",
   "metadata": {},
   "outputs": [],
   "source": []
  }
 ],
 "metadata": {
  "kernelspec": {
   "display_name": "Python 3 (ipykernel)",
   "language": "python",
   "name": "python3"
  },
  "language_info": {
   "codemirror_mode": {
    "name": "ipython",
    "version": 3
   },
   "file_extension": ".py",
   "mimetype": "text/x-python",
   "name": "python",
   "nbconvert_exporter": "python",
   "pygments_lexer": "ipython3",
   "version": "3.8.10"
  }
 },
 "nbformat": 4,
 "nbformat_minor": 5
}
