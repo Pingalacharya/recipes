{
 "cells": [
  {
   "cell_type": "markdown",
   "id": "9e0e2dbd",
   "metadata": {},
   "source": [
    "\n",
    "\n",
    "https://www.youtube.com/watch?v=tfCz563ebsU&list=PLzMcBGfZo4-kwmIcMDdXSuy_wSqtU-xDP&index=4"
   ]
  },
  {
   "cell_type": "code",
   "execution_count": null,
   "id": "d6458353",
   "metadata": {},
   "outputs": [],
   "source": []
  }
 ],
 "metadata": {
  "kernelspec": {
   "display_name": "Python 3 (ipykernel)",
   "language": "python",
   "name": "python3"
  },
  "language_info": {
   "codemirror_mode": {
    "name": "ipython",
    "version": 3
   },
   "file_extension": ".py",
   "mimetype": "text/x-python",
   "name": "python",
   "nbconvert_exporter": "python",
   "pygments_lexer": "ipython3",
   "version": "3.8.10"
  }
 },
 "nbformat": 4,
 "nbformat_minor": 5
}
