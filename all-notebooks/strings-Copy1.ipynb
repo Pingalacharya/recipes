{
 "cells": [
  {
   "cell_type": "code",
   "execution_count": null,
   "id": "9550c2e3",
   "metadata": {},
   "outputs": [],
   "source": []
  },
  {
   "cell_type": "markdown",
   "id": "19e6c9ee",
   "metadata": {},
   "source": [
    "### reference sheet 1"
   ]
  },
  {
   "cell_type": "code",
   "execution_count": 89,
   "id": "8b9b4ea8",
   "metadata": {},
   "outputs": [],
   "source": [
    "letters = \"ABCDEFGHIJKLMNOPQRSTUVWXYZabcdefghijklmnopqrstuvwxyz\"   \n",
    "\n",
    "ord('a')              # ASCII value : 97 \n",
    "chr(ord('a') + 3)     # 'd'\n",
    "\n",
    "\n",
    "chr(65)               # \"A\"\n",
    "chr(90)               # 'Z'\n",
    "chr(97)               # 'a'\n",
    "chr(122)              # 'z'\n",
    "\n",
    "\n",
    "empty_string = \"\"\n",
    "for k in range(65, 91):\n",
    "    empty_string += chr(k)              # ABCDEFGHIJKLMNOPQRSTUVWXYZ\n",
    "\n",
    "\n",
    "###################################################################################\n",
    "\n",
    "\"mississippi\".split(\"iss\")             # ['m', '', 'ippi']\n",
    "\n",
    "\n",
    "x = \"iss\"  ; word = \"mississippi\"      # x in word --> True \n",
    "\n",
    "\n",
    "\"apple\".find(\"p\")                       # finds index of first occurance of \"p\"\n",
    "\"apple\".find(\"z\")                       # returns -1 if not found \n",
    "\n",
    "\"apple\".count('p')                      # count of \"p\" in the string \n",
    "\n",
    "###################################################################################\n",
    "\n",
    "def check_for_name(sentence, name):   \n",
    "    return name.lower() in sentence.lower()\n",
    "\n",
    "\n",
    "############################################################################\n",
    "\n",
    "word = \"Codeacademy\"\n",
    "word_r = \"\".join((reversed(word)))   # 'ymedacaedoC'\n",
    "\n",
    "list(reversed(word))          # ['y', 'm', 'e', 'd', 'a', 'c', 'a', 'e', 'd', 'o', 'c']\n",
    "\n",
    "reversed(word)                # reversed iterator object \n",
    "\n",
    "x =  reversed(word)\n",
    "x.__next__()\n",
    "\n",
    "###############################################################################\n",
    "\n",
    "word = \"codeacademy\"\n",
    "\"\".join(sorted(word))\n",
    "\n",
    "###################################################################################\n",
    "\"\"\"\n",
    "replaces first occurance if found \n",
    "else returns same string\n",
    "\"\"\"\n",
    "\n",
    "str_ = \"Hello World World World\"\n",
    "str_new = str_.replace(\"World\",\"Universe\",1)  \n",
    "\n",
    "#####################################################################################"
   ]
  },
  {
   "cell_type": "markdown",
   "id": "7ba89485",
   "metadata": {},
   "source": [
    "### reference sheet 2"
   ]
  },
  {
   "cell_type": "code",
   "execution_count": 115,
   "id": "43a1c3ba",
   "metadata": {},
   "outputs": [
    {
     "name": "stdout",
     "output_type": "stream",
     "text": [
      "Shehas8bodypiercingsandnonearevisibleyet!\n",
      "She has 8 body piercings and none are visible yet!\n",
      "Concatenate two strings, leftjustify and pad first string:\n",
      "Cannibal's recipe book:  \"How to Serve Your Fellow Man\"\n",
      "\n",
      "{'h': 1, 'i': 1, 'p': 3, 'o': 2, 't': 1, 'a': 1, 'm': 1, 'u': 1, 's': 1}\n"
     ]
    },
    {
     "data": {
      "text/plain": [
       "3"
      ]
     },
     "execution_count": 115,
     "metadata": {},
     "output_type": "execute_result"
    }
   ],
   "source": [
    "s = \"She has 8 body piercings and none are visible\"\n",
    "\n",
    "sL = s.split()                      # list of words ( split by empty space)\n",
    "\n",
    "sL.append(\"yet!\")                   # append a word to the list \n",
    "\n",
    "print(\"\".join(sL))                   # now output the string by joining words\n",
    "print(\" \".join(sL))\n",
    "\n",
    "###########################################################################\n",
    "\n",
    "s2 = '\"How to Serve Your Fellow Man\"'\n",
    "s3 = \"Cannibal's recipe book:\"\n",
    "\n",
    "print (\"Concatenate two strings, leftjustify and pad first string:\")\n",
    "print (s3.ljust(len(s3) + 2) + s2 + '\\n')\n",
    "\n",
    "##############################################################################\n",
    "\n",
    "s4 = \"hippopotamus\"\n",
    "\n",
    "charCount = {}\n",
    "\n",
    "for char in s4:\n",
    "  charCount[char] = charCount.get(char, 0) + 1\n",
    "print (charCount)\n",
    "\n",
    "#################################################################################\n",
    "\n",
    "s4[::-1]               # string reversed\n",
    "\n",
    "s4[::2]                # spell skipping 2 char  \n",
    "s4[1::2]               # spell skipping 2 char, starts from 1st character\n",
    "\n",
    "s4 * 2                 # repeat string two times \n",
    "\n",
    "###################################################################################\n",
    "\n",
    "num1 = 3.14\n",
    "str1 = repr(num1)      # Convert an integer or float to a string with str() or repr()\n",
    "\n",
    "num2 = eval(str1)      #  Convert numeric string back to an integer or float with eval()\n",
    "\n",
    "####################################################################################\n",
    "\n",
    "\n"
   ]
  },
  {
   "cell_type": "code",
   "execution_count": null,
   "id": "4e4094f1",
   "metadata": {},
   "outputs": [],
   "source": []
  },
  {
   "cell_type": "markdown",
   "id": "49a74029",
   "metadata": {},
   "source": [
    "### some simple problems on strings "
   ]
  },
  {
   "cell_type": "code",
   "execution_count": 3,
   "id": "d0720566",
   "metadata": {},
   "outputs": [
    {
     "name": "stdout",
     "output_type": "stream",
     "text": [
      "4\n"
     ]
    }
   ],
   "source": [
    "letters = \"ABCDEFGHIJKLMNOPQRSTUVWXYZabcdefghijklmnopqrstuvwxyz\"\n",
    "\n",
    "def unique_letters(word):\n",
    "    uniques = 0\n",
    "    for letter in letters:\n",
    "        if letter in word:\n",
    "            uniques += 1 \n",
    "            \n",
    "    return uniques \n",
    "\n",
    "print(unique_letters(\"mississippi\"))   \n",
    "\n",
    "\n",
    "def count_multi_char_x(word, x):\n",
    "     splits = word.split(x)\n",
    "     return len(splits) -1      \n",
    "    \n",
    "print(count_multi_char_x(\"mississippi\", \"iss\"))       # 2 \n",
    "\n",
    "\n",
    "def every_other_letter(name):\n",
    "  every_other = \"\"\n",
    "  for i in range(0,len(name), 2):\n",
    "    every_other += name[i]\n",
    "  return every_other\n",
    "\n",
    "print(every_other_letter(\"Codecademy\"))               # print Cdcdm\n",
    "\n",
    "\n",
    "def substring_between_letters(word, start, end):\n",
    "    start_ind = word.find(start); \n",
    "    end_ind = word.find(end); \n",
    "    \n",
    "    if  (start_ind != -1 and end_ind != -1) :\n",
    "        substr = word[start_ind + 1 : end_ind]\n",
    "        if substr is \"\":\n",
    "              return \"end is before start\"\n",
    "        else:\n",
    "            return substr\n",
    "    else:\n",
    "        return word\n",
    "    \n",
    "print(substring_between_letters(\"apple\", \"e\", \"p\"))\n",
    "print(substring_between_letters(\"apple\", \"p\", \"c\"))  \n",
    "\n",
    "\n",
    "def x_length_words(sentence, x):\n",
    "    words = sentence.split(\" \")\n",
    "    for w in words:\n",
    "        if len(w) < x:\n",
    "            return False\n",
    "    return True\n",
    "\n",
    "\n",
    "def reverse_string(word):\n",
    "    reversed = \"\"\n",
    "    for i in range(len(word) -1,-1,-1):\n",
    "        reversed += word[i]\n",
    "        \n",
    "    return reversed   \n",
    "\n",
    "print(reverse_string(\"Codeacademy\"))\n"
   ]
  }
 ],
 "metadata": {
  "kernelspec": {
   "display_name": "Python 3 (ipykernel)",
   "language": "python",
   "name": "python3"
  },
  "language_info": {
   "codemirror_mode": {
    "name": "ipython",
    "version": 3
   },
   "file_extension": ".py",
   "mimetype": "text/x-python",
   "name": "python",
   "nbconvert_exporter": "python",
   "pygments_lexer": "ipython3",
   "version": "3.8.10"
  }
 },
 "nbformat": 4,
 "nbformat_minor": 5
}
