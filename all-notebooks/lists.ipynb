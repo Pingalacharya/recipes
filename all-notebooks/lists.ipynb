{
 "cells": [
  {
   "cell_type": "code",
   "execution_count": 11,
   "id": "56a9c89f",
   "metadata": {},
   "outputs": [],
   "source": [
    "import time"
   ]
  },
  {
   "cell_type": "markdown",
   "id": "59d0e02b",
   "metadata": {},
   "source": [
    "### Remove even number \n",
    "\n",
    "Since the entire list has to be iterated over, this solution is in O(n)\n"
   ]
  },
  {
   "cell_type": "code",
   "execution_count": 12,
   "id": "9631db4b",
   "metadata": {},
   "outputs": [],
   "source": [
    "def remove_even(lst):\n",
    "    return [l for l in lst if l%2!= 0]\n"
   ]
  },
  {
   "cell_type": "markdown",
   "id": "37dad2aa",
   "metadata": {},
   "source": [
    "### Given two sorted lists, merge them into one list which should also be sorted\n",
    "\n",
    "**my solution**"
   ]
  },
  {
   "cell_type": "code",
   "execution_count": 25,
   "id": "07206276",
   "metadata": {},
   "outputs": [
    {
     "name": "stdout",
     "output_type": "stream",
     "text": [
      "8.797645568847656e-05\n"
     ]
    }
   ],
   "source": [
    "def merge_lists(lst1, lst2):\n",
    "    \n",
    "    l1 = len(lst1)\n",
    "    l2 = len(lst2)\n",
    "    \n",
    "    lst = []   \n",
    "    i = 0\n",
    "    j = 0\n",
    "\n",
    "    if l1 ==0 :\n",
    "        return lst2\n",
    "\n",
    "    elif l2 == 0:\n",
    "        return lst1    \n",
    "    \n",
    "    while True:   \n",
    "        if lst1[i] <= lst2[j]:\n",
    "            lst.append(lst1[i])\n",
    "            i += 1\n",
    "        else:\n",
    "            lst.append(lst2[j])\n",
    "            j += 1\n",
    "\n",
    "        if  i == l1:\n",
    "            lst = lst + lst2[j:]\n",
    "            break\n",
    "        if j == l2:\n",
    "            lst = lst + lst1[i:]\n",
    "            break\n",
    "               \n",
    "    return lst       \n",
    "               \n",
    "            \n",
    "\n",
    "list1 = [1,3,4,5]  \n",
    "list2 = [2,6,7,8]\n",
    "\n",
    "start = time.time()\n",
    "\n",
    "merge_lists(list1, list2)\n",
    "\n",
    "print(time.time() - start)"
   ]
  },
  {
   "cell_type": "markdown",
   "id": "9e5dcece",
   "metadata": {},
   "source": [
    "#### given solution \n",
    "\n",
    "no empty list had to be initialzed"
   ]
  },
  {
   "cell_type": "code",
   "execution_count": 27,
   "id": "2a877513",
   "metadata": {},
   "outputs": [
    {
     "name": "stdout",
     "output_type": "stream",
     "text": [
      "4.00543212890625e-05\n"
     ]
    }
   ],
   "source": [
    "def merge_lists(lst1, lst2):\n",
    "    i = 0\n",
    "    j = 0\n",
    "    \n",
    "    while i < len(lst1) and j < len(lst2):\n",
    "        if lst1[i] > lst2[j]:\n",
    "            lst1.insert(i, lst2[j])\n",
    "            i += 1 \n",
    "            j += 1 \n",
    "            \n",
    "        if ( j < len(lst2)):\n",
    "            lst1.extend(lst2[j:])\n",
    "            \n",
    "        return lst1  \n",
    "        \n",
    "    \n",
    "    \n",
    "list1 = [1,3,4,5,]  \n",
    "list2 = [2,6,7,8]\n",
    "\n",
    "\n",
    "start = time.time()\n",
    "\n",
    "merge_lists(list1, list2)\n",
    "\n",
    "print(time.time() - start)    "
   ]
  },
  {
   "cell_type": "markdown",
   "id": "6472a337",
   "metadata": {},
   "source": [
    "### function which will take a number k as input and return two numbers that add up to k"
   ]
  },
  {
   "cell_type": "code",
   "execution_count": 30,
   "id": "338917ff",
   "metadata": {
    "scrolled": false
   },
   "outputs": [
    {
     "name": "stdout",
     "output_type": "stream",
     "text": [
      "(21, 60)\n",
      "0.00012826919555664062\n"
     ]
    }
   ],
   "source": [
    "def find_sum(lst, k):\n",
    "    \n",
    "    l = len(lst)\n",
    "    \n",
    "    for i in range(l-1):\n",
    "        for j in range(i, l-1):\n",
    "            if lst[i] + lst[j] == k :\n",
    "                return lst[i],lst[j]\n",
    "    \n",
    "\n",
    "start = time.time()\n",
    "lst = [1,21,3,14,5,60,7,6]\n",
    "k = 81\n",
    "print(find_sum(lst, k))\n",
    "\n",
    "print(time.time() - start) "
   ]
  },
  {
   "cell_type": "markdown",
   "id": "84690ac9",
   "metadata": {},
   "source": [
    "### moving indices after sorting the list"
   ]
  },
  {
   "cell_type": "code",
   "execution_count": 35,
   "id": "3fb8c600",
   "metadata": {},
   "outputs": [
    {
     "name": "stdout",
     "output_type": "stream",
     "text": [
      "(21, 60)\n",
      "0.00020694732666015625\n"
     ]
    }
   ],
   "source": [
    "def find_sum(lst, k):\n",
    "    \n",
    "    lst.sort()                     # sort the list : how much time it takes in Python to sort the list     \n",
    "    l = len(lst)\n",
    "    \n",
    "    i = 0\n",
    "    j = l-1\n",
    "    \n",
    "    \n",
    "    while True:\n",
    "        if lst[i] + lst[j] == k:\n",
    "            return lst[i],lst[j]\n",
    "        elif lst[i] + lst[j] >= k:\n",
    "            j -= 1\n",
    "        else:\n",
    "            i += 1\n",
    "            \n",
    "        if i==j:\n",
    "            return None\n",
    "        \n",
    "        \n",
    "\n",
    "        \n",
    "start = time.time()\n",
    "lst = [1,21,3,14,5,60,7,6]\n",
    "k = 81\n",
    "print(find_sum(lst, k))\n",
    "\n",
    "print(time.time() - start)         "
   ]
  },
  {
   "cell_type": "markdown",
   "id": "17f99833",
   "metadata": {},
   "source": [
    "#### Modify a list so that each index has a product of all the numbers present in the list except the number stored at that index.\n",
    "\n",
    "O(n2)"
   ]
  },
  {
   "cell_type": "code",
   "execution_count": null,
   "id": "c03f45dd",
   "metadata": {},
   "outputs": [],
   "source": [
    "def find_product(lst):\n",
    "    \n",
    "    lst_copy = lst.copy()\n",
    "\n",
    "    def prod (lst):\n",
    "        prod = 1\n",
    "        for num in lst:\n",
    "            prod = prod*num\n",
    "        return prod\n",
    "\n",
    "\n",
    "    for i in range(0, len(lst)):\n",
    "       lst[i] = prod(lst_copy[0:i] + lst_copy[i+1:] )\n",
    "\n",
    "    return lst   \n",
    "    "
   ]
  },
  {
   "cell_type": "markdown",
   "id": "ab4be0db",
   "metadata": {},
   "source": [
    "**optimizing the number of multiplications : good one**"
   ]
  },
  {
   "cell_type": "code",
   "execution_count": 47,
   "id": "acbddba3",
   "metadata": {},
   "outputs": [
    {
     "name": "stdout",
     "output_type": "stream",
     "text": [
      "[1, 5, 5, 10]\n",
      "[6, 30, 15, 10]\n"
     ]
    }
   ],
   "source": [
    "def find_product(lst): \n",
    "    \n",
    "   product = []   \n",
    "    \n",
    "   # get product starting from left      \n",
    "   left = 1\n",
    "   for ele in lst:\n",
    "     product.append(left)\n",
    "     left = left*ele\n",
    "   print(product)\n",
    "    \n",
    "   # get product starting from right\n",
    "   right = 1\n",
    "   for i in range(len(lst)-1, -1, -1):    # back from last index to zero \n",
    "        product[i] = product[i] * right\n",
    "        right = right * lst[i]\n",
    "\n",
    "   return product    \n",
    "\n",
    "\n",
    "print(find_product([5, 1, 2, 3]))"
   ]
  },
  {
   "cell_type": "markdown",
   "id": "42dda8a8",
   "metadata": {},
   "source": [
    "### find minimum element "
   ]
  },
  {
   "cell_type": "code",
   "execution_count": null,
   "id": "a5c28d7c",
   "metadata": {},
   "outputs": [],
   "source": [
    "def find_minimum(arr):\n",
    "    minimum  = lst[0]\n",
    "    for ele in arr:\n",
    "        if ele < minimum:\n",
    "            minimum = ele\n",
    "    return minimum "
   ]
  },
  {
   "cell_type": "markdown",
   "id": "1001bfcb",
   "metadata": {},
   "source": [
    "### Find Second Maximum Value in a List"
   ]
  },
  {
   "cell_type": "code",
   "execution_count": null,
   "id": "cb5be8c9",
   "metadata": {},
   "outputs": [],
   "source": [
    "def find_second_maximum(lst):\n",
    "    lst.sort()\n",
    "    if len(lst) >= 2:\n",
    "        return lst[-2]\n",
    "    else:\n",
    "        return None\n",
    "\n",
    "print(find_second_maximum([9, 2, 3, 6]))"
   ]
  },
  {
   "cell_type": "markdown",
   "id": "35ddefd1",
   "metadata": {},
   "source": [
    "### Finding the Second Maximum in one Traversal"
   ]
  },
  {
   "cell_type": "code",
   "execution_count": 53,
   "id": "6615a292",
   "metadata": {},
   "outputs": [
    {
     "name": "stdout",
     "output_type": "stream",
     "text": [
      "6\n"
     ]
    }
   ],
   "source": [
    "def find_second_maximum(lst):\n",
    "   if (len(lst) < 2):\n",
    "       return\n",
    "\n",
    "   max_no = second_max_no = float('-inf')          # initialize the two to infinity\n",
    "   for i in range(len(lst)):\n",
    "\n",
    "       if (lst[i] >= max_no):                      # update the max_no if max_no value found\n",
    "           second_max_no = max_no\n",
    "           max_no = lst[i]\n",
    "\n",
    "       elif (lst[i] > second_max_no ):\n",
    "           second_max_no = lst[i]\n",
    "   if (second_max_no == float('-inf')):\n",
    "       return\n",
    "   else:\n",
    "       return second_max_no\n",
    "\n",
    "\n",
    "print(find_second_maximum([9, 2, 3, 6]))"
   ]
  },
  {
   "cell_type": "markdown",
   "id": "59c5dd62",
   "metadata": {},
   "source": [
    "### right rotate from kth element (You only have to rotate the list by one element at a time.)\n",
    "\n",
    "```\n",
    "lst = [10,20,30,40,50]\n",
    "k = 3\n",
    "\n",
    "output = [30,40,50,10,20]\n",
    "```"
   ]
  },
  {
   "cell_type": "markdown",
   "id": "ad321171",
   "metadata": {},
   "source": [
    "### manual rotation"
   ]
  },
  {
   "cell_type": "code",
   "execution_count": 59,
   "id": "0d63aa17",
   "metadata": {},
   "outputs": [
    {
     "data": {
      "text/plain": [
       "[2, 4, 1, 5, 3]"
      ]
     },
     "execution_count": 59,
     "metadata": {},
     "output_type": "execute_result"
    }
   ],
   "source": [
    "def right_rotate(lst, k): \n",
    "    if len(lst) == 0:\n",
    "        k = 0\n",
    "    else:\n",
    "        k = k % len(lst)\n",
    "    rotatedList = []\n",
    "    # get the elements from the end\n",
    "    for item in range(len(lst) - k, len(lst)):\n",
    "        rotatedList.append(lst[item])\n",
    "    # get the remaining elements\n",
    "    for item in range(0, len(lst) - k):\n",
    "        rotatedList.append(lst[item])\n",
    "    return rotatedList\n",
    "\n",
    "\n",
    "print(right_rotate([10, 20, 30, 40, 50], abs(3)))\n"
   ]
  },
  {
   "cell_type": "markdown",
   "id": "96716bec",
   "metadata": {},
   "source": [
    "### Pythonic Rotation : not one by one "
   ]
  },
  {
   "cell_type": "code",
   "execution_count": 67,
   "id": "c3dd4512",
   "metadata": {},
   "outputs": [
    {
     "name": "stdout",
     "output_type": "stream",
     "text": [
      "[30, 40, 50, 10, 20]\n"
     ]
    }
   ],
   "source": [
    "def right_rotate(lst, k):\n",
    "    # get rotation index\n",
    "    if len(lst) == 0:\n",
    "        k = 0\n",
    "    else:\n",
    "        k = k % len(lst)\n",
    "    return lst[-k:] + lst[:-k]    # not one by one \n",
    "\n",
    "\n",
    "print(right_rotate([10, 20, 30, 40, 50], abs(3)))"
   ]
  },
  {
   "cell_type": "markdown",
   "id": "44bd12b3",
   "metadata": {},
   "source": [
    "### Rearrage List\n",
    "Implement a function rearrange(lst) which rearranges the elements such that all the negative elements appear on the left and positive elements appear at the right of the list. Note that it is not necessary to maintain the sorted order of the input list. zero is treated as positive for this question\n",
    "\n"
   ]
  },
  {
   "cell_type": "markdown",
   "id": "420b6d1f",
   "metadata": {},
   "source": [
    "### basic rearrangement"
   ]
  },
  {
   "cell_type": "code",
   "execution_count": 73,
   "id": "684eece8",
   "metadata": {},
   "outputs": [
    {
     "name": "stdout",
     "output_type": "stream",
     "text": [
      "[-1, -9, -6, 5, 4, 20, 10]\n"
     ]
    }
   ],
   "source": [
    "def rearrange(lst):\n",
    "    \n",
    "    lst2 = lst.copy()\n",
    "    l = len(lst)\n",
    "    i, j = 0,0\n",
    "    \n",
    "    for ele in lst:\n",
    "        if ele >= 0:\n",
    "            lst2[l-1 -i ] = ele\n",
    "            i += 1 \n",
    "        else:\n",
    "            lst2[j] = ele\n",
    "            j += 1    \n",
    "            \n",
    "    return lst2   \n",
    "\n",
    "print(rearrange([10, 20, -1, 4, 5, -9, -6]))"
   ]
  },
  {
   "cell_type": "markdown",
   "id": "6fb2092a",
   "metadata": {},
   "source": [
    "### Rearranging in place"
   ]
  },
  {
   "cell_type": "code",
   "execution_count": 75,
   "id": "80792e4d",
   "metadata": {},
   "outputs": [
    {
     "name": "stdout",
     "output_type": "stream",
     "text": [
      "[-1, -9, -6, 10, 20, 4, 5]\n"
     ]
    }
   ],
   "source": [
    "def rearrange(lst):\n",
    "    \n",
    "    i = 1    \n",
    "    while i < len(lst):        \n",
    "        if lst[i] < 0 and i != 0 and lst[i-1] >= 0:\n",
    "            lst[i],lst[i-1] = lst[i-1],lst[i]\n",
    "            i -= 1            \n",
    "        else:\n",
    "            i += 1\n",
    "            \n",
    "    return lst        \n",
    "            \n",
    "print(rearrange([10, -1, 20, 4, 5, -9, -6]))   "
   ]
  },
  {
   "cell_type": "markdown",
   "id": "9fdcd510",
   "metadata": {},
   "source": [
    "### Pythonic Rearrangement"
   ]
  },
  {
   "cell_type": "code",
   "execution_count": 77,
   "id": "6c54775b",
   "metadata": {},
   "outputs": [
    {
     "name": "stdout",
     "output_type": "stream",
     "text": [
      "[-1, -9, -6, 10, 20, 4, 5]\n"
     ]
    }
   ],
   "source": [
    "def rearrange(lst):\n",
    "    return [ i for i in lst if i < 0] + [ i for i in lst if i >= 0]\n",
    "\n",
    "print(rearrange([10, -1, 20, 4, 5, -9, -6]))"
   ]
  },
  {
   "cell_type": "markdown",
   "id": "2c3705b4",
   "metadata": {},
   "source": [
    "### Min-Max in the list\n",
    "\n",
    "Implement a function called max_min(lst) which will re-arrange the elements of a sorted list such that the 0th index will have the largest number, the 1st index will have the smallest, and the 2nd index will have second-largest, and so on. \n",
    "\n",
    "In other words, all the even-numbered indices will have the largest numbers in the list in descending order and the odd-numbered indices will have the smallest numbers in ascending order."
   ]
  },
  {
   "cell_type": "markdown",
   "id": "3797441d",
   "metadata": {},
   "source": [
    "### without sorted list : used remove() which could be expensive "
   ]
  },
  {
   "cell_type": "code",
   "execution_count": null,
   "id": "ebbfb3bd",
   "metadata": {},
   "outputs": [],
   "source": [
    "def max_min(lst):\n",
    "    lst2 = lst.copy()    \n",
    "        \n",
    "    for i in range(len(lst)):\n",
    "        if i%2 == 0:\n",
    "           lst[i] = max(lst2)\n",
    "           lst2.remove(lst[i])\n",
    "            \n",
    "        else:\n",
    "           lst[i] = min(lst2)\n",
    "           lst2.remove(lst[i])\n",
    "            \n",
    "    return lst       \n"
   ]
  },
  {
   "cell_type": "markdown",
   "id": "0aa4e8bb",
   "metadata": {},
   "source": [
    "### with sorted list"
   ]
  },
  {
   "cell_type": "code",
   "execution_count": 79,
   "id": "ed0a74d0",
   "metadata": {},
   "outputs": [],
   "source": [
    "def max_min(lst):\n",
    "    \n",
    "    result = []\n",
    "    \n",
    "    for i in range(0, len(lst)//2):\n",
    "        result.append(lst[-(i+1)])     #  first append max\n",
    "        result.append(lst[i])          #  then append min \n",
    "                      \n",
    "    if len(lst) % 2 == 1:\n",
    "        # if middle value then append\n",
    "        result.append(lst[len(lst)//2])\n",
    "    return result                  "
   ]
  },
  {
   "cell_type": "markdown",
   "id": "50a8f69b",
   "metadata": {},
   "source": [
    "### Max sub-list\n",
    "Given an unsorted list A , the maximum sum sub list is the sub list (contiguous elements) from A  for which the sum of the elements is maximum. In this challenge, we want to find the sum of the maximum sum sub list. \n",
    "\n",
    "This problem is a tricky one because the list might have negative integers in any position, so we have to cater to those negative integers while choosing the continuous sublist with the largest positive values."
   ]
  },
  {
   "cell_type": "markdown",
   "id": "0c17e414",
   "metadata": {},
   "source": [
    "### my method : returns the sub array also"
   ]
  },
  {
   "cell_type": "code",
   "execution_count": 98,
   "id": "abf3218d",
   "metadata": {},
   "outputs": [
    {
     "data": {
      "text/plain": [
       "[1, 2, 3, 6, -5, 1, 11]"
      ]
     },
     "execution_count": 98,
     "metadata": {},
     "output_type": "execute_result"
    }
   ],
   "source": [
    "def find_max_sum_sublist(lst):\n",
    "    \n",
    "    sub_lst = []\n",
    "    max_list = []\n",
    "    \n",
    "    for i in range(len(lst)):\n",
    "        if sum(sub_lst) + lst[i] > 0 and lst[i] > 0:\n",
    "            sub_lst.append(lst[i])\n",
    "            if sum(sub_lst) >= sum(max_list):               \n",
    "               max_list = sub_lst.copy()   \n",
    "            \n",
    "        elif sum(sub_lst) + lst[i] > 0:\n",
    "            sub_lst.append(lst[i])\n",
    "            \n",
    "        elif sum(sub_lst) + lst[i] < 0:\n",
    "            sub_lst = []   \n",
    "            \n",
    "    return max_list     \n",
    "            \n",
    "\n",
    "            \n",
    "\n",
    "find_max_sum_sublist([-4, 2, -5, 1, 2, 3, 6, -5, 1,11])    "
   ]
  },
  {
   "cell_type": "markdown",
   "id": "c2971a72",
   "metadata": {},
   "source": [
    "### kadane's algorithm"
   ]
  },
  {
   "cell_type": "code",
   "execution_count": 100,
   "id": "b2bafd90",
   "metadata": {},
   "outputs": [
    {
     "name": "stdout",
     "output_type": "stream",
     "text": [
      "2\n",
      "-3\n",
      "1\n",
      "3\n",
      "6\n",
      "12\n",
      "7\n",
      "8\n",
      "19\n",
      "Sum of largest subarray:  19\n"
     ]
    }
   ],
   "source": [
    "def find_max_sum_sublist(lst): \n",
    "  if (len(lst) < 1): \n",
    "    return 0;\n",
    "\n",
    "  curr_max = lst[0];\n",
    "  global_max = lst[0];\n",
    "  length_array = len(lst);\n",
    "  \n",
    "  for i in range(1, length_array):\n",
    "    if curr_max < 0:                       # if sum of sub-sequence < 0, then make the current element the sum \n",
    "      curr_max = lst[i]                    # curr_max is just loke your sub_lst above \n",
    "    else:\n",
    "      curr_max += lst[i]\n",
    "    \n",
    "    print(curr_max)\n",
    "    \n",
    "    if global_max < curr_max:              # global max is just like like your max_list above \n",
    "      global_max = curr_max\n",
    "\n",
    "  return global_max;\n",
    "\n",
    "\n",
    "lst = [-4, 2, -5, 1, 2, 3, 6, -5, 1,11];\n",
    "print(\"Sum of largest subarray: \", find_max_sum_sublist(lst));"
   ]
  },
  {
   "cell_type": "code",
   "execution_count": null,
   "id": "64f205a3",
   "metadata": {},
   "outputs": [],
   "source": []
  },
  {
   "cell_type": "code",
   "execution_count": null,
   "id": "938e4470",
   "metadata": {},
   "outputs": [],
   "source": []
  },
  {
   "cell_type": "code",
   "execution_count": null,
   "id": "7661f10d",
   "metadata": {},
   "outputs": [],
   "source": []
  },
  {
   "cell_type": "code",
   "execution_count": null,
   "id": "1ba73d6f",
   "metadata": {},
   "outputs": [],
   "source": []
  },
  {
   "cell_type": "code",
   "execution_count": null,
   "id": "13598ffe",
   "metadata": {},
   "outputs": [],
   "source": []
  },
  {
   "cell_type": "code",
   "execution_count": null,
   "id": "ca571228",
   "metadata": {},
   "outputs": [],
   "source": []
  },
  {
   "cell_type": "code",
   "execution_count": null,
   "id": "180ea01a",
   "metadata": {},
   "outputs": [],
   "source": []
  },
  {
   "cell_type": "code",
   "execution_count": null,
   "id": "d5997b6a",
   "metadata": {},
   "outputs": [],
   "source": []
  },
  {
   "cell_type": "code",
   "execution_count": null,
   "id": "2d3454d2",
   "metadata": {},
   "outputs": [],
   "source": []
  },
  {
   "cell_type": "code",
   "execution_count": null,
   "id": "3b3c357a",
   "metadata": {},
   "outputs": [],
   "source": []
  },
  {
   "cell_type": "code",
   "execution_count": null,
   "id": "d0659075",
   "metadata": {},
   "outputs": [],
   "source": []
  },
  {
   "cell_type": "code",
   "execution_count": null,
   "id": "ebacdcc0",
   "metadata": {},
   "outputs": [],
   "source": []
  },
  {
   "cell_type": "markdown",
   "id": "8fc3d3f4",
   "metadata": {},
   "source": [
    "## Check : insert-extend vs append"
   ]
  },
  {
   "cell_type": "code",
   "execution_count": null,
   "id": "dbf3a666",
   "metadata": {},
   "outputs": [],
   "source": []
  }
 ],
 "metadata": {
  "kernelspec": {
   "display_name": "Python 3 (ipykernel)",
   "language": "python",
   "name": "python3"
  },
  "language_info": {
   "codemirror_mode": {
    "name": "ipython",
    "version": 3
   },
   "file_extension": ".py",
   "mimetype": "text/x-python",
   "name": "python",
   "nbconvert_exporter": "python",
   "pygments_lexer": "ipython3",
   "version": "3.8.10"
  }
 },
 "nbformat": 4,
 "nbformat_minor": 5
}
