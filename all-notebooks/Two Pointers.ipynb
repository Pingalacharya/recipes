{
 "cells": [
  {
   "cell_type": "markdown",
   "id": "7555b08d",
   "metadata": {},
   "source": [
    "## Problem 1\n",
    "```\n",
    "Given an array of sorted numbers and a target sum, find a pair in the array whose sum is equal to the given target.\n",
    "\n",
    "Input: [1, 2, 3, 4, 6], target=6\n",
    "Output: [1, 3]\n",
    "Explanation: The numbers at index 1 and 3 add up to 6: 2+4=6\n",
    "```        \n",
    "\n",
    "### my solution"
   ]
  },
  {
   "cell_type": "code",
   "execution_count": 1,
   "id": "48b5b03c",
   "metadata": {},
   "outputs": [
    {
     "name": "stdout",
     "output_type": "stream",
     "text": [
      "[1, 3]\n",
      "[0, 2]\n"
     ]
    }
   ],
   "source": [
    "def pair_with_targetsum(arr, target_sum):    # sorted array\n",
    "    \n",
    "    sums = 0\n",
    "    \n",
    "    start,end = 0, len(arr) -1 \n",
    "       \n",
    "    while True:        #   you forgot to put condition here : while(start < end):\n",
    "        \n",
    "        if arr[start] + arr[end] == target_sum:\n",
    "            return [start, end]\n",
    "        \n",
    "        elif arr[start] + arr[end] > target_sum:\n",
    "            end -= 1\n",
    "            \n",
    "        elif arr[start] + arr[end] < target_sum:\n",
    "            start += 1    \n",
    "            \n",
    "    return -1 \n",
    "    \n",
    "\n",
    "\n",
    "def main():\n",
    "  print(pair_with_targetsum([1, 2, 3, 4, 6], 6))\n",
    "  print(pair_with_targetsum([2, 5, 9, 11], 11))\n",
    "\n",
    "\n",
    "main()"
   ]
  },
  {
   "cell_type": "markdown",
   "id": "0d84ae06",
   "metadata": {},
   "source": [
    "## Problem 2\n",
    "\n",
    "```\n",
    "Given an array of sorted numbers, remove all duplicate number instances from it in-place, such that each element appears only once. The relative order of the elements should be kept the same and you should not use any extra space so that that the solution have a space complexity of O(1).\n",
    "\n",
    "Move all the unique elements at the beginning of the array and after moving return the length of the subarray that has no duplicate in it.\n",
    "```\n",
    "\n",
    "### my solution"
   ]
  },
  {
   "cell_type": "code",
   "execution_count": 7,
   "id": "57923324",
   "metadata": {},
   "outputs": [
    {
     "name": "stdout",
     "output_type": "stream",
     "text": [
      "4\n",
      "2\n"
     ]
    }
   ],
   "source": [
    "def remove_duplicates(arr):     # sorted numbers \n",
    "        \n",
    "    i = 1     \n",
    "    while i < len(arr) :           # dont forget this step. \n",
    "        if arr[i -1] == arr[i]:\n",
    "            arr.pop(i)\n",
    "            i -= 1\n",
    "            \n",
    "        i += 1    \n",
    "    \n",
    "    return len(arr)\n",
    "\n",
    "\n",
    "\n",
    "def main():\n",
    "  print(remove_duplicates([2, 3, 3, 3, 6, 9, 9]))\n",
    "  print(remove_duplicates([2, 2, 2, 11]))\n",
    "\n",
    "\n",
    "main()"
   ]
  },
  {
   "cell_type": "markdown",
   "id": "523b8514",
   "metadata": {},
   "source": [
    "## Problem 3 \n",
    "```\n",
    "Given an array of unsorted numbers,find all unique triplets in it that add up to zero.\n",
    "\n",
    "Input: [-3, 0, 1, 2, -1, 1, -2]\n",
    "Output: [-3, 1, 2], [-2, 0, 2], [-2, 1, 1], [-1, 0, 1]\n",
    "Explanation: There are four unique triplets whose sum is equal to zero.\n",
    "```\n",
    "\n",
    "### my solution"
   ]
  },
  {
   "cell_type": "code",
   "execution_count": 32,
   "id": "11607d06",
   "metadata": {},
   "outputs": [
    {
     "name": "stdout",
     "output_type": "stream",
     "text": [
      "[[-3, 1, 2], [-2, 0, 2], [-2, 1, 1], [-1, 0, 1]]\n",
      "[[-5, 2, 3], [-2, -1, 3]]\n",
      "8.702278137207031e-05\n"
     ]
    }
   ],
   "source": [
    "def search_triplets(arr):    # assume sorted array first\n",
    "    \n",
    "    arr.sort()                         # sorts in place \n",
    "    start, end  = 0, len(arr)-1   \n",
    "    results = []\n",
    "    \n",
    "    while start < end :    \n",
    "        mid = (start + end) // 2        \n",
    "         \n",
    "        if arr[start] + arr[end] + arr[mid] >= 0: \n",
    "            \n",
    "            while arr[start] + arr[end] + arr[mid] >= 0 and  mid > start :                \n",
    "                if arr[start] + arr[end] + arr[mid] == 0 :\n",
    "                    if [arr[start],arr[mid],arr[end]] not in results:\n",
    "                       results.append([arr[start],arr[mid],arr[end]])\n",
    "                    break  \n",
    "                    \n",
    "                mid -= 1                  \n",
    "            end -= 1\n",
    "\n",
    "        elif arr[start] + arr[end] + arr[mid] < 0:   \n",
    "            \n",
    "            while arr[start] + arr[end] + arr[mid] <= 0 and mid < end :                \n",
    "                if arr[start] + arr[end] + arr[mid] == 0 :\n",
    "                    \n",
    "                    if [arr[start],arr[mid],arr[end]] not in results:\n",
    "                          results.append([arr[start],arr[mid],arr[end]])\n",
    "                    break                \n",
    "                       \n",
    "                mid += 1                  \n",
    "            start += 1    \n",
    "    \n",
    "    return results\n",
    "\n",
    "\n",
    "\n",
    "\n",
    "\n",
    "import time\n",
    "\n",
    "def main():\n",
    "  print(search_triplets([-3, 0, 1, 2, -1, 1, -2]))\n",
    "  print(search_triplets([-5, 2, -1, -2, 3]))\n",
    "    \n",
    "start = time.time()\n",
    "main()\n",
    "total_time = time.time() -start\n",
    "\n",
    "print(total_time)"
   ]
  },
  {
   "cell_type": "markdown",
   "id": "c3791a81",
   "metadata": {},
   "source": [
    "### author solution"
   ]
  },
  {
   "cell_type": "code",
   "execution_count": 33,
   "id": "2925e17e",
   "metadata": {},
   "outputs": [
    {
     "name": "stdout",
     "output_type": "stream",
     "text": [
      "[[-3, 1, 2], [-2, 0, 2], [-2, 1, 1], [-1, 0, 1]]\n",
      "[[-5, 2, 3], [-2, -1, 3]]\n",
      "8.821487426757812e-05\n"
     ]
    }
   ],
   "source": [
    "def search_triplets(arr):\n",
    "  arr.sort()\n",
    "  triplets = []\n",
    "  for i in range(len(arr)):\n",
    "    if i > 0 and arr[i] == arr[i-1]:  # skip same element to avoid duplicate triplets\n",
    "      continue\n",
    "    search_pair(arr, -arr[i], i+1, triplets)\n",
    "\n",
    "  return triplets\n",
    "\n",
    "\n",
    "def search_pair(arr, target_sum, left, triplets):\n",
    "  right = len(arr) - 1\n",
    "  while(left < right):\n",
    "    current_sum = arr[left] + arr[right]\n",
    "    if current_sum == target_sum:  # found the triplet\n",
    "      triplets.append([-target_sum, arr[left], arr[right]])\n",
    "      left += 1\n",
    "      right -= 1\n",
    "      while left < right and arr[left] == arr[left - 1]:\n",
    "        left += 1  # skip same element to avoid duplicate triplets\n",
    "      while left < right and arr[right] == arr[right + 1]:\n",
    "        right -= 1  # skip same element to avoid duplicate triplets\n",
    "    elif target_sum > current_sum:\n",
    "      left += 1  # we need a pair with a bigger sum\n",
    "    else:\n",
    "      right -= 1  # we need a pair with a smaller sum\n",
    "\n",
    "\n",
    "def main():\n",
    "  print(search_triplets([-3, 0, 1, 2, -1, 1, -2]))\n",
    "  print(search_triplets([-5, 2, -1, -2, 3]))\n",
    "\n",
    "    \n",
    "    \n",
    "start = time.time()\n",
    "main()\n",
    "total_time = time.time() -start\n",
    "\n",
    "print(total_time)"
   ]
  },
  {
   "cell_type": "code",
   "execution_count": null,
   "id": "7fff32cd",
   "metadata": {},
   "outputs": [],
   "source": []
  }
 ],
 "metadata": {
  "kernelspec": {
   "display_name": "Python 3 (ipykernel)",
   "language": "python",
   "name": "python3"
  },
  "language_info": {
   "codemirror_mode": {
    "name": "ipython",
    "version": 3
   },
   "file_extension": ".py",
   "mimetype": "text/x-python",
   "name": "python",
   "nbconvert_exporter": "python",
   "pygments_lexer": "ipython3",
   "version": "3.8.10"
  }
 },
 "nbformat": 4,
 "nbformat_minor": 5
}
