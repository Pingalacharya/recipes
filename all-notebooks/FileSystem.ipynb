{
 "cells": [
  {
   "cell_type": "code",
   "execution_count": 17,
   "id": "c1b95fad",
   "metadata": {},
   "outputs": [],
   "source": [
    "import re\n",
    "import os\n",
    "from urllib.request import urlopen\n",
    "from fnmatch import fnmatch, fnmatchcase\n",
    "from calendar import month_abbr\n",
    "import unicodedata"
   ]
  },
  {
   "cell_type": "code",
   "execution_count": 21,
   "id": "c11c91ab",
   "metadata": {},
   "outputs": [
    {
     "name": "stdout",
     "output_type": "stream",
     "text": [
      "What's the temperature? 45\n"
     ]
    },
    {
     "data": {
      "text/plain": [
       "45"
      ]
     },
     "execution_count": 21,
     "metadata": {},
     "output_type": "execute_result"
    }
   ],
   "source": [
    "temp = int(input(\"What's the temperature? \"))\n",
    "temp"
   ]
  },
  {
   "cell_type": "code",
   "execution_count": 13,
   "id": "2dfb3682",
   "metadata": {},
   "outputs": [
    {
     "name": "stdout",
     "output_type": "stream",
     "text": [
      "['strings.ipynb', 'strings-Copy1.ipynb', 'FileSystem.ipynb', '.ipynb_checkpoints']\n",
      "True\n",
      "False\n",
      "[]\n",
      "False\n"
     ]
    }
   ],
   "source": [
    "filename = 'spam.txt'\n",
    "\n",
    "print(filename.endswith('txt'))\n",
    "print(filename.startswith('file:'))\n",
    "\n",
    "\n",
    "#################################################################################\n",
    "\n",
    "\n",
    "filenames = os.listdir('.')\n",
    "print(filenames)\n",
    "\n",
    "print([name for name in filenames if name.endswith(('.git','.py'))])\n",
    "print(any(name.endswith('.py') for name in filenames))\n",
    "\n",
    "\n",
    "\n",
    "\n",
    "############################################################################\n",
    "name = \"https://stackoverflow.com/questions/47776318/plotting-a-2d-numpy-array-with-custom-colors\"\n",
    "\n",
    "from urllib.request import urlopen\n",
    "\n",
    "def read_data(name):\n",
    "    if name.startswith(('http:','https:','ftp:')):\n",
    "        return urlopen(name).read()\n",
    "    else:\n",
    "        with open(name) as f:\n",
    "            return f.read()\n",
    "\n",
    "###############################################################################\n",
    "\n"
   ]
  },
  {
   "cell_type": "code",
   "execution_count": 20,
   "id": "e3016ae3",
   "metadata": {},
   "outputs": [],
   "source": [
    "\n",
    "        \n",
    "# read_data(name)        "
   ]
  },
  {
   "cell_type": "code",
   "execution_count": null,
   "id": "330e93b5",
   "metadata": {},
   "outputs": [],
   "source": []
  }
 ],
 "metadata": {
  "kernelspec": {
   "display_name": "Python 3 (ipykernel)",
   "language": "python",
   "name": "python3"
  },
  "language_info": {
   "codemirror_mode": {
    "name": "ipython",
    "version": 3
   },
   "file_extension": ".py",
   "mimetype": "text/x-python",
   "name": "python",
   "nbconvert_exporter": "python",
   "pygments_lexer": "ipython3",
   "version": "3.8.10"
  }
 },
 "nbformat": 4,
 "nbformat_minor": 5
}
