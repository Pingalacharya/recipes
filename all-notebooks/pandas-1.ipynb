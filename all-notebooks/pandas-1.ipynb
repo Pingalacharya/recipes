{
 "cells": [
  {
   "cell_type": "code",
   "execution_count": 38,
   "id": "1b0de6cf",
   "metadata": {},
   "outputs": [],
   "source": [
    "import pandas as pd \n",
    "import numpy as np\n",
    "import os\n",
    "\n",
    "\n",
    "df = pd.read_csv(\"music.csv\")"
   ]
  },
  {
   "cell_type": "markdown",
   "id": "d64ed0de",
   "metadata": {},
   "source": [
    "### filtering"
   ]
  },
  {
   "cell_type": "code",
   "execution_count": 14,
   "id": "fef81bae",
   "metadata": {},
   "outputs": [],
   "source": [
    "out = df[~((df.country=='US') & (df.plays >= 500))]\n",
    "out = df[df[\"country\"].isin([\"US\",\"UK\"]) ]\n",
    "# print(out.artist.values)"
   ]
  },
  {
   "cell_type": "markdown",
   "id": "2f0264f3",
   "metadata": {},
   "source": [
    "### groupby"
   ]
  },
  {
   "cell_type": "code",
   "execution_count": 16,
   "id": "41b7eadb",
   "metadata": {},
   "outputs": [],
   "source": [
    "print(df.groupby('country').plays)   # series\n",
    "print(df.groupby('country').plays.sum().index)\n",
    "print(df.groupby('country').plays.sum().to_dict())\n",
    "print(df.groupby(['country', 'genre']).plays.sum().to_dict())"
   ]
  },
  {
   "cell_type": "markdown",
   "id": "af66c9f7",
   "metadata": {},
   "source": [
    "### reset_index"
   ]
  },
  {
   "cell_type": "code",
   "execution_count": 18,
   "id": "a38c8e9f",
   "metadata": {},
   "outputs": [],
   "source": [
    "non_reset = df.groupby('country').plays.sum()           # countries are the index\n",
    "reset = df.groupby('country').plays.sum().reset_index() # reset the index to numbers\n",
    "print((reset[reset.plays>1000].country.values))"
   ]
  },
  {
   "cell_type": "markdown",
   "id": "a07c8b66",
   "metadata": {},
   "source": [
    "### apply"
   ]
  },
  {
   "cell_type": "code",
   "execution_count": null,
   "id": "043159af",
   "metadata": {},
   "outputs": [],
   "source": [
    "df.groupby('country').apply(lambda x: x.plays.sum() / x.fans.sum())\n",
    "df.groupby('country').apply(lambda x: x.plays.sum() / x.fans.sum()).to_dict()"
   ]
  },
  {
   "cell_type": "code",
   "execution_count": 29,
   "id": "5e557722",
   "metadata": {},
   "outputs": [],
   "source": [
    "def is_popular(plays, fans):\n",
    "    if plays > 1000 or fans > 50:\n",
    "        return 'very popular'\n",
    "    elif plays >= 500:\n",
    "        return 'popular'\n",
    "    else:\n",
    "        return 'not popular'\n",
    "    \n",
    "\n",
    "\n",
    "df = pd.read_csv('music.csv')\n",
    "df['popular'] = df.apply(lambda x: is_popular(x.plays, x.fans), axis=1)\n",
    "df.set_index('artist')['popular'].to_dict()"
   ]
  },
  {
   "cell_type": "code",
   "execution_count": 31,
   "id": "5c384df4",
   "metadata": {},
   "outputs": [
    {
     "data": {
      "text/plain": [
       "{'US Sales': 10000, 'UK Sales': 20000, 'Egypt Sales': 5000}"
      ]
     },
     "execution_count": 31,
     "metadata": {},
     "output_type": "execute_result"
    }
   ],
   "source": [
    "df = pd.read_csv('sales.csv').set_index('Band')\n",
    "\n",
    "replaced = df.applymap(lambda x: int(x.replace('k', '')) * 1000)\n",
    "mx = replaced.apply(lambda x: max(x), axis=0)\n",
    "mx.to_dict()"
   ]
  },
  {
   "cell_type": "markdown",
   "id": "90051ec3",
   "metadata": {},
   "source": [
    "### Aggregate\n",
    "\n",
    "Your music analyst is interested in knowing multiple statistics at once, grouped by country.These are as follows:\n",
    "\n",
    "- Sum of plays\n",
    "- Average of plays\n",
    "- Maximum fans from all artists in the country"
   ]
  },
  {
   "cell_type": "code",
   "execution_count": 22,
   "id": "5562f3d0",
   "metadata": {},
   "outputs": [
    {
     "data": {
      "text/html": [
       "<div>\n",
       "<style scoped>\n",
       "    .dataframe tbody tr th:only-of-type {\n",
       "        vertical-align: middle;\n",
       "    }\n",
       "\n",
       "    .dataframe tbody tr th {\n",
       "        vertical-align: top;\n",
       "    }\n",
       "\n",
       "    .dataframe thead tr th {\n",
       "        text-align: left;\n",
       "    }\n",
       "\n",
       "    .dataframe thead tr:last-of-type th {\n",
       "        text-align: right;\n",
       "    }\n",
       "</style>\n",
       "<table border=\"1\" class=\"dataframe\">\n",
       "  <thead>\n",
       "    <tr>\n",
       "      <th></th>\n",
       "      <th colspan=\"2\" halign=\"left\">plays</th>\n",
       "      <th>fans</th>\n",
       "    </tr>\n",
       "    <tr>\n",
       "      <th></th>\n",
       "      <th>sum</th>\n",
       "      <th>mean</th>\n",
       "      <th>max</th>\n",
       "    </tr>\n",
       "    <tr>\n",
       "      <th>country</th>\n",
       "      <th></th>\n",
       "      <th></th>\n",
       "      <th></th>\n",
       "    </tr>\n",
       "  </thead>\n",
       "  <tbody>\n",
       "    <tr>\n",
       "      <th>Egypt</th>\n",
       "      <td>200</td>\n",
       "      <td>200.0</td>\n",
       "      <td>10</td>\n",
       "    </tr>\n",
       "    <tr>\n",
       "      <th>Finland</th>\n",
       "      <td>250</td>\n",
       "      <td>250.0</td>\n",
       "      <td>10</td>\n",
       "    </tr>\n",
       "    <tr>\n",
       "      <th>UK</th>\n",
       "      <td>35150</td>\n",
       "      <td>8787.5</td>\n",
       "      <td>3500</td>\n",
       "    </tr>\n",
       "    <tr>\n",
       "      <th>US</th>\n",
       "      <td>2050</td>\n",
       "      <td>512.5</td>\n",
       "      <td>80</td>\n",
       "    </tr>\n",
       "  </tbody>\n",
       "</table>\n",
       "</div>"
      ],
      "text/plain": [
       "         plays          fans\n",
       "           sum    mean   max\n",
       "country                     \n",
       "Egypt      200   200.0    10\n",
       "Finland    250   250.0    10\n",
       "UK       35150  8787.5  3500\n",
       "US        2050   512.5    80"
      ]
     },
     "metadata": {},
     "output_type": "display_data"
    }
   ],
   "source": [
    "grp = df.groupby('country').agg({'plays': ['sum', 'mean'], 'fans': ['max']})\n",
    "display(grp)"
   ]
  },
  {
   "cell_type": "markdown",
   "id": "fabe17f6",
   "metadata": {},
   "source": [
    "### to datetime"
   ]
  },
  {
   "cell_type": "code",
   "execution_count": 25,
   "id": "16645d52",
   "metadata": {},
   "outputs": [],
   "source": [
    "df = pd.read_csv('dates.csv')\n",
    "\n",
    "df['date'] = pd.to_datetime(df['date'])\n",
    "\n",
    "resampled = df.set_index('date').resample('MS').size()   # MS : Month Start\n",
    "\n",
    "resampled.index = resampled.index.map(lambda x: x.strftime(\"%Y-%m\"))"
   ]
  },
  {
   "cell_type": "markdown",
   "id": "7187f6f6",
   "metadata": {},
   "source": [
    "### map"
   ]
  },
  {
   "cell_type": "code",
   "execution_count": 27,
   "id": "a10ea2be",
   "metadata": {},
   "outputs": [],
   "source": [
    "df = pd.read_csv('music.csv')\n",
    "continents = {'UK': 'Europe', 'US': 'North America', 'Egypt': 'Africa', 'Finland': 'Europe'}\n",
    "\n",
    "df [\"continent\"] = df[\"country\"].map(lambda x : continents[x])"
   ]
  },
  {
   "cell_type": "markdown",
   "id": "9a22b802",
   "metadata": {},
   "source": [
    "### basic merge "
   ]
  },
  {
   "cell_type": "code",
   "execution_count": 34,
   "id": "2b381bcb",
   "metadata": {},
   "outputs": [],
   "source": [
    "df = pd.read_csv('music_2.csv')\n",
    "countries = pd.read_csv('countries.csv')\n",
    "\n",
    "merged = df.merge(countries, left_on='country', right_on='country_id')\n",
    "\n"
   ]
  },
  {
   "cell_type": "markdown",
   "id": "3f9b5b00",
   "metadata": {},
   "source": [
    "### merge with missing values"
   ]
  },
  {
   "cell_type": "code",
   "execution_count": null,
   "id": "014903b6",
   "metadata": {},
   "outputs": [],
   "source": [
    "df = pd.read_csv('music_2.csv')\n",
    "countries = pd.read_csv('countries.csv')\n",
    "merged = pd.merge(df, countries, how='left', left_on='country', right_on='country_id')\n",
    "merged[merged.name.isnull()].plays.sum()"
   ]
  },
  {
   "cell_type": "code",
   "execution_count": null,
   "id": "b4b6d7ab",
   "metadata": {},
   "outputs": [],
   "source": []
  },
  {
   "cell_type": "markdown",
   "id": "53a620c8",
   "metadata": {},
   "source": [
    "## MORE PANDAS"
   ]
  },
  {
   "cell_type": "code",
   "execution_count": 47,
   "id": "c2152d24",
   "metadata": {},
   "outputs": [
    {
     "data": {
      "text/html": [
       "<div>\n",
       "<style scoped>\n",
       "    .dataframe tbody tr th:only-of-type {\n",
       "        vertical-align: middle;\n",
       "    }\n",
       "\n",
       "    .dataframe tbody tr th {\n",
       "        vertical-align: top;\n",
       "    }\n",
       "\n",
       "    .dataframe thead th {\n",
       "        text-align: right;\n",
       "    }\n",
       "</style>\n",
       "<table border=\"1\" class=\"dataframe\">\n",
       "  <thead>\n",
       "    <tr style=\"text-align: right;\">\n",
       "      <th></th>\n",
       "      <th>Order ID</th>\n",
       "      <th>Product</th>\n",
       "      <th>Quantity Ordered</th>\n",
       "      <th>Price Each</th>\n",
       "      <th>Order Date</th>\n",
       "      <th>Purchase Address</th>\n",
       "    </tr>\n",
       "  </thead>\n",
       "  <tbody>\n",
       "    <tr>\n",
       "      <th>0</th>\n",
       "      <td>209921</td>\n",
       "      <td>USB-C Charging Cable</td>\n",
       "      <td>1</td>\n",
       "      <td>11.95</td>\n",
       "      <td>06/23/19 19:34</td>\n",
       "      <td>950 Walnut St, Portland, ME 04101</td>\n",
       "    </tr>\n",
       "  </tbody>\n",
       "</table>\n",
       "</div>"
      ],
      "text/plain": [
       "  Order ID               Product Quantity Ordered Price Each      Order Date  \\\n",
       "0   209921  USB-C Charging Cable                1      11.95  06/23/19 19:34   \n",
       "\n",
       "                    Purchase Address  \n",
       "0  950 Walnut St, Portland, ME 04101  "
      ]
     },
     "execution_count": 47,
     "metadata": {},
     "output_type": "execute_result"
    }
   ],
   "source": [
    "path = \"./Sales_Data\"       \n",
    "files = [ file for file in os.listdir(path) if not file.startswith(\".\")]\n",
    "\n",
    "df_all = pd.DataFrame()\n",
    "\n",
    "for file in files:\n",
    "   temp = pd.read_csv(path + \"/\" + file) \n",
    "   df_all =  pd.concat([df_all,temp])\n",
    "    \n",
    "\n",
    "df_all.to_csv(\"all_sales_data.csv\", index=False)   \n",
    "df = pd.read_csv(\"all_sales_data.csv\")\n",
    "\n",
    "df.head(1)"
   ]
  },
  {
   "cell_type": "markdown",
   "id": "7e1100f1",
   "metadata": {},
   "source": [
    "### drop nan  rows"
   ]
  },
  {
   "cell_type": "code",
   "execution_count": 48,
   "id": "a39e02e1",
   "metadata": {},
   "outputs": [
    {
     "data": {
      "text/plain": [
       "(186305, 6)"
      ]
     },
     "execution_count": 48,
     "metadata": {},
     "output_type": "execute_result"
    }
   ],
   "source": [
    "df_nan = df[df.isna().any(axis = 1)]\n",
    "\n",
    "df = df.dropna(how=\"all\")\n",
    "df.shape"
   ]
  },
  {
   "cell_type": "markdown",
   "id": "6b8eddd6",
   "metadata": {},
   "source": [
    "### filtering"
   ]
  },
  {
   "cell_type": "code",
   "execution_count": 49,
   "id": "1c6c371c",
   "metadata": {},
   "outputs": [],
   "source": [
    "df = df[df['Order Date'].str[0:2]!='Or']"
   ]
  },
  {
   "cell_type": "markdown",
   "id": "570ac899",
   "metadata": {},
   "source": [
    "### convert data type to numeric"
   ]
  },
  {
   "cell_type": "code",
   "execution_count": 50,
   "id": "d0854da9",
   "metadata": {},
   "outputs": [],
   "source": [
    "df['Quantity Ordered'] = pd.to_numeric(df['Quantity Ordered'])\n",
    "df['Price Each'] = pd.to_numeric(df['Price Each'])"
   ]
  },
  {
   "cell_type": "markdown",
   "id": "c6e32d16",
   "metadata": {},
   "source": [
    "### augment data"
   ]
  },
  {
   "cell_type": "code",
   "execution_count": 51,
   "id": "d7517776",
   "metadata": {},
   "outputs": [],
   "source": [
    "df[\"Month\"] = df[\"Order Date\"].str[0:2].astype(\"int32\")"
   ]
  },
  {
   "cell_type": "code",
   "execution_count": 52,
   "id": "6a388f1e",
   "metadata": {},
   "outputs": [],
   "source": [
    "df[\"Month2\"] = pd.to_datetime( df[\"Order Date\"]).dt.month"
   ]
  },
  {
   "cell_type": "markdown",
   "id": "aac657c6",
   "metadata": {},
   "source": [
    "### analysis"
   ]
  },
  {
   "cell_type": "code",
   "execution_count": null,
   "id": "a05a4253",
   "metadata": {},
   "outputs": [],
   "source": [
    "df[\"Sales\"] = df[\"Quantity Ordered\"].astype(\"int\")*df[\"Price Each\"].astype(\"float\")"
   ]
  },
  {
   "cell_type": "code",
   "execution_count": 53,
   "id": "12066700",
   "metadata": {},
   "outputs": [
    {
     "data": {
      "text/html": [
       "<div>\n",
       "<style scoped>\n",
       "    .dataframe tbody tr th:only-of-type {\n",
       "        vertical-align: middle;\n",
       "    }\n",
       "\n",
       "    .dataframe tbody tr th {\n",
       "        vertical-align: top;\n",
       "    }\n",
       "\n",
       "    .dataframe thead th {\n",
       "        text-align: right;\n",
       "    }\n",
       "</style>\n",
       "<table border=\"1\" class=\"dataframe\">\n",
       "  <thead>\n",
       "    <tr style=\"text-align: right;\">\n",
       "      <th></th>\n",
       "      <th>Order ID</th>\n",
       "      <th>Grouped</th>\n",
       "    </tr>\n",
       "  </thead>\n",
       "  <tbody>\n",
       "    <tr>\n",
       "      <th>0</th>\n",
       "      <td>209921</td>\n",
       "      <td>USB-C Charging Cable</td>\n",
       "    </tr>\n",
       "    <tr>\n",
       "      <th>1</th>\n",
       "      <td>209922</td>\n",
       "      <td>Macbook Pro Laptop</td>\n",
       "    </tr>\n",
       "    <tr>\n",
       "      <th>2</th>\n",
       "      <td>209923</td>\n",
       "      <td>ThinkPad Laptop</td>\n",
       "    </tr>\n",
       "    <tr>\n",
       "      <th>3</th>\n",
       "      <td>209924</td>\n",
       "      <td>27in FHD Monitor</td>\n",
       "    </tr>\n",
       "    <tr>\n",
       "      <th>4</th>\n",
       "      <td>209925</td>\n",
       "      <td>Bose SoundSport Headphones</td>\n",
       "    </tr>\n",
       "    <tr>\n",
       "      <th>...</th>\n",
       "      <td>...</td>\n",
       "      <td>...</td>\n",
       "    </tr>\n",
       "    <tr>\n",
       "      <th>186844</th>\n",
       "      <td>176553</td>\n",
       "      <td>USB-C Charging Cable</td>\n",
       "    </tr>\n",
       "    <tr>\n",
       "      <th>186845</th>\n",
       "      <td>176554</td>\n",
       "      <td>Lightning Charging Cable</td>\n",
       "    </tr>\n",
       "    <tr>\n",
       "      <th>186846</th>\n",
       "      <td>176555</td>\n",
       "      <td>27in FHD Monitor</td>\n",
       "    </tr>\n",
       "    <tr>\n",
       "      <th>186847</th>\n",
       "      <td>176556</td>\n",
       "      <td>AAA Batteries (4-pack)</td>\n",
       "    </tr>\n",
       "    <tr>\n",
       "      <th>186848</th>\n",
       "      <td>176557</td>\n",
       "      <td>iPhone,Lightning Charging Cable</td>\n",
       "    </tr>\n",
       "  </tbody>\n",
       "</table>\n",
       "<p>178437 rows × 2 columns</p>\n",
       "</div>"
      ],
      "text/plain": [
       "       Order ID                          Grouped\n",
       "0        209921             USB-C Charging Cable\n",
       "1        209922               Macbook Pro Laptop\n",
       "2        209923                  ThinkPad Laptop\n",
       "3        209924                 27in FHD Monitor\n",
       "4        209925       Bose SoundSport Headphones\n",
       "...         ...                              ...\n",
       "186844   176553             USB-C Charging Cable\n",
       "186845   176554         Lightning Charging Cable\n",
       "186846   176555                 27in FHD Monitor\n",
       "186847   176556           AAA Batteries (4-pack)\n",
       "186848   176557  iPhone,Lightning Charging Cable\n",
       "\n",
       "[178437 rows x 2 columns]"
      ]
     },
     "execution_count": 53,
     "metadata": {},
     "output_type": "execute_result"
    }
   ],
   "source": [
    "df['Grouped'] = df.groupby('Order ID')['Product'].transform(lambda x: ','.join(x))\n",
    "df = df[['Order ID', 'Grouped']].drop_duplicates()\n",
    "df"
   ]
  },
  {
   "cell_type": "markdown",
   "id": "89a401ac",
   "metadata": {},
   "source": []
  },
  {
   "cell_type": "markdown",
   "id": "e300128b",
   "metadata": {},
   "source": [
    "## MORE PANDAS\n",
    "\n",
    "### some more filtering"
   ]
  },
  {
   "cell_type": "code",
   "execution_count": null,
   "id": "12c01449",
   "metadata": {},
   "outputs": [],
   "source": [
    "df = df['playerID'].str.startswith('c')\n",
    "df = df['teamID'].str.endswith('S')\n",
    "df = ~df['playerID'].str.contains('o')\n",
    "\n",
    "isna = df['teamID'].isna()\n",
    "notna = df['teamID'].notna()\n",
    "\n"
   ]
  },
  {
   "cell_type": "markdown",
   "id": "10c28070",
   "metadata": {},
   "source": [
    "### sorting"
   ]
  },
  {
   "cell_type": "code",
   "execution_count": null,
   "id": "1606e4bc",
   "metadata": {},
   "outputs": [],
   "source": [
    "df.sort_values('playerID', ascending=False)"
   ]
  },
  {
   "cell_type": "markdown",
   "id": "3d84fcce",
   "metadata": {},
   "source": [
    "### for categorical values "
   ]
  },
  {
   "cell_type": "code",
   "execution_count": null,
   "id": "e2141ea5",
   "metadata": {},
   "outputs": [],
   "source": [
    "\n",
    "p_ids = df['playerID']\n",
    "p_ids.value_counts()\n",
    "p_ids.value_counts(normalize=True))\n",
    "\n",
    "df['playerID'].unique()"
   ]
  },
  {
   "cell_type": "markdown",
   "id": "465bec77",
   "metadata": {},
   "source": [
    "### conver to numpy "
   ]
  },
  {
   "cell_type": "code",
   "execution_count": null,
   "id": "3cd65747",
   "metadata": {},
   "outputs": [],
   "source": [
    "n_matrix = df.values"
   ]
  },
  {
   "cell_type": "markdown",
   "id": "5da5ede9",
   "metadata": {},
   "source": [
    "### metrics"
   ]
  },
  {
   "cell_type": "code",
   "execution_count": null,
   "id": "db758fd7",
   "metadata": {},
   "outputs": [],
   "source": [
    "df.describe()"
   ]
  }
 ],
 "metadata": {
  "kernelspec": {
   "display_name": "Python 3 (ipykernel)",
   "language": "python",
   "name": "python3"
  },
  "language_info": {
   "codemirror_mode": {
    "name": "ipython",
    "version": 3
   },
   "file_extension": ".py",
   "mimetype": "text/x-python",
   "name": "python",
   "nbconvert_exporter": "python",
   "pygments_lexer": "ipython3",
   "version": "3.8.10"
  }
 },
 "nbformat": 4,
 "nbformat_minor": 5
}
