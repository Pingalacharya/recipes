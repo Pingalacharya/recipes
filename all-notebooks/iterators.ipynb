{
 "cells": [
  {
   "cell_type": "markdown",
   "id": "2fc19b07",
   "metadata": {},
   "source": [
    "Technically speaking, a Python iterator object must implement two special methods, `__iter__()` and `__next__()`, collectively called the iterator protocol.\n",
    "\n",
    "\n",
    "An object is called iterable if we can get an iterator from it. Most built-in containers in Python like: string, list, tuple etc. are iterables.\n",
    "\n",
    "The iter() function (which in turn calls the `__iter__()` method) returns an iterator from them.\n",
    "\n",
    "\n",
    "We use the `next()` function to manually iterate through all the items of an iterator. When we reach the end and there is no more data to be returned, it will raise the StopIteration Exception\n",
    "\n",
    "**Note : `next(obj)` is same as `obj.__next__()`**"
   ]
  },
  {
   "cell_type": "code",
   "execution_count": null,
   "id": "4f337eea",
   "metadata": {},
   "outputs": [],
   "source": [
    "my_list = [6, 9, 0, 3]  \n",
    "\n",
    "\n",
    "my_iter = iter(my_list)              # get an iterator using iter()\n",
    "\n",
    "\n",
    "print(next(my_iter))     \n",
    "print(next(my_iter))     \n",
    "print(my_iter.__next__()) \n",
    "print(my_iter.__next__())  \n",
    "\n",
    "# This will raise error, no items left\n",
    "next(my_iter)"
   ]
  },
  {
   "cell_type": "markdown",
   "id": "40f3dd15",
   "metadata": {},
   "source": [
    "So internally, the for loop creates an iterator object, iter_obj by calling `iter()` on the iterable."
   ]
  },
  {
   "cell_type": "markdown",
   "id": "694c12f0",
   "metadata": {},
   "source": [
    "### an iterator "
   ]
  },
  {
   "cell_type": "code",
   "execution_count": null,
   "id": "cfd61a0f",
   "metadata": {},
   "outputs": [],
   "source": [
    "class PowTwo:\n",
    "    \"\"\"Class to implement an iterator\n",
    "    of powers of two\"\"\"\n",
    "\n",
    "    def __init__(self, max=0):\n",
    "        self.max = max\n",
    "\n",
    "    def __iter__(self):\n",
    "        self.n = 0                                # some initialization\n",
    "        return self\n",
    "\n",
    "    def __next__(self):\n",
    "        if self.n <= self.max:\n",
    "            result = 2 ** self.n\n",
    "            self.n += 1\n",
    "            return result\n",
    "        else:\n",
    "            raise StopIteration\n",
    "\n",
    "\n",
    "# create an object\n",
    "numbers = PowTwo(4)\n",
    "\n",
    "# create an iterable from the object\n",
    "i = iter(numbers)\n",
    "\n",
    "# Using next to get to the next iterator element\n",
    "print(next(i))\n",
    "print(next(i))\n",
    "print(next(i))\n",
    "print(next(i))"
   ]
  },
  {
   "cell_type": "markdown",
   "id": "d1f623ae",
   "metadata": {},
   "source": [
    "### infinite iterator "
   ]
  },
  {
   "cell_type": "code",
   "execution_count": 7,
   "id": "68d3cf8a",
   "metadata": {},
   "outputs": [],
   "source": [
    "class InfIter:\n",
    "    \"\"\"Infinite iterator to return all\n",
    "    odd numbers\"\"\"\n",
    "\n",
    "    def __iter__(self):\n",
    "       self.num = 1\n",
    "       return self\n",
    "\n",
    "    def __next__(self):\n",
    "       num = self.num\n",
    "       self.num += 2\n",
    "       return num"
   ]
  },
  {
   "cell_type": "code",
   "execution_count": null,
   "id": "9c844782",
   "metadata": {},
   "outputs": [],
   "source": []
  }
 ],
 "metadata": {
  "kernelspec": {
   "display_name": "Python 3 (ipykernel)",
   "language": "python",
   "name": "python3"
  },
  "language_info": {
   "codemirror_mode": {
    "name": "ipython",
    "version": 3
   },
   "file_extension": ".py",
   "mimetype": "text/x-python",
   "name": "python",
   "nbconvert_exporter": "python",
   "pygments_lexer": "ipython3",
   "version": "3.8.10"
  }
 },
 "nbformat": 4,
 "nbformat_minor": 5
}
