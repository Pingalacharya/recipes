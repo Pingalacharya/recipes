{
 "cells": [
  {
   "cell_type": "markdown",
   "id": "3aab453d",
   "metadata": {},
   "source": [
    "## STACK\n",
    "```\n",
    "The peek() function returns the last element in the list, which we are considering to be the top of the stack! In case of an empty stack_list, it would return None.\n",
    "```"
   ]
  },
  {
   "cell_type": "code",
   "execution_count": 4,
   "id": "b437858f",
   "metadata": {},
   "outputs": [
    {
     "name": "stdout",
     "output_type": "stream",
     "text": [
      "is_empty(): True\n",
      "peek(): None\n",
      "size(): 0\n"
     ]
    }
   ],
   "source": [
    "class MyStack:\n",
    "    def __init__(self):\n",
    "        self.stack_list = []           # stack is list\n",
    "        self.stack_size = 0            # attribute : size\n",
    "\n",
    "    def is_empty(self):\n",
    "        return self.stack_size == 0\n",
    "\n",
    "    def peek(self):\n",
    "        if self.is_empty():\n",
    "            return None\n",
    "        return self.stack_list[-1]     # if stack is empty, it would return None\n",
    "\n",
    "    def size(self):\n",
    "        return self.stack_size\n",
    "    \n",
    "    def push(self,value):\n",
    "        self.stack_size += 1\n",
    "        stack_list.append(value)\n",
    "        \n",
    "    def pop(self):\n",
    "        if self.is_empty():\n",
    "            return None\n",
    "        self.stack_size -= 1\n",
    "        return self.stack_list.pop()\n",
    "        \n",
    "\n",
    "if __name__ == \"__main__\" :\n",
    "    stack_obj = MyStack()\n",
    "    print(\"is_empty(): \" + str(stack_obj.is_empty()))\n",
    "    print(\"peek(): \" + str(stack_obj.peek()))\n",
    "    print(\"size(): \" + str(stack_obj.size()))"
   ]
  },
  {
   "cell_type": "markdown",
   "id": "f9a62f54",
   "metadata": {},
   "source": [
    "## QUEUE\n",
    "\n",
    "```\n",
    "Queues are implemented in many ways. They can be represented by using lists, Linked Lists, or even Stacks. But most commonly lists are used as the easiest way to implement Queues.\n",
    "\n",
    "With typical arrays, however, the time complexity is O(n) when dequeuing an element from the beginning of the queue. This is because when an element is removed, the addresses of all the subsequent elements must be shifted by 1, which makes it less efficient. With linked lists and doubly linked lists, the operations become faster.\n",
    "\n",
    "```"
   ]
  },
  {
   "cell_type": "code",
   "execution_count": null,
   "id": "ec69c02e",
   "metadata": {},
   "outputs": [],
   "source": []
  }
 ],
 "metadata": {
  "kernelspec": {
   "display_name": "Python 3 (ipykernel)",
   "language": "python",
   "name": "python3"
  },
  "language_info": {
   "codemirror_mode": {
    "name": "ipython",
    "version": 3
   },
   "file_extension": ".py",
   "mimetype": "text/x-python",
   "name": "python",
   "nbconvert_exporter": "python",
   "pygments_lexer": "ipython3",
   "version": "3.8.10"
  }
 },
 "nbformat": 4,
 "nbformat_minor": 5
}
