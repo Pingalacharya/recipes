{
 "cells": [
  {
   "cell_type": "code",
   "execution_count": null,
   "id": "b5d5d44e",
   "metadata": {},
   "outputs": [],
   "source": [
    "class BinaryTreeNode:\n",
    "    def __init__(self,data):\n",
    "       self.data = data\n",
    "       self.left = None\n",
    "       self.right = None\n",
    "    \n",
    "    \n",
    "       # below data members used only for some of the problems\n",
    "       self.next = None\n",
    "       self.parent = None\n",
    "       self.count = 0\n",
    "    \n",
    "\n",
    "class BinaryTree:\n",
    "    def __init__(self,*args):\n",
    "        if len(args) < 1:\n",
    "            self.root = None\n",
    "        elif isinstance(args[0], int):\n",
    "            self.root = BinaryTreeNode(args[0])            \n",
    "        else:\n",
    "            self.root = None\n",
    "            for x in args[0]:\n",
    "                self.insert(x)     \n",
    "    \n",
    "        \n",
    "        "
   ]
  }
 ],
 "metadata": {
  "kernelspec": {
   "display_name": "Python 3 (ipykernel)",
   "language": "python",
   "name": "python3"
  },
  "language_info": {
   "codemirror_mode": {
    "name": "ipython",
    "version": 3
   },
   "file_extension": ".py",
   "mimetype": "text/x-python",
   "name": "python",
   "nbconvert_exporter": "python",
   "pygments_lexer": "ipython3",
   "version": "3.8.10"
  }
 },
 "nbformat": 4,
 "nbformat_minor": 5
}
