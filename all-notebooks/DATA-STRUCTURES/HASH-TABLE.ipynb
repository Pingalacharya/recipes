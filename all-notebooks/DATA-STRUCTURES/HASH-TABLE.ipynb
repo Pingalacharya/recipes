{
 "cells": [
  {
   "cell_type": "markdown",
   "id": "7d353738",
   "metadata": {},
   "source": [
    "\n",
    "```\n",
    "Until now, the overall time complexity accomplished by most of the data structures in insertion, deletion, and search was up to O(logn) or O(nlogn), which is pretty good. But for a significantly large amount of data, this complexity starts to adversely affect the efficiency of an algorithm.\n",
    "\n",
    "The ideal data structure is one that takes a constant amount of time to perform all three operations. And that is where hashing steps into the spotlight!\n",
    "\n",
    "Hashing is a process used to store an object according to a unique key. This means that hashing always creates a key-value pair. A collection of such pairs forms a dictionary where every object or value can be looked up according to its key. Hence, the search operation can be performed in O(1).\n",
    "\n",
    "The concept of hashing has given birth to several new data structures, but the most prominent one is the \n",
    "hash table.\n",
    "\n",
    "If your algorithm prioritizes search operations, then a hash table is the best data structure for you. \n",
    "\n",
    "In Python, hash tables are generally implemented using lists as they provide access to elements in constant time.\n",
    "\n",
    "In Python, we have several in-built types such as set and dict which can provide us the hash table functionality.\n",
    "\n",
    "A list can be used to implement a hash table in Python. A key is used to map a value on the list and the efficiency of a hash table depends on how a key is computed. At first glance, you may observe that we can directly use the indices as keys because each index is unique.\n",
    "\n",
    "The only problem is that the key would eventually exceed the size of the list and, at every insertion, the list would need to be resized. Syntactically, we can easily increase list size in Python, but as we learned before, the process still takes O(n) time at the back end.\n",
    "\n",
    "In order to limit the range of the keys to the boundaries of the list, we need a function that converts a large key into a smaller key. This is the job of the hash function. A hash function simply takes an item’s key and returns the corresponding index in the list for that item.\n",
    "\n",
    "Depending on your program, the calculation of this index can be a simple arithmetic or a very complicated encryption method. However, it is very important to choose an efficient hashing function as it directly affects the performance of the hash table mechanism.\n",
    "\n",
    "\n",
    "```"
   ]
  },
  {
   "cell_type": "markdown",
   "id": "c6f64e3a",
   "metadata": {},
   "source": [
    "### Arithmetic Modular\n",
    "\n",
    "In this approach, we take the modular of the key with the list size:"
   ]
  },
  {
   "cell_type": "code",
   "execution_count": 1,
   "id": "0e72c008",
   "metadata": {},
   "outputs": [
    {
     "name": "stdout",
     "output_type": "stream",
     "text": [
      "The index for key 35 is 5\n"
     ]
    }
   ],
   "source": [
    "def hash_modular(key, size):\n",
    "    return key % size\n",
    "\n",
    "\n",
    "lst = [None] * 10  # List of size 10\n",
    "key = 35\n",
    "index = hash_modular(key, len(lst))  # Fit the key into the list size\n",
    "print(\"The index for key \" + str(key) + \" is \" + str(index))\n"
   ]
  },
  {
   "cell_type": "markdown",
   "id": "eafab0af",
   "metadata": {},
   "source": [
    "## Truncation"
   ]
  },
  {
   "cell_type": "code",
   "execution_count": 2,
   "id": "b20a8091",
   "metadata": {},
   "outputs": [
    {
     "name": "stdout",
     "output_type": "stream",
     "text": [
      "The index for key 123456 is 456\n"
     ]
    }
   ],
   "source": [
    "def hash_trunc(key):\n",
    "    return key % 1000  # Will always give us a key of up to 3 digits\n",
    "\n",
    "\n",
    "key = 123456\n",
    "index = hash_trunc(key)  # Fit the key into the list size\n",
    "print(\"The index for key \" + str(key) + \" is \" + str(index))"
   ]
  },
  {
   "cell_type": "markdown",
   "id": "689794b4",
   "metadata": {},
   "source": [
    "## Folding\n",
    "key=456789,  chunk=2 −> index=45+67+89"
   ]
  },
  {
   "cell_type": "code",
   "execution_count": 3,
   "id": "b1b47d08",
   "metadata": {},
   "outputs": [
    {
     "name": "stdout",
     "output_type": "stream",
     "text": [
      "Key: 3456789\n",
      "Chunks:\n",
      "34\n",
      "56\n",
      "78\n",
      "9\n",
      "Hash Key: 177\n"
     ]
    }
   ],
   "source": [
    "def hash_fold(key, chunk_size):       # Define the size of each divided portion\n",
    "    str_key = str(key)                # Convert integer into string for slicing\n",
    "    print(\"Key: \" + str_key)\n",
    "    hash_val = 0\n",
    "    print(\"Chunks:\")\n",
    "    for i in range(0, len(str_key), chunk_size):\n",
    "        if(i + chunk_size < len(str_key)):\n",
    "            # Slice the appropriate chunk from the string\n",
    "            print(str_key[i:i+chunk_size])\n",
    "            hash_val += int(str_key[i:i+chunk_size])  # convert into integer\n",
    "        else:\n",
    "            print(str_key[i:len(str_key)])\n",
    "            hash_val += int(str_key[i:len(str_key)])\n",
    "    return hash_val\n",
    "\n",
    "\n",
    "key = 3456789\n",
    "chunk_size = 2\n",
    "print(\"Hash Key: \" + str(hash_fold(key, chunk_size)))"
   ]
  },
  {
   "cell_type": "markdown",
   "id": "956ec011",
   "metadata": {},
   "source": [
    "```\n",
    "When you map large keys into a small range of numbers from 0-N, where N is the size of the list, there is a huge possibility that two different keys may return the same index. This phenomenon is called collision.\n",
    "\n",
    "\n",
    "```"
   ]
  },
  {
   "cell_type": "code",
   "execution_count": null,
   "id": "dccd2480",
   "metadata": {},
   "outputs": [],
   "source": []
  }
 ],
 "metadata": {
  "kernelspec": {
   "display_name": "Python 3 (ipykernel)",
   "language": "python",
   "name": "python3"
  },
  "language_info": {
   "codemirror_mode": {
    "name": "ipython",
    "version": 3
   },
   "file_extension": ".py",
   "mimetype": "text/x-python",
   "name": "python",
   "nbconvert_exporter": "python",
   "pygments_lexer": "ipython3",
   "version": "3.8.10"
  }
 },
 "nbformat": 4,
 "nbformat_minor": 5
}
