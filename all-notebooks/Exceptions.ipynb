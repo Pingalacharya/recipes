{
 "cells": [
  {
   "cell_type": "code",
   "execution_count": 1,
   "id": "9f7a40dc",
   "metadata": {},
   "outputs": [],
   "source": [
    "if bike['sold'] is True:\n",
    "    raise Exception(\"Action not allowed. Bike has already been sold\")"
   ]
  },
  {
   "cell_type": "code",
   "execution_count": null,
   "id": "090f0abd",
   "metadata": {},
   "outputs": [],
   "source": [
    "try:\n",
    "    number = float(user_input)\n",
    "except ValueError:\n",
    "    print(f'{user_input} is not a valid number')"
   ]
  }
 ],
 "metadata": {
  "kernelspec": {
   "display_name": "Python 3 (ipykernel)",
   "language": "python",
   "name": "python3"
  },
  "language_info": {
   "codemirror_mode": {
    "name": "ipython",
    "version": 3
   },
   "file_extension": ".py",
   "mimetype": "text/x-python",
   "name": "python",
   "nbconvert_exporter": "python",
   "pygments_lexer": "ipython3",
   "version": "3.8.10"
  }
 },
 "nbformat": 4,
 "nbformat_minor": 5
}
