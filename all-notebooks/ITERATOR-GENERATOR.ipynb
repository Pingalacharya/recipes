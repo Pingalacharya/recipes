{
 "cells": [
  {
   "cell_type": "markdown",
   "id": "0f917c08",
   "metadata": {},
   "source": [
    "### MUST SEE ALL THE ANSWERS IN THIS POST. ITS A GEM \n",
    "\n",
    "https://stackoverflow.com/questions/2776829/difference-between-pythons-generators-and-iterators"
   ]
  },
  {
   "cell_type": "markdown",
   "id": "1024b617",
   "metadata": {},
   "source": [
    "### GOOD EXPLANATION"
   ]
  },
  {
   "cell_type": "markdown",
   "id": "61422876",
   "metadata": {},
   "source": [
    "**iterator** is a more general concept: any object whose class has a `__next__` method  and an `__iter__` method that does return self. Every generator is an iterator, **specifically, generator is a subtype of iterator**. A generator is built by calling a function that has one or more yield expressions.\n",
    "\n",
    "**Generators provide an easy, built-in way to create instances of Iterators. A function with yield in it, when called, returns an instance of a generator object**\n",
    "\n",
    "\n",
    "1. When a generator function is called, it returns an generator object without even beginning the execution of the function. \n",
    "\n",
    "2. When the `next()` method is called for the first time, the function starts executing until it reaches a yield statement which returns the yielded value. \n",
    "\n",
    "3. The yield keeps track of what has happened, i.e. it remembers the last execution. And secondly, the next() call continues from the previous value.\n",
    "\n",
    "You may want to use a custom iterator, rather than a generator, **when you need a class with somewhat complex state-maintaining behavior, or want to expose other methods besides `__next__` and `__iter__` and `__init__`.** \n",
    "\n",
    "Most often, a generator (sometimes, for sufficiently simple needs, a generator expression) is sufficient, and it's simpler to code."
   ]
  },
  {
   "cell_type": "code",
   "execution_count": 12,
   "id": "a37078c0",
   "metadata": {},
   "outputs": [
    {
     "name": "stdout",
     "output_type": "stream",
     "text": [
      "1\n",
      "4\n",
      "9\n",
      "16\n"
     ]
    }
   ],
   "source": [
    "def squares(start, stop):\n",
    "    for i in range(start, stop):         # AN ITERATOR \n",
    "        yield i * i\n",
    "\n",
    "generator = squares(1,5)                 # becomes  a generator object \n",
    "\n",
    "generator = (i*i for i in range(1,5))    # also a generator object\n",
    "\n",
    "for g in generator:\n",
    "    print(g)"
   ]
  },
  {
   "cell_type": "markdown",
   "id": "4bb7e7d9",
   "metadata": {},
   "source": [
    "**would take more code to build an iterator**\n",
    "\n",
    "**this is an iterable though**"
   ]
  },
  {
   "cell_type": "code",
   "execution_count": 30,
   "id": "f01b87e7",
   "metadata": {},
   "outputs": [
    {
     "name": "stdout",
     "output_type": "stream",
     "text": [
      "1\n",
      "4\n",
      "9\n",
      "16\n"
     ]
    }
   ],
   "source": [
    "class Squares(object):\n",
    "    \n",
    "    def __init__(self, start, stop):\n",
    "       self.start = start\n",
    "       self.stop = stop\n",
    "        \n",
    "    def __iter__(self): return self\n",
    "    \n",
    "    def __next__(self): \n",
    "       if self.start >= self.stop:\n",
    "           raise StopIteration\n",
    "       current = self.start * self.start\n",
    "       self.start += 1\n",
    "       return current\n",
    "\n",
    "\n",
    "iterable = Squares(1,5)\n",
    "\n",
    "\"\"\n",
    "for i in iterable:\n",
    "    print(i)"
   ]
  },
  {
   "cell_type": "markdown",
   "id": "0034246b",
   "metadata": {},
   "source": [
    "### Becasue it has implemented `__iter__` method\n"
   ]
  },
  {
   "cell_type": "code",
   "execution_count": 29,
   "id": "eda66f2c",
   "metadata": {},
   "outputs": [
    {
     "name": "stdout",
     "output_type": "stream",
     "text": [
      "[1, 4, 9, 16]\n",
      "30\n",
      "1\n"
     ]
    }
   ],
   "source": [
    "iterable = Squares(1,5); print(list(iterable))\n",
    "\n",
    "iterable = Squares(1,5); print(sum(iterable))\n",
    "\n",
    "iterable = Squares(1,5); print(min(iterable))\n",
    "\n",
    "# iterator = Squares(1,5); print(\"\".join(iterator))    # obviously fails \n"
   ]
  },
  {
   "cell_type": "markdown",
   "id": "32712cd6",
   "metadata": {},
   "source": [
    "### EVEN BETTER EXPLANATION  \n",
    "\n",
    "1. Generator functions are ordinary functions defined using yield instead of return. \n",
    "\n",
    "2. When called, a generator function **returns a generator object, which is a kind of iterator - it has a next() method**\n",
    "\n",
    "3. When you call next(), the next value yielded by the generator function is returned.\n",
    "\n",
    "\n",
    "Either the function or the object may be called the \"generator\" depending on which Python source document you read.\n",
    "\n",
    "**Python2 language reference** \n",
    "\n",
    "```\n",
    "The yield expression is only used when defining a generator function, and can only be used in the body of a function definition. Using a yield expression in a function definition is sufficient to cause that definition to create a generator function instead of a normal function.\n",
    "\n",
    "When a generator function is called, it returns an iterator known as a generator. That generator then controls the execution of a generator function.\n",
    "```\n",
    "\n",
    "**Python3 language reference** \n",
    "```\n",
    "generator ... Usually refers to a generator function, but may refer to a generator iterator in some contexts. In cases where the intended meaning isn’t clear, using the full terms avoids ambiguity\n",
    "```\n",
    "\n",
    "\n",
    "\n"
   ]
  },
  {
   "cell_type": "code",
   "execution_count": null,
   "id": "5eb7764a",
   "metadata": {},
   "outputs": [],
   "source": []
  },
  {
   "cell_type": "markdown",
   "id": "65904092",
   "metadata": {},
   "source": [
    "### ANOTHER GOOD ONE \n",
    "\n",
    "*If you create your own iterator, it is a little bit involved - you have to create a class and at least implement the iter and the next methods. But what if you don't want to go through this hassle and want to quickly create an iterator. Fortunately, Python provides a short-cut way to defining an iterator. All you need to do is define a function with at least 1 call to yield and now when you call that function it will return \"something\" which will act like an iterator (you can call next method and use it in a for loop). This something has a name in Python called Generator*"
   ]
  },
  {
   "cell_type": "code",
   "execution_count": null,
   "id": "47525a82",
   "metadata": {},
   "outputs": [],
   "source": []
  },
  {
   "cell_type": "markdown",
   "id": "9073f0f9",
   "metadata": {},
   "source": [
    "### WAIT, THERE IS MORE TO IT"
   ]
  },
  {
   "cell_type": "markdown",
   "id": "48cc499d",
   "metadata": {},
   "source": [
    "Previous answers missed this addition: a generator has a close method, while typical iterators don’t. The close method triggers a StopIteration exception in the generator, which may be caught in a finally clause in that iterator, to get a chance to run some clean‑up. This abstraction makes it most usable in the large than simple iterators. One can close a generator as one could close a file, without having to bother about what’s underneath.\n",
    "\n",
    "*That said, my personal answer to the first question would be:\n",
    "\n",
    "- iteratable has an `__iter__` method only, \n",
    "- typical iterators have a `__next__` method only, \n",
    "- generators has both an `__iter__` and a `__next__` and an additional close.*"
   ]
  },
  {
   "cell_type": "code",
   "execution_count": null,
   "id": "7fbb74e1",
   "metadata": {},
   "outputs": [],
   "source": []
  },
  {
   "cell_type": "code",
   "execution_count": null,
   "id": "0ee4539a",
   "metadata": {},
   "outputs": [],
   "source": []
  },
  {
   "cell_type": "markdown",
   "id": "7fb97ab8",
   "metadata": {},
   "source": [
    "### VERY USEFUL TALK \n",
    "\n",
    "https://www.youtube.com/watch?v=EnSu9hHGq5o"
   ]
  },
  {
   "cell_type": "code",
   "execution_count": null,
   "id": "9ba63274",
   "metadata": {},
   "outputs": [],
   "source": []
  }
 ],
 "metadata": {
  "kernelspec": {
   "display_name": "Python 3 (ipykernel)",
   "language": "python",
   "name": "python3"
  },
  "language_info": {
   "codemirror_mode": {
    "name": "ipython",
    "version": 3
   },
   "file_extension": ".py",
   "mimetype": "text/x-python",
   "name": "python",
   "nbconvert_exporter": "python",
   "pygments_lexer": "ipython3",
   "version": "3.8.10"
  }
 },
 "nbformat": 4,
 "nbformat_minor": 5
}
