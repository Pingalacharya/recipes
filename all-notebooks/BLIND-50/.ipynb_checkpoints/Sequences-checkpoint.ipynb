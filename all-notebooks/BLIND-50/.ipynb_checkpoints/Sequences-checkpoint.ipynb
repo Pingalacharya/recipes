{
 "cells": [
  {
   "cell_type": "markdown",
   "id": "a858b260",
   "metadata": {},
   "source": [
    "### Two Sums\n",
    "\n",
    "```\n",
    "Given an array of integers nums and an integer target, return indices of the two numbers such that they add up to target.\n",
    "\n",
    "Input: nums = [2,7,11,15], target = 9\n",
    "Output: [0,1]\n",
    "Explanation: Because nums[0] + nums[1] == 9, we return [0, 1].\n",
    "\n",
    "Follow-up: Can you come up with an algorithm that is less than O(n2) time complexity?\n",
    "\n",
    "```\n",
    "\n",
    "### my solution"
   ]
  },
  {
   "cell_type": "code",
   "execution_count": 27,
   "id": "8d02b7ef",
   "metadata": {},
   "outputs": [
    {
     "data": {
      "text/plain": [
       "[2, 1]"
      ]
     },
     "execution_count": 27,
     "metadata": {},
     "output_type": "execute_result"
    }
   ],
   "source": [
    "def twoSum( arr, target):    \n",
    "    \n",
    "    for i in range(len(arr)):\n",
    "        for j in range(len(arr)):\n",
    "            \n",
    "            if i != j:\n",
    "                if arr[i] + arr[j] == target:\n",
    "                    return [i,j]\n",
    "                \n",
    "    return -1           \n",
    "\n",
    "\n",
    "def twoSum( arr, target): \n",
    "    \n",
    "    arr2 = arr.copy()\n",
    "    arr.sort()\n",
    "    \n",
    "    start, end = 0, len(arr) -1\n",
    "    \n",
    "    first = False\n",
    "    second = False\n",
    "    results = []\n",
    "    \n",
    "    while start < end :\n",
    "        \n",
    "        if arr[start] + arr[end] == target:   \n",
    "   \n",
    "            for i, num in enumerate(arr2):\n",
    "                if num == arr[start] and not first:\n",
    "                   results.append(i)\n",
    "                   first = True \n",
    "                elif num == arr[end] and not second:\n",
    "                    results.append(i)\n",
    "                    second = True\n",
    "                    \n",
    "                if len(results) > 1:\n",
    "                    return results\n",
    "                                \n",
    "        elif  arr[start] + arr[end] > target:  \n",
    "            start += 1\n",
    "            \n",
    "        elif  arr[start] + arr[end] < target:  \n",
    "            end -= 1   \n",
    "\n",
    "    return -1     \n",
    "\n",
    "\n",
    "\n",
    "# saw a solution using hashmaps O(N): lets write that as well \n",
    "# it would work if we can return indexes in any order (allowed in this question)\n",
    "\n",
    "def twoSum( arr, target): \n",
    "    maps ={}                            # value : index\n",
    "    \n",
    "    for index, num in enumerate(arr):\n",
    "        \n",
    "        remain = target - num\n",
    "        \n",
    "        if remain in maps :\n",
    "            return [index, maps[remain]]\n",
    "        \n",
    "        else:\n",
    "            maps[num] = index\n",
    "            \n",
    " \n",
    "        \n",
    "arr = [2,7,11,15]\n",
    "target = 18        \n",
    "        \n",
    "twoSum( arr, target)"
   ]
  },
  {
   "cell_type": "markdown",
   "id": "1a4a8894",
   "metadata": {},
   "source": [
    "### Contains Duplicate\n",
    "```\n",
    "Given an integer array nums, return true if any value appears at least twice in the array, and return false if every element is distinct.\n",
    "```\n",
    "### my solution"
   ]
  },
  {
   "cell_type": "code",
   "execution_count": 41,
   "id": "6f4d620f",
   "metadata": {},
   "outputs": [
    {
     "data": {
      "text/plain": [
       "False"
      ]
     },
     "execution_count": 41,
     "metadata": {},
     "output_type": "execute_result"
    }
   ],
   "source": [
    "def containsDuplicate(arr):\n",
    "    \n",
    "    return len(set(nums)) < len(nums)\n",
    "\n",
    "\n",
    "\n",
    "\n",
    "\n",
    "# Two other methods as  seen in Leetcode \n",
    "\n",
    "def containsDuplicate(arr):            # Method 2 -- Apply hashtable O(n)\n",
    "\n",
    "    hashNum = {}\n",
    "    for i in arr:\n",
    "        if i not in hashNum:\n",
    "            hashNum[i] = 1\n",
    "        else:\n",
    "            return True\n",
    "    return False\n",
    "    \n",
    "    \n",
    "def containsDuplicate(arr):             # Method 3 -- Sorting    \n",
    "    \n",
    "    l =  len(nums)\n",
    "    \n",
    "    if l < 2:\n",
    "        return False\n",
    "    \n",
    "    nums.sort()\n",
    "    \n",
    "    for i in range(l-1):\n",
    "        if nums[i] == nums[i+1]:\n",
    "            return True\n",
    "    return False\n",
    "    \n",
    "    \n",
    "  \n",
    "    \n",
    "arr = [1,2,3,1] \n",
    "arr =  [1,2,3,4]\n",
    "\n",
    "containsDuplicate(arr)"
   ]
  },
  {
   "cell_type": "markdown",
   "id": "0b09b3fc",
   "metadata": {},
   "source": [
    "### Valid Parentheses\n",
    "\n",
    "```\n",
    "Given a string s containing just the characters '(', ')', '{', '}', '[' and ']', determine if the input string is valid.\n",
    "\n",
    "An input string is valid if:\n",
    "\n",
    "Open brackets must be closed by the same type of brackets.\n",
    "Open brackets must be closed in the correct order.\n",
    "\n",
    "Input: s = \"()[]{}\"\n",
    "Output: true\n",
    "\n",
    "Input: s = \"(]\"\n",
    "Output: false\n",
    "\n",
    "Input: s = \"()\"\n",
    "Output: true\n",
    "```\n",
    "\n",
    "### my solution"
   ]
  },
  {
   "cell_type": "code",
   "execution_count": 68,
   "id": "94600aa4",
   "metadata": {},
   "outputs": [
    {
     "name": "stdout",
     "output_type": "stream",
     "text": [
      "[{()}[]] 0\n",
      "[{()}[]] 1\n",
      "[{()}[]] 2\n",
      "[{}[]] 1\n",
      "[[]] 0\n",
      "[[]] 1\n",
      "[] 0\n"
     ]
    },
    {
     "name": "stderr",
     "output_type": "stream",
     "text": [
      "<>:10: SyntaxWarning: \"is not\" with a literal. Did you mean \"!=\"?\n",
      "<>:10: SyntaxWarning: \"is not\" with a literal. Did you mean \"!=\"?\n",
      "/tmp/ipykernel_561472/2177309021.py:10: SyntaxWarning: \"is not\" with a literal. Did you mean \"!=\"?\n",
      "  while s is not \"\" and i < len(s):\n"
     ]
    },
    {
     "data": {
      "text/plain": [
       "True"
      ]
     },
     "execution_count": 68,
     "metadata": {},
     "output_type": "execute_result"
    }
   ],
   "source": [
    "def isValid(s):\n",
    "    \n",
    "    maps = { \"(\"  : \")\" , \"{\" : \"}\"  , \"[\" : \"]\"}  \n",
    "    \n",
    "    if s[0] not in maps:\n",
    "        return False\n",
    "    \n",
    "    i = 0\n",
    "   \n",
    "    while s is not \"\" and i < len(s):        \n",
    "        print(s,i)\n",
    "        i += 1\n",
    "        \n",
    "        if s[i] not in maps and s[i] != maps[s[i-1]]:\n",
    "            return False        \n",
    "        elif s[i] not in maps and s[i] == maps[s[i-1]]:\n",
    "             s = s[:i-1] + s[i+1:]\n",
    "             i -= 2  \n",
    "            \n",
    "#         i += 1 \n",
    "        \n",
    "    if s :\n",
    "        return False\n",
    "    else:\n",
    "        return True\n",
    "\n",
    "\n",
    "s = \"[{()}[]]\"\n",
    "isValid(s)            \n",
    "        \n",
    "\n",
    "    \n",
    "    \n",
    "## Some solution on Leetcode     \n",
    "    \n",
    "def isValid(self, s):\n",
    "    \"\"\"\n",
    "    :type s: str\n",
    "    :rtype: bool\n",
    "    \"\"\"\n",
    "    d = {'(':')', '{':'}','[':']'}\n",
    "    stack = []\n",
    "    for i in s:\n",
    "        if i in d:  # 1\n",
    "            stack.append(i)\n",
    "        elif len(stack) == 0 or d[stack.pop()] != i:  # 2\n",
    "            return False\n",
    "    return len(stack) == 0 # 3\n",
    "\n",
    "# 1. if it's the left bracket then we append it to the stack\n",
    "# 2. else if it's the right bracket and the stack is empty(meaning no matching left bracket), or the left bracket doesn't match\n",
    "# 3. finally check if the stack still contains unmatched left bracket    \n",
    "    "
   ]
  },
  {
   "cell_type": "markdown",
   "id": "88b89b9e",
   "metadata": {},
   "source": [
    "### Is Anagram\n",
    "\n",
    "```\n",
    "Input: s = \"anagram\", t = \"nagaram\"\n",
    "Output: true\n",
    "```    \n",
    "\n",
    "### my solution"
   ]
  },
  {
   "cell_type": "code",
   "execution_count": 90,
   "id": "cf8c5a37",
   "metadata": {},
   "outputs": [
    {
     "name": "stdout",
     "output_type": "stream",
     "text": [
      "['r', 'a', 't']\n",
      "r ['c', 'a']\n",
      "a ['c']\n"
     ]
    },
    {
     "data": {
      "text/plain": [
       "False"
      ]
     },
     "execution_count": 90,
     "metadata": {},
     "output_type": "execute_result"
    }
   ],
   "source": [
    "def isAnagram( str1,str2):\n",
    "    \n",
    "   str1 = list(str1)\n",
    "   str2 = list(str2)\n",
    "    \n",
    "   if len(str1) != len(str2) :\n",
    "     return False\n",
    "    \n",
    "   i = 0     \n",
    "   while i < len(str1) :  \n",
    "    \n",
    "      if str1[i] in str2:\n",
    "        letter = str1[i]\n",
    "        str2.remove(letter)                      # removes in place       \n",
    "        i += 1        \n",
    "      else:\n",
    "        return False\n",
    "    \n",
    "   return not str2\n",
    "    \n",
    "  \n",
    "\n",
    "s = \"rat\"\n",
    "t = \"car\"        \n",
    "isAnagram( s,t)\n",
    "\n",
    "\n",
    "## Solutions from Leetcode\n",
    "\n",
    "\"\"\"\n",
    "\n",
    "def isAnagram1(self, s, t):\n",
    "    dic1, dic2 = {}, {}\n",
    "    for item in s:\n",
    "        dic1[item] = dic1.get(item, 0) + 1\n",
    "    for item in t:\n",
    "        dic2[item] = dic2.get(item, 0) + 1\n",
    "    return dic1 == dic2\n",
    "    \n",
    "def isAnagram2(self, s, t):\n",
    "    dic1, dic2 = [0]*26, [0]*26\n",
    "    for item in s:\n",
    "        dic1[ord(item)-ord('a')] += 1\n",
    "    for item in t:\n",
    "        dic2[ord(item)-ord('a')] += 1\n",
    "    return dic1 == dic2\n",
    "    \n",
    "def isAnagram3(self, s, t):\n",
    "    return sorted(s) == sorted(t)\n",
    "        \n",
    "\"\"\""
   ]
  },
  {
   "cell_type": "code",
   "execution_count": null,
   "id": "733c6c19",
   "metadata": {},
   "outputs": [],
   "source": []
  }
 ],
 "metadata": {
  "kernelspec": {
   "display_name": "Python 3 (ipykernel)",
   "language": "python",
   "name": "python3"
  },
  "language_info": {
   "codemirror_mode": {
    "name": "ipython",
    "version": 3
   },
   "file_extension": ".py",
   "mimetype": "text/x-python",
   "name": "python",
   "nbconvert_exporter": "python",
   "pygments_lexer": "ipython3",
   "version": "3.8.10"
  }
 },
 "nbformat": 4,
 "nbformat_minor": 5
}
