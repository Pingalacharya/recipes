{
 "cells": [
  {
   "cell_type": "markdown",
   "id": "6465cc9e",
   "metadata": {},
   "source": [
    "### Two Sums\n",
    "\n",
    "```\n",
    "Given an array of integers nums and an integer target, return indices of the two numbers such that they add up to target.\n",
    "\n",
    "Input: nums = [2,7,11,15], target = 9\n",
    "Output: [0,1]\n",
    "Explanation: Because nums[0] + nums[1] == 9, we return [0, 1].\n",
    "\n",
    "Follow-up: Can you come up with an algorithm that is less than O(n2) time complexity?\n",
    "\n",
    "```\n",
    "\n",
    "### my solution"
   ]
  },
  {
   "cell_type": "code",
   "execution_count": 27,
   "id": "cc06b321",
   "metadata": {},
   "outputs": [
    {
     "data": {
      "text/plain": [
       "[2, 1]"
      ]
     },
     "execution_count": 27,
     "metadata": {},
     "output_type": "execute_result"
    }
   ],
   "source": [
    "def twoSum( arr, target):    \n",
    "    \n",
    "    for i in range(len(arr)):\n",
    "        for j in range(len(arr)):\n",
    "            \n",
    "            if i != j:\n",
    "                if arr[i] + arr[j] == target:\n",
    "                    return [i,j]\n",
    "                \n",
    "    return -1           \n",
    "\n",
    "\n",
    "def twoSum( arr, target): \n",
    "    \n",
    "    arr2 = arr.copy()\n",
    "    arr.sort()\n",
    "    \n",
    "    start, end = 0, len(arr) -1\n",
    "    \n",
    "    first = False\n",
    "    second = False\n",
    "    results = []\n",
    "    \n",
    "    while start < end :\n",
    "        \n",
    "        if arr[start] + arr[end] == target:   \n",
    "   \n",
    "            for i, num in enumerate(arr2):\n",
    "                if num == arr[start] and not first:\n",
    "                   results.append(i)\n",
    "                   first = True \n",
    "                elif num == arr[end] and not second:\n",
    "                    results.append(i)\n",
    "                    second = True\n",
    "                    \n",
    "                if len(results) > 1:\n",
    "                    return results\n",
    "                                \n",
    "        elif  arr[start] + arr[end] > target:  \n",
    "            start += 1\n",
    "            \n",
    "        elif  arr[start] + arr[end] < target:  \n",
    "            end -= 1   \n",
    "\n",
    "    return -1     \n",
    "\n",
    "\n",
    "\n",
    "# saw a solution using hashmaps O(N): lets write that as well \n",
    "# it would work if we can return indexes in any order (allowed in this question)\n",
    "\n",
    "def twoSum( arr, target): \n",
    "    maps ={}                            # value : index\n",
    "    \n",
    "    for index, num in enumerate(arr):\n",
    "        \n",
    "        remain = target - num\n",
    "        \n",
    "        if remain in maps :\n",
    "            return [index, maps[remain]]\n",
    "        \n",
    "        else:\n",
    "            maps[num] = index\n",
    "            \n",
    " \n",
    "        \n",
    "arr = [2,7,11,15]\n",
    "target = 18        \n",
    "        \n",
    "twoSum( arr, target)"
   ]
  },
  {
   "cell_type": "markdown",
   "id": "53721b51",
   "metadata": {},
   "source": [
    "### Contains Duplicate\n",
    "```\n",
    "Given an integer array nums, return true if any value appears at least twice in the array, and return false if every element is distinct.\n",
    "```\n",
    "### my solution"
   ]
  },
  {
   "cell_type": "code",
   "execution_count": 41,
   "id": "d882d6d7",
   "metadata": {},
   "outputs": [
    {
     "data": {
      "text/plain": [
       "False"
      ]
     },
     "execution_count": 41,
     "metadata": {},
     "output_type": "execute_result"
    }
   ],
   "source": [
    "def containsDuplicate(arr):\n",
    "    \n",
    "    return len(set(nums)) < len(nums)\n",
    "\n",
    "\n",
    "\n",
    "\n",
    "\n",
    "# Two other methods as  seen in Leetcode \n",
    "\n",
    "def containsDuplicate(arr):            # Method 2 -- Apply hashtable O(n)\n",
    "\n",
    "    hashNum = {}\n",
    "    for i in arr:\n",
    "        if i not in hashNum:\n",
    "            hashNum[i] = 1\n",
    "        else:\n",
    "            return True\n",
    "    return False\n",
    "    \n",
    "    \n",
    "def containsDuplicate(arr):             # Method 3 -- Sorting    \n",
    "    \n",
    "    l =  len(nums)\n",
    "    \n",
    "    if l < 2:\n",
    "        return False\n",
    "    \n",
    "    nums.sort()\n",
    "    \n",
    "    for i in range(l-1):\n",
    "        if nums[i] == nums[i+1]:\n",
    "            return True\n",
    "    return False\n",
    "    \n",
    "    \n",
    "  \n",
    "    \n",
    "arr = [1,2,3,1] \n",
    "arr =  [1,2,3,4]\n",
    "\n",
    "containsDuplicate(arr)"
   ]
  },
  {
   "cell_type": "markdown",
   "id": "db0ac34e",
   "metadata": {},
   "source": [
    "### Valid Parentheses\n",
    "\n",
    "```\n",
    "Given a string s containing just the characters '(', ')', '{', '}', '[' and ']', determine if the input string is valid.\n",
    "\n",
    "An input string is valid if:\n",
    "\n",
    "Open brackets must be closed by the same type of brackets.\n",
    "Open brackets must be closed in the correct order.\n",
    "\n",
    "Input: s = \"()[]{}\"\n",
    "Output: true\n",
    "\n",
    "Input: s = \"(]\"\n",
    "Output: false\n",
    "\n",
    "Input: s = \"()\"\n",
    "Output: true\n",
    "```\n",
    "\n",
    "### my solution"
   ]
  },
  {
   "cell_type": "code",
   "execution_count": 68,
   "id": "65ab6f72",
   "metadata": {},
   "outputs": [
    {
     "name": "stdout",
     "output_type": "stream",
     "text": [
      "[{()}[]] 0\n",
      "[{()}[]] 1\n",
      "[{()}[]] 2\n",
      "[{}[]] 1\n",
      "[[]] 0\n",
      "[[]] 1\n",
      "[] 0\n"
     ]
    },
    {
     "name": "stderr",
     "output_type": "stream",
     "text": [
      "<>:10: SyntaxWarning: \"is not\" with a literal. Did you mean \"!=\"?\n",
      "<>:10: SyntaxWarning: \"is not\" with a literal. Did you mean \"!=\"?\n",
      "/tmp/ipykernel_561472/2177309021.py:10: SyntaxWarning: \"is not\" with a literal. Did you mean \"!=\"?\n",
      "  while s is not \"\" and i < len(s):\n"
     ]
    },
    {
     "data": {
      "text/plain": [
       "True"
      ]
     },
     "execution_count": 68,
     "metadata": {},
     "output_type": "execute_result"
    }
   ],
   "source": [
    "def isValid(s):\n",
    "    \n",
    "    maps = { \"(\"  : \")\" , \"{\" : \"}\"  , \"[\" : \"]\"}  \n",
    "    \n",
    "    if s[0] not in maps:\n",
    "        return False\n",
    "    \n",
    "    i = 0\n",
    "   \n",
    "    while s is not \"\" and i < len(s):        \n",
    "        print(s,i)\n",
    "        i += 1\n",
    "        \n",
    "        if s[i] not in maps and s[i] != maps[s[i-1]]:\n",
    "            return False        \n",
    "        elif s[i] not in maps and s[i] == maps[s[i-1]]:\n",
    "             s = s[:i-1] + s[i+1:]\n",
    "             i -= 2  \n",
    "            \n",
    "#         i += 1 \n",
    "        \n",
    "    if s :\n",
    "        return False\n",
    "    else:\n",
    "        return True\n",
    "\n",
    "\n",
    "s = \"[{()}[]]\"\n",
    "isValid(s)            \n",
    "        \n",
    "\n",
    "    \n",
    "    \n",
    "## Some solution on Leetcode     \n",
    "    \n",
    "def isValid(self, s):\n",
    "    \"\"\"\n",
    "    :type s: str\n",
    "    :rtype: bool\n",
    "    \"\"\"\n",
    "    d = {'(':')', '{':'}','[':']'}\n",
    "    stack = []\n",
    "    for i in s:\n",
    "        if i in d:  # 1\n",
    "            stack.append(i)\n",
    "        elif len(stack) == 0 or d[stack.pop()] != i:  # 2\n",
    "            return False\n",
    "    return len(stack) == 0 # 3\n",
    "\n",
    "# 1. if it's the left bracket then we append it to the stack\n",
    "# 2. else if it's the right bracket and the stack is empty(meaning no matching left bracket), or the left bracket doesn't match\n",
    "# 3. finally check if the stack still contains unmatched left bracket    \n",
    "    "
   ]
  },
  {
   "cell_type": "markdown",
   "id": "b7de1b0e",
   "metadata": {},
   "source": [
    "### Is Anagram\n",
    "\n",
    "```\n",
    "Input: s = \"anagram\", t = \"nagaram\"\n",
    "Output: true\n",
    "```    \n",
    "\n",
    "### my solution"
   ]
  },
  {
   "cell_type": "code",
   "execution_count": 90,
   "id": "ba94c18f",
   "metadata": {},
   "outputs": [
    {
     "name": "stdout",
     "output_type": "stream",
     "text": [
      "['r', 'a', 't']\n",
      "r ['c', 'a']\n",
      "a ['c']\n"
     ]
    },
    {
     "data": {
      "text/plain": [
       "False"
      ]
     },
     "execution_count": 90,
     "metadata": {},
     "output_type": "execute_result"
    }
   ],
   "source": [
    "def isAnagram( str1,str2):\n",
    "    \n",
    "   str1 = list(str1)\n",
    "   str2 = list(str2)\n",
    "    \n",
    "   if len(str1) != len(str2) :\n",
    "     return False\n",
    "    \n",
    "   i = 0     \n",
    "   while i < len(str1) :  \n",
    "    \n",
    "      if str1[i] in str2:\n",
    "        letter = str1[i]\n",
    "        str2.remove(letter)                      # removes in place       \n",
    "        i += 1        \n",
    "      else:\n",
    "        return False\n",
    "    \n",
    "   return not str2\n",
    " \n",
    "\n",
    "\n",
    "s = \"rat\"\n",
    "t = \"car\"        \n",
    "isAnagram( s,t)\n",
    "\n",
    "\n",
    "## Solutions from Leetcode\n",
    "\n",
    "\"\"\"\n",
    "\n",
    "def isAnagram1(self, s, t):\n",
    "    dic1, dic2 = {}, {}\n",
    "    for item in s:\n",
    "        dic1[item] = dic1.get(item, 0) + 1\n",
    "    for item in t:\n",
    "        dic2[item] = dic2.get(item, 0) + 1\n",
    "    return dic1 == dic2\n",
    "    \n",
    "def isAnagram2(self, s, t):\n",
    "    dic1, dic2 = [0]*26, [0]*26\n",
    "    for item in s:\n",
    "        dic1[ord(item)-ord('a')] += 1\n",
    "    for item in t:\n",
    "        dic2[ord(item)-ord('a')] += 1\n",
    "    return dic1 == dic2\n",
    "    \n",
    "def isAnagram3(self, s, t):\n",
    "    return sorted(s) == sorted(t)\n",
    "        \n",
    "\"\"\""
   ]
  },
  {
   "cell_type": "markdown",
   "id": "fda2bf1e",
   "metadata": {},
   "source": [
    "### Best Time to Buy and Sell Stock\n",
    "\n",
    "```\n",
    "You are given an array prices where prices[i] is the price of a given stock on the ith day.You want to maximize your profit by choosing a single day to buy one stock and choosing a different day in the future to sell that stock. Return the maximum profit you can achieve from this transaction. If you cannot achieve any profit, return -1 \n",
    "\n",
    "Input: prices = [7,1,5,3,6,4]\n",
    "Output: 5\n",
    "Explanation: Buy on day 2 (price = 1) and sell on day 5 (price = 6), profit = 6-1 = 5.\n",
    "Note that buying on day 2 and selling on day 1 is not allowed because you must buy before you sell\n",
    "\n",
    "```"
   ]
  },
  {
   "cell_type": "code",
   "execution_count": 33,
   "id": "d3325c0f",
   "metadata": {},
   "outputs": [
    {
     "data": {
      "text/plain": [
       "5"
      ]
     },
     "execution_count": 33,
     "metadata": {},
     "output_type": "execute_result"
    }
   ],
   "source": [
    "# basicaly maximize : arr[j] - arr[i] subject to j > i \n",
    "\"\"\"\n",
    "brute force \n",
    "\"\"\"\n",
    "def maxProfit(arr):  \n",
    "    \n",
    "   profit = 0 \n",
    "    \n",
    "   for i in range(len(arr)):\n",
    "      for j in range(i+1, len(arr)):\n",
    "            if arr[j] - arr[i] > profit:\n",
    "                profit = arr[j] - arr[i]\n",
    "             \n",
    "   return profit         \n",
    "            \n",
    "\n",
    "        \n",
    "        \n",
    "arr  = [1,7,6,4,3,1]       \n",
    "arr = [7,1,5,3,6,4]        \n",
    "        \n",
    "maxProfit(arr)    \n",
    "    \n",
    "\"\"\" \n",
    "Better approach: \n",
    "We always need to know what is the maxProfit we can make if we sell the stock on i-th day. So, keep track of maxProfit.\n",
    "There might be a scenario where if stock bought on i-th day is minimum and we sell it on (i + k)th day. So, keep track of minPurchase as well.\n",
    "\"\"\"\n",
    "\n",
    "def maxProfit( prices) :\n",
    "    if not prices:\n",
    "       return 0\n",
    "\n",
    "    maxProfit = 0\n",
    "    minPurchase = prices[0]\n",
    "    for i in range(1, len(prices)):\n",
    "        maxProfit = max(maxProfit, prices[i] - minPurchase)\n",
    "        minPurchase = min(minPurchase, prices[i])\n",
    "    return maxProfit\n",
    "    \n",
    "    \n",
    "arr  = [1,7,6,4,3,1]       \n",
    "arr = [7,1,5,3,6,4]    \n",
    "\n",
    "        \n",
    "maxProfit(arr)       "
   ]
  },
  {
   "cell_type": "code",
   "execution_count": null,
   "id": "7a379e4c",
   "metadata": {},
   "outputs": [],
   "source": []
  }
 ],
 "metadata": {
  "kernelspec": {
   "display_name": "Python 3 (ipykernel)",
   "language": "python",
   "name": "python3"
  },
  "language_info": {
   "codemirror_mode": {
    "name": "ipython",
    "version": 3
   },
   "file_extension": ".py",
   "mimetype": "text/x-python",
   "name": "python",
   "nbconvert_exporter": "python",
   "pygments_lexer": "ipython3",
   "version": "3.8.10"
  }
 },
 "nbformat": 4,
 "nbformat_minor": 5
}
