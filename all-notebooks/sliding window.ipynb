{
 "cells": [
  {
   "cell_type": "markdown",
   "id": "c277ad7c",
   "metadata": {},
   "source": [
    "## Problem 1\n",
    "```\n",
    "Given an array, find the average of all subarrays of ‘K’ contiguous elements in it.\n",
    "\n",
    "Array: [1, 3, 2, 6, -1, 4, 1, 8, 2], K=5\n",
    "Output: [2.2, 2.8, 2.4, 3.6, 2.8]\n",
    "```\n",
    "\n",
    "### my solution"
   ]
  },
  {
   "cell_type": "code",
   "execution_count": 3,
   "id": "67c0106b",
   "metadata": {},
   "outputs": [
    {
     "data": {
      "text/plain": [
       "[2.2, 2.8, 2.4, 3.6, 2.8]"
      ]
     },
     "execution_count": 3,
     "metadata": {},
     "output_type": "execute_result"
    }
   ],
   "source": [
    "def find_averages_of_subarrays(arr,K):\n",
    "    \n",
    "    sums = 0\n",
    "    lst = []\n",
    "    start = 0 \n",
    "    \n",
    "    for i in range(0, len(arr)):        \n",
    "        sums += arr[i]\n",
    "        \n",
    "        if i >= K - 1:\n",
    "            lst.append(sums/K)\n",
    "            sums -= arr[start]\n",
    "            start += 1\n",
    "            \n",
    "            \n",
    "    return lst     \n",
    "        \n",
    "    \n",
    "find_averages_of_subarrays( [1, 3, 2, 6, -1, 4, 1, 8, 2],5)    "
   ]
  },
  {
   "cell_type": "markdown",
   "id": "a24b08a2",
   "metadata": {},
   "source": [
    "## Problem 2\n",
    "```\n",
    "\n",
    "Given an array of positive numbers and a positive number ‘k,’ find the maximum sum of any contiguous subarray of size ‘k’.\n",
    "\n",
    "Input: [2, 1, 5, 1, 3, 2], k=3 \n",
    "Output: 9   \n",
    "Explanation: Subarray with maximum sum is [5, 1, 3].\n",
    "```\n",
    "### my solution"
   ]
  },
  {
   "cell_type": "code",
   "execution_count": 5,
   "id": "5e1d5526",
   "metadata": {},
   "outputs": [
    {
     "data": {
      "text/plain": [
       "7"
      ]
     },
     "execution_count": 5,
     "metadata": {},
     "output_type": "execute_result"
    }
   ],
   "source": [
    "def max_sub_array_of_size_k(arr, k):\n",
    "    start = 0 \n",
    "    sums = 0\n",
    "    res = 0 \n",
    "    \n",
    "    for i in range(len(arr)):\n",
    "        \n",
    "        sums += arr[i]\n",
    "        \n",
    "        if i >= k - 1 :\n",
    "            if sums > res:\n",
    "                res = sums                \n",
    "            sums -= arr[start]\n",
    "            start += 1\n",
    "            \n",
    "            \n",
    "    return res       \n",
    "            \n",
    "     \n",
    "\n",
    "max_sub_array_of_size_k([2, 3, 4, 1, 5], 2)"
   ]
  },
  {
   "cell_type": "markdown",
   "id": "b856abff",
   "metadata": {},
   "source": [
    "## Problem 3\n",
    "```\n",
    "Given an array of positive integers and a number ‘S,’ find the length of the smallest contiguous subarray whose sum is greater than or equal to ‘S’. Return 0 if no such subarray exists.\n",
    "\n",
    "Input: [2, 1, 5, 2, 3, 2], S=7\n",
    "Output: 2\n",
    "Explanation: The smallest subarray with a sum greater than or equal to ‘7’ is [5, 2].\n",
    "```\n",
    "\n",
    "###  my solution"
   ]
  },
  {
   "cell_type": "code",
   "execution_count": 41,
   "id": "d297710a",
   "metadata": {},
   "outputs": [
    {
     "name": "stdout",
     "output_type": "stream",
     "text": [
      "Smallest subarray length: 2\n",
      "Smallest subarray length: 3\n",
      "Smallest subarray length: 3\n"
     ]
    }
   ],
   "source": [
    "import math\n",
    "\n",
    "def smallest_subarray_sum(arr,s):\n",
    "    start,end = 0,0\n",
    "    sums = 0\n",
    "    smallest = math.inf    \n",
    "    \n",
    "    for i in range(len(arr)):\n",
    "        sums += arr[i]      \n",
    "        end += 1        \n",
    "\n",
    "        while sums >= s:\n",
    "            smallest = min(end - start  ,smallest)\n",
    "            sums -= arr[start]\n",
    "            start += 1\n",
    "\n",
    "#             print(smallest,end - start +1,sums,start,end)\n",
    "\n",
    "    return smallest      \n",
    "            \n",
    "\n",
    "\n",
    "\n",
    "def main():\n",
    "  print(\"Smallest subarray length: \" + str(smallest_subarray_sum( [2, 1, 5, 2, 3, 2],7)))\n",
    "  print(\"Smallest subarray length: \" + str(smallest_subarray_sum([3, 4, 1, 1, 6],8)))\n",
    "  print(\"Smallest subarray length: \" + str(smallest_subarray_sum([2, 1, 5, 2, 3, 2],8)))\n",
    "\n",
    "\n",
    "main()"
   ]
  },
  {
   "cell_type": "code",
   "execution_count": 17,
   "id": "ffe0809f",
   "metadata": {},
   "outputs": [
    {
     "data": {
      "text/plain": [
       "4"
      ]
     },
     "execution_count": 17,
     "metadata": {},
     "output_type": "execute_result"
    }
   ],
   "source": [
    "min(4,math.inf)"
   ]
  },
  {
   "cell_type": "markdown",
   "id": "22f72630",
   "metadata": {},
   "source": [
    "## Problem 4\n",
    "```\n",
    "Given a string, find the length of the longest substring in it with no more than K distinct characters.\n",
    "```\n",
    "### my solution"
   ]
  },
  {
   "cell_type": "code",
   "execution_count": 75,
   "id": "620d6ebf",
   "metadata": {},
   "outputs": [
    {
     "name": "stdout",
     "output_type": "stream",
     "text": [
      "Length of the longest substring: 4\n",
      "Length of the longest substring: 2\n",
      "Length of the longest substring: 5\n"
     ]
    }
   ],
   "source": [
    "def longest_substring_with_k_distinct(str1, k):\n",
    "    \n",
    "    distinct = 0\n",
    "    substr , longest_substr= \"\"   , \"\" \n",
    "    \n",
    "    for s in str1:\n",
    "  \n",
    "        if s not in substr and distinct < k:\n",
    "            substr += s\n",
    "            distinct += 1\n",
    "            \n",
    "        elif s in substr and distinct <= k:    \n",
    "            substr += s\n",
    "            \n",
    "        elif s not in substr and distinct == k: \n",
    "\n",
    "            if len(longest_substr) < len(substr):\n",
    "                    longest_substr = substr\n",
    "                    \n",
    "            to_remove = substr[0]  \n",
    "            \n",
    "            while to_remove in substr :\n",
    "                substr = substr[1:] \n",
    "                \n",
    "            substr = substr + s\n",
    "            \n",
    "    return len(longest_substr)     \n",
    "            \n",
    "         \n",
    "\n",
    "def main():\n",
    "  print(\"Length of the longest substring: \" + str(longest_substring_with_k_distinct(\"araaci\", 2)))\n",
    "  print(\"Length of the longest substring: \" + str(longest_substring_with_k_distinct(\"araaci\", 1)))\n",
    "  print(\"Length of the longest substring: \" + str(longest_substring_with_k_distinct(\"cbbebi\", 3)))\n",
    "\n",
    "\n",
    "main()"
   ]
  },
  {
   "cell_type": "markdown",
   "id": "14e2acbe",
   "metadata": {},
   "source": [
    "### different approach by author : using dictionary"
   ]
  },
  {
   "cell_type": "code",
   "execution_count": 71,
   "id": "ad0195e9",
   "metadata": {},
   "outputs": [
    {
     "name": "stdout",
     "output_type": "stream",
     "text": [
      "Length of the longest substring: 4\n",
      "Length of the longest substring: 2\n",
      "Length of the longest substring: 5\n"
     ]
    }
   ],
   "source": [
    "def longest_substring_with_k_distinct(str1, k):\n",
    "  window_start = 0\n",
    "  max_length = 0\n",
    "  char_frequency = {}\n",
    "\n",
    "  # in the following loop we'll try to extend the range [window_start, window_end]\n",
    "  for window_end in range(len(str1)):\n",
    "    right_char = str1[window_end]\n",
    "    if right_char not in char_frequency:\n",
    "      char_frequency[right_char] = 0\n",
    "    char_frequency[right_char] += 1\n",
    "\n",
    "    # shrink the sliding window, until we are left with 'k' distinct characters in the char_frequency\n",
    "    while len(char_frequency) > k:\n",
    "      left_char = str1[window_start]\n",
    "      char_frequency[left_char] -= 1\n",
    "      if char_frequency[left_char] == 0:\n",
    "        del char_frequency[left_char]\n",
    "      window_start += 1  # shrink the window\n",
    "    # remember the maximum length so far\n",
    "    max_length = max(max_length, window_end-window_start + 1)\n",
    "  return max_length\n",
    "\n",
    "\n",
    "def main():\n",
    "  print(\"Length of the longest substring: \" + str(longest_substring_with_k_distinct(\"araaci\", 2)))\n",
    "  print(\"Length of the longest substring: \" + str(longest_substring_with_k_distinct(\"araaci\", 1)))\n",
    "  print(\"Length of the longest substring: \" + str(longest_substring_with_k_distinct(\"cbbebi\", 3)))\n",
    "\n",
    "\n",
    "main()"
   ]
  },
  {
   "cell_type": "code",
   "execution_count": null,
   "id": "2a3fc694",
   "metadata": {},
   "outputs": [],
   "source": []
  }
 ],
 "metadata": {
  "kernelspec": {
   "display_name": "Python 3 (ipykernel)",
   "language": "python",
   "name": "python3"
  },
  "language_info": {
   "codemirror_mode": {
    "name": "ipython",
    "version": 3
   },
   "file_extension": ".py",
   "mimetype": "text/x-python",
   "name": "python",
   "nbconvert_exporter": "python",
   "pygments_lexer": "ipython3",
   "version": "3.8.10"
  }
 },
 "nbformat": 4,
 "nbformat_minor": 5
}
