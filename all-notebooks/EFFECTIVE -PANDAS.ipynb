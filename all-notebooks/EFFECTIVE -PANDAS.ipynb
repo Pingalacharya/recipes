{
 "cells": [
  {
   "cell_type": "code",
   "execution_count": 5,
   "id": "70361c43",
   "metadata": {},
   "outputs": [],
   "source": [
    "import pandas as pd "
   ]
  },
  {
   "cell_type": "markdown",
   "id": "7db10019",
   "metadata": {},
   "source": [
    "## Pandas Series Object\n"
   ]
  },
  {
   "cell_type": "code",
   "execution_count": 9,
   "id": "331a5d89",
   "metadata": {},
   "outputs": [
    {
     "data": {
      "text/plain": [
       "0    145\n",
       "1    142\n",
       "2     38\n",
       "3     13\n",
       "Name: counts, dtype: int64"
      ]
     },
     "execution_count": 9,
     "metadata": {},
     "output_type": "execute_result"
    }
   ],
   "source": [
    "songs2 = pd.Series([145,142,38,13], name = \"counts\")\n",
    "songs2"
   ]
  },
  {
   "cell_type": "markdown",
   "id": "de447016",
   "metadata": {},
   "source": [
    "```\n",
    "The generic name for an index is an axis, and the values of the index : 0, 1, 2, 3 are  called axis labels. \n",
    "The data—145, 142, 38, and 13 is also called the values of the series. \n",
    "\n",
    "The two-dimensional structure in pandas, a DataFrame has two axes, one for the rows and another for the columns.\n",
    "\n",
    "The index can be string-based as well, in which case pandas indicates that the datatype for the\n",
    "index is object (not string):\n",
    "```"
   ]
  },
  {
   "cell_type": "markdown",
   "id": "8029c920",
   "metadata": {},
   "source": [
    "### index can be string \n",
    "\n",
    "**dtype : object**"
   ]
  },
  {
   "cell_type": "code",
   "execution_count": 14,
   "id": "f0d26538",
   "metadata": {},
   "outputs": [
    {
     "name": "stdout",
     "output_type": "stream",
     "text": [
      " Paul       145\n",
      " John       142\n",
      " George      38\n",
      " Ringo       13\n",
      "Name:  counts , dtype: int64 \n",
      "\n",
      "Index([' Paul ', ' John ', ' George ', ' Ringo '], dtype='object')\n"
     ]
    }
   ],
   "source": [
    "songs3 = pd . Series ([145 , 142 , 38 , 13] ,\n",
    "name =' counts ' ,\n",
    "index =[ ' Paul ', ' John ', ' George ', ' Ringo '])\n",
    "\n",
    "print(songs3,\"\\n\")\n",
    "print(songs3.index)"
   ]
  },
  {
   "cell_type": "code",
   "execution_count": null,
   "id": "38bdd046",
   "metadata": {},
   "outputs": [],
   "source": []
  },
  {
   "cell_type": "markdown",
   "id": "202f8ce9",
   "metadata": {},
   "source": [
    "### Datatypes\n",
    "```\n",
    "The actual data (or values) for a series does not have to be numeric or homogeneous. We can insert Python\n",
    "objects into a series\n",
    "\n",
    "The object data type is also used for a series with string values. In addition, it is also used\n",
    "for values that have heterogeneous or mixed types. If you have just numeric data in a series, you\n",
    "wouldn’t want it stored as a Python object, but rather as an int64 or float64 , which allow you to do\n",
    "vectorized numeric operations.\n",
    "\n",
    "If you have time data and it says it has the object type, you probably have strings for the dates.\n",
    "Using strings instead of date types is bad as you don’t get the date operations that you would get\n",
    "if the type were datetime64[ns] . A series with string data, on the other hand, has the type of object .\n",
    "\n",
    "\n",
    "NaN : This value stands for Not A Number and is usually ignored in arithmetic operations.\n",
    "(Similar to NULL in SQL). Also, float64 supports NaN , which int64 does not. When pandas sees numeric data as well as the np.nan , it coerces the integers to a ﬂoat value.\n",
    "\n",
    "If you load data from a CSV ﬁle, an empty value for an otherwise numeric column will become\n",
    "NaN . Later, methods such as .fillna and .dropna will explain how to deal with NaN .\n",
    "\n",
    "None , NaN , nan , <NA> , and null are synonyms in this book when referring to empty or missing data\n",
    "found in a pandas series or dataframe.\n",
    "\n",
    "The int64 type does not support missing data. Many considered that a wart of pandas. As of\n",
    "pandas 0.24, there is optional support for another integer type that can hold missing values denoted\n",
    "as <NA> below. The documentation calls this type the nullable integer type. When you create a series,\n",
    "you can pass in dtype='Int64' (note the capitalization):\n",
    "\n",
    "You can use the .astype method to convert columns to the nullable integer type. Just use the\n",
    "string 'Int64' as the type:\n",
    ">>> nan_series . astype ( ' Int64 ')\n",
    "```    "
   ]
  },
  {
   "cell_type": "code",
   "execution_count": null,
   "id": "1707a2c6",
   "metadata": {},
   "outputs": [],
   "source": []
  },
  {
   "cell_type": "markdown",
   "id": "d70d6cac",
   "metadata": {},
   "source": [
    "### Series Object\n",
    "```\n",
    "The Series object behaves similarly to a NumPy array. They both have methods in common.\n",
    "\n",
    "They also both have a notion of a boolean array. A boolean array is a series with the same index\n",
    "as the series you are working with that has boolean values, and it can be used as a mask to ﬁlter\n",
    "out items.\n",
    "\n",
    "Once we have a mask, we can use that as a ﬁlter\n",
    "\n",
    "```"
   ]
  },
  {
   "cell_type": "code",
   "execution_count": 22,
   "id": "282efd78",
   "metadata": {},
   "outputs": [
    {
     "name": "stdout",
     "output_type": "stream",
     "text": [
      " Paul        True\n",
      " John        True\n",
      " George     False\n",
      " Ringo      False\n",
      "Name:  counts , dtype: bool \n",
      "\n",
      " Paul     145\n",
      " John     142\n",
      "Name:  counts , dtype: int64\n"
     ]
    }
   ],
   "source": [
    "mask = songs3 > songs3.median ()          # boolean array\n",
    "\n",
    "print(mask,\"\\n\")\n",
    "print(songs3 [ mask ])"
   ]
  },
  {
   "cell_type": "markdown",
   "id": "38185e74",
   "metadata": {},
   "source": [
    "### Categorical Data\n",
    "\n",
    "```\n",
    "Categories are not limited to strings; we can also convert numbers or datetime values to categorical\n",
    "data.\n",
    "\n",
    "To create a category, we pass dtype=\"category\" into the Series constructor. Alternatively, we can\n",
    "call the .astype(\"category\") method on a series:\n",
    "\n",
    "By default, categories don’t have an ordering. We can verify this by inspecting the .cat attribute that\n",
    "has various properties:\n",
    "```"
   ]
  },
  {
   "cell_type": "code",
   "execution_count": 42,
   "id": "0212c246",
   "metadata": {},
   "outputs": [
    {
     "data": {
      "text/plain": [
       "0     m\n",
       "1     l\n",
       "2    xs\n",
       "3     s\n",
       "4    xl\n",
       "dtype: category\n",
       "Categories (5, object): ['l', 'm', 's', 'xl', 'xs']"
      ]
     },
     "execution_count": 42,
     "metadata": {},
     "output_type": "execute_result"
    }
   ],
   "source": [
    "s = pd.Series ([ 'm', 'l', 'xs', 's', 'xl'] , dtype ='category')\n",
    "s"
   ]
  },
  {
   "cell_type": "code",
   "execution_count": 43,
   "id": "a8638736",
   "metadata": {},
   "outputs": [
    {
     "data": {
      "text/plain": [
       "False"
      ]
     },
     "execution_count": 43,
     "metadata": {},
     "output_type": "execute_result"
    }
   ],
   "source": [
    "s . cat . ordered"
   ]
  },
  {
   "cell_type": "markdown",
   "id": "7b755d22",
   "metadata": {},
   "source": [
    "### Convert to ordered category\n",
    "```\n",
    "To convert a non-categorical series to an ordered category, we can create a type with the CategoricalDtype constructor and the appropriate parameters. Then we pass this type into the .astype method\n",
    "\n",
    "If we have ordered categories, we can do comparisons on them.\n",
    "\n",
    "The prior example created a new Series from existing data that was not categorical. We can also\n",
    "add ordering information to categorical data. We just need to make sure that we specify all of the\n",
    "members of the category or pandas will throw a ValueError :\n",
    "    \n",
    "```"
   ]
  },
  {
   "cell_type": "code",
   "execution_count": 44,
   "id": "8065976b",
   "metadata": {},
   "outputs": [],
   "source": [
    "s2 = pd.Series ([ 'm ' , 'l' , 'xs', 's', 'xl'])\n",
    "size_type = pd.api.types.CategoricalDtype (categories =[ 's', 'm', 'l'] , ordered = True )\n",
    "s3 = s2.astype (size_type)"
   ]
  },
  {
   "cell_type": "code",
   "execution_count": 45,
   "id": "98505167",
   "metadata": {},
   "outputs": [
    {
     "data": {
      "text/plain": [
       "0    False\n",
       "1     True\n",
       "2    False\n",
       "3    False\n",
       "4    False\n",
       "dtype: bool"
      ]
     },
     "execution_count": 45,
     "metadata": {},
     "output_type": "execute_result"
    }
   ],
   "source": [
    "s3 > 's'"
   ]
  },
  {
   "cell_type": "code",
   "execution_count": 46,
   "id": "83edbbb6",
   "metadata": {},
   "outputs": [
    {
     "data": {
      "text/plain": [
       "0     m\n",
       "1     l\n",
       "2    xs\n",
       "3     s\n",
       "4    xl\n",
       "dtype: category\n",
       "Categories (5, object): ['xs' < 's' < 'm' < 'l' < 'xl']"
      ]
     },
     "execution_count": 46,
     "metadata": {},
     "output_type": "execute_result"
    }
   ],
   "source": [
    "s.cat.reorder_categories ([ 'xs','s','m','l', 'xl'] , ordered = True )"
   ]
  },
  {
   "cell_type": "code",
   "execution_count": null,
   "id": "e387cf3c",
   "metadata": {},
   "outputs": [],
   "source": []
  },
  {
   "cell_type": "markdown",
   "id": "1ca0e4e7",
   "metadata": {},
   "source": [
    "```\n",
    "String and datetime series have a str and dt attribute that allow us to perform common\n",
    "operations speciﬁc to that type. If we convert these types to categorical types, we can still\n",
    "use the str or dt attributes on them:\n",
    "```    "
   ]
  },
  {
   "cell_type": "code",
   "execution_count": 48,
   "id": "38a9636f",
   "metadata": {},
   "outputs": [
    {
     "data": {
      "text/plain": [
       "0    NaN\n",
       "1      L\n",
       "2    NaN\n",
       "3      S\n",
       "4    NaN\n",
       "dtype: object"
      ]
     },
     "execution_count": 48,
     "metadata": {},
     "output_type": "execute_result"
    }
   ],
   "source": [
    "s3.str.upper ()"
   ]
  },
  {
   "cell_type": "code",
   "execution_count": 54,
   "id": "1adbbd1e",
   "metadata": {},
   "outputs": [
    {
     "name": "stderr",
     "output_type": "stream",
     "text": [
      "/tmp/ipykernel_40016/3309099509.py:2: DtypeWarning: Columns (68,70,71,72,73,74,76,79) have mixed types. Specify dtype option on import or set low_memory=False.\n",
      "  df = pd.read_csv(path)\n"
     ]
    },
    {
     "data": {
      "text/plain": [
       "0        19\n",
       "1         9\n",
       "2        23\n",
       "3        10\n",
       "4        17\n",
       "         ..\n",
       "41139    19\n",
       "41140    20\n",
       "41141    18\n",
       "41142    18\n",
       "41143    16\n",
       "Name: city08, Length: 41144, dtype: int64"
      ]
     },
     "execution_count": 54,
     "metadata": {},
     "output_type": "execute_result"
    }
   ],
   "source": [
    "path = \"vehicles.csv\"\n",
    "df = pd.read_csv(path)\n",
    "\n",
    "df.city08"
   ]
  },
  {
   "cell_type": "code",
   "execution_count": 55,
   "id": "2847cee4",
   "metadata": {},
   "outputs": [
    {
     "data": {
      "text/plain": [
       "0        25\n",
       "1        14\n",
       "2        33\n",
       "3        12\n",
       "4        23\n",
       "         ..\n",
       "41139    26\n",
       "41140    28\n",
       "41141    24\n",
       "41142    24\n",
       "41143    21\n",
       "Name: highway08, Length: 41144, dtype: int64"
      ]
     },
     "execution_count": 55,
     "metadata": {},
     "output_type": "execute_result"
    }
   ],
   "source": [
    "highway_mpg = df . highway08\n",
    "highway_mpg"
   ]
  },
  {
   "cell_type": "markdown",
   "id": "aaeb0f81",
   "metadata": {},
   "source": [
    "```\n",
    "It looks like each series has around 40,000 integer entries. Because the type of this series is int64 ,\n",
    "we know that none of the values are missing.\n",
    "```"
   ]
  },
  {
   "cell_type": "code",
   "execution_count": null,
   "id": "1917a3d5",
   "metadata": {},
   "outputs": [],
   "source": []
  }
 ],
 "metadata": {
  "kernelspec": {
   "display_name": "Python 3 (ipykernel)",
   "language": "python",
   "name": "python3"
  },
  "language_info": {
   "codemirror_mode": {
    "name": "ipython",
    "version": 3
   },
   "file_extension": ".py",
   "mimetype": "text/x-python",
   "name": "python",
   "nbconvert_exporter": "python",
   "pygments_lexer": "ipython3",
   "version": "3.8.10"
  }
 },
 "nbformat": 4,
 "nbformat_minor": 5
}
