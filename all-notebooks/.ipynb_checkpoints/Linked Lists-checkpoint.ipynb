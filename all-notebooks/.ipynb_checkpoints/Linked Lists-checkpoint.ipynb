{
 "cells": [
  {
   "cell_type": "markdown",
   "id": "897f638e",
   "metadata": {},
   "source": [
    "## Linked List Implementation\n",
    "\n",
    "```\n",
    "Linked list has only one attribute : the head node. It knows nothing about other nodes.hence no indexing is possible.\n",
    "\n",
    "Que :Then how does it function ?\n",
    "Ans : The head node contains its own value and also the information about the next node.the next node also contains its own value and information about its next node and so on. \n",
    "\n",
    "Hence the Singly linked list \n",
    "\n",
    "Que : Attributes of Node object ?\n",
    "Ans : As told above, Node object has two attributes : its value and the next node ( which is also a Node object)\n",
    "\n",
    "\n",
    "```"
   ]
  },
  {
   "cell_type": "code",
   "execution_count": 1,
   "id": "c7f5c9da",
   "metadata": {},
   "outputs": [],
   "source": [
    "class LnkedList:\n",
    "    def __init__(self):\n",
    "        self.head_node  = None \n",
    "        \n",
    "class Node:\n",
    "    def __init__(self,data):\n",
    "        self.data = data \n",
    "        self.next_node = None      \n"
   ]
  },
  {
   "cell_type": "markdown",
   "id": "6a3ad1fe",
   "metadata": {},
   "source": [
    "## Add methods to Linked List"
   ]
  },
  {
   "cell_type": "code",
   "execution_count": 2,
   "id": "472b8cc5",
   "metadata": {},
   "outputs": [
    {
     "name": "stdout",
     "output_type": "stream",
     "text": [
      "List is Empty\n",
      "Inserting values in list\n",
      "9 -> 8 -> 7 -> 6 -> 5 -> 4 -> 3 -> 2 -> 1 -> None\n"
     ]
    },
    {
     "data": {
      "text/plain": [
       "True"
      ]
     },
     "execution_count": 2,
     "metadata": {},
     "output_type": "execute_result"
    }
   ],
   "source": [
    "class Node:\n",
    "    def __init__(self,data):\n",
    "        self.data = data \n",
    "        self.next_node = None   \n",
    "\n",
    "\n",
    "class LinkedList:\n",
    "    \n",
    "    def __init__(self):\n",
    "        self.head_node  = None \n",
    "        \n",
    "    def get_head(self):\n",
    "        return self.head_node\n",
    "    \n",
    "    def is_empty(self):\n",
    "        if self.head_node is None :\n",
    "            return True\n",
    "        else:\n",
    "            return False\n",
    "        \n",
    "    def insert_at_head(self, data): \n",
    "        \n",
    "        temp_node = Node(data)\n",
    "        temp_node.next_node = self.head_node        \n",
    "        self.head_node = temp_node\n",
    "        \n",
    "        return self.head_node\n",
    "    \n",
    "    \n",
    "    def insert_at_tail(self, value):\n",
    "      \n",
    "        new_node = Node(value)\n",
    "\n",
    "        if self.get_head() is None:\n",
    "            self.head_node = new_node\n",
    "            return\n",
    "\n",
    "        temp = self.get_head()\n",
    "\n",
    "        while temp.next_element is not None:\n",
    "            temp = temp.next_element\n",
    "\n",
    "        temp.next_element = new_node\n",
    "        return\n",
    "    \n",
    "    \n",
    "    def print_list(self):\n",
    "        if(self.is_empty()):\n",
    "            print(\"List is Empty\")\n",
    "            return False\n",
    "        temp = self.head_node\n",
    "        while temp.next_node is not None:\n",
    "            print(temp.data, end=\" -> \")\n",
    "            temp = temp.next_node\n",
    "        print(temp.data, \"-> None\")\n",
    "        return True\n",
    "             \n",
    "        \n",
    "            \n",
    "list = LinkedList()\n",
    "list.print_list()\n",
    "\n",
    "print(\"Inserting values in list\")\n",
    "for i in range(1, 10):\n",
    "    list.insert_at_head(i)\n",
    "list.print_list()            \n",
    "            \n",
    "  "
   ]
  },
  {
   "cell_type": "markdown",
   "id": "494a43e6",
   "metadata": {},
   "source": [
    "### a function to insert value at tail\n",
    "\n",
    "we know that tail is None "
   ]
  },
  {
   "cell_type": "code",
   "execution_count": 4,
   "id": "07fa7c79",
   "metadata": {},
   "outputs": [
    {
     "name": "stdout",
     "output_type": "stream",
     "text": [
      "List is Empty\n",
      "0 -> None\n",
      "0 -> 1 -> None\n",
      "0 -> 1 -> 2 -> None\n",
      "0 -> 1 -> 2 -> 3 -> None\n"
     ]
    },
    {
     "data": {
      "text/plain": [
       "True"
      ]
     },
     "execution_count": 4,
     "metadata": {},
     "output_type": "execute_result"
    }
   ],
   "source": [
    "def insert_at_tail(lst, value):\n",
    "    # Creating a new node\n",
    "    new_node = Node(value)\n",
    "\n",
    "    # Check if the list is empty, if it is simply point head to new node\n",
    "    if lst.get_head() is None:\n",
    "        lst.head_node = new_node\n",
    "        return\n",
    "\n",
    "    # if list not empty, traverse the list to the last node\n",
    "    temp = lst.get_head()\n",
    "\n",
    "    while temp.next_node:\n",
    "        temp = temp.next_node\n",
    "\n",
    "    # Set the nextElement of the previous node to new node\n",
    "    temp.next_node = new_node\n",
    "    return\n",
    "\n",
    "\n",
    "lst = LinkedList()\n",
    "lst.print_list()\n",
    "insert_at_tail(lst, 0)\n",
    "lst.print_list()\n",
    "insert_at_tail(lst, 1)\n",
    "lst.print_list()\n",
    "insert_at_tail(lst, 2)\n",
    "lst.print_list()\n",
    "insert_at_tail(lst, 3)\n",
    "lst.print_list()\n"
   ]
  },
  {
   "cell_type": "markdown",
   "id": "e56adfe1",
   "metadata": {},
   "source": [
    "### search\n",
    "\n",
    "True if the integer is found. False otherwise."
   ]
  },
  {
   "cell_type": "code",
   "execution_count": null,
   "id": "359f5a4e",
   "metadata": {},
   "outputs": [],
   "source": [
    "def search(lst, value):\n",
    "    \n",
    "    if lst.is_empty():\n",
    "        return False\n",
    "\n",
    "    temp_node = lst.head_node\n",
    "    \n",
    "    while temp_node:\n",
    "        if temp_node.data == value:\n",
    "          return True\n",
    "        temp_node= temp_node.next_node\n",
    "\n",
    "    \n",
    "    return False\n",
    "        \n",
    "\n"
   ]
  },
  {
   "cell_type": "code",
   "execution_count": null,
   "id": "5f284e0d",
   "metadata": {},
   "outputs": [],
   "source": []
  },
  {
   "cell_type": "code",
   "execution_count": null,
   "id": "bb072c2c",
   "metadata": {},
   "outputs": [],
   "source": []
  },
  {
   "cell_type": "code",
   "execution_count": null,
   "id": "b08cc06b",
   "metadata": {},
   "outputs": [],
   "source": []
  },
  {
   "cell_type": "code",
   "execution_count": null,
   "id": "81220969",
   "metadata": {},
   "outputs": [],
   "source": []
  },
  {
   "cell_type": "code",
   "execution_count": null,
   "id": "7b390b2c",
   "metadata": {},
   "outputs": [],
   "source": []
  }
 ],
 "metadata": {
  "kernelspec": {
   "display_name": "Python 3 (ipykernel)",
   "language": "python",
   "name": "python3"
  },
  "language_info": {
   "codemirror_mode": {
    "name": "ipython",
    "version": 3
   },
   "file_extension": ".py",
   "mimetype": "text/x-python",
   "name": "python",
   "nbconvert_exporter": "python",
   "pygments_lexer": "ipython3",
   "version": "3.8.10"
  }
 },
 "nbformat": 4,
 "nbformat_minor": 5
}
