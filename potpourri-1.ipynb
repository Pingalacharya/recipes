{
 "cells": [
  {
   "cell_type": "markdown",
   "id": "080b6fc6",
   "metadata": {},
   "source": [
    "### time\n",
    "\n",
    "```python\n",
    "import time \n",
    "\n",
    "start = time.time()\n",
    "time.sleep(1)\n",
    "time_taken = time.time() - start\n",
    "\n",
    "```"
   ]
  },
  {
   "cell_type": "code",
   "execution_count": null,
   "id": "b99a3b06",
   "metadata": {},
   "outputs": [],
   "source": []
  },
  {
   "cell_type": "markdown",
   "id": "d379e365",
   "metadata": {},
   "source": [
    "### List comprehension for two loops\n",
    "\n",
    "https://stackoverflow.com/questions/1198777/double-iteration-in-list-comprehension\n",
    "\n",
    "```python\n",
    "list_of_words = []\n",
    "for sentence in page:\n",
    "    for word in sentence:\n",
    "       list_of_words.append(word)\n",
    "return list_of_words\n",
    "\n",
    "\n",
    "# List Comprehension \n",
    "[word for sentence in page for word in sentence]\n",
    "\n",
    "```"
   ]
  },
  {
   "cell_type": "code",
   "execution_count": null,
   "id": "d9f5020c",
   "metadata": {},
   "outputs": [],
   "source": []
  },
  {
   "cell_type": "markdown",
   "id": "96aef850",
   "metadata": {},
   "source": [
    "### context maanger\n",
    "https://www.youtube.com/watch?v=Lv1treHIckI&list=PLzMcBGfZo4-kwmIcMDdXSuy_wSqtU-xDP&index=6"
   ]
  },
  {
   "cell_type": "code",
   "execution_count": null,
   "id": "49d4fe91",
   "metadata": {},
   "outputs": [],
   "source": []
  },
  {
   "cell_type": "markdown",
   "id": "0759327a",
   "metadata": {},
   "source": [
    "### map and filter\n",
    "\n",
    "- ` map(function, iterable)`\n",
    "- `filter(function, iterable)`"
   ]
  },
  {
   "cell_type": "code",
   "execution_count": null,
   "id": "3b4d7352",
   "metadata": {},
   "outputs": [],
   "source": [
    "numbers = [1, 2, 3, 4, 5]\n",
    "\n",
    "squared = map(lambda x : x ** 2, numbers)\n",
    "print(list(squared))  \n",
    "\n",
    "\n",
    "def is_even(num):\n",
    "    if num % 2 == 0:\n",
    "        return True\n",
    "    return False\n",
    "\n",
    "evens = filter(is_even, numbers)\n",
    "print(list(evens))       "
   ]
  },
  {
   "cell_type": "markdown",
   "id": "90297c4c",
   "metadata": {},
   "source": [
    "### Unicode characters"
   ]
  },
  {
   "cell_type": "markdown",
   "id": "95c764be",
   "metadata": {},
   "source": [
    "#### Unicode provides a unique number for every character,\n",
    "- no matter what the platform,\n",
    "- no matter what the program,\n",
    "- no matter what the language.\n",
    "\n",
    "\n",
    "ASCII defines 128 characters, which map to the numbers 0–127. Unicode defines (less than) 221 characters, which, similarly, map to numbers 0–221 (though not all numbers are currently assigned, and some are reserved).\n",
    "\n",
    "Unicode is a superset of ASCII, and the numbers 0–127 have the same meaning in ASCII as they have in Unicode. For example, the number 65 means \"Latin capital 'A'\".\n",
    "\n",
    "Because Unicode characters don't generally fit into one 8-bit byte, there are numerous ways of storing Unicode characters in byte sequences, such as UTF-32 and UTF-8.\n",
    "\n",
    "\n",
    "**Most ASCII characters are printable characters of the alphabet such as abc, ABC, 123, ?&!, etc. The others are control characters such as carriage return, line feed, tab, etc. ASCII was meant for English only.**\n",
    "\n",
    "ASCII Extended solves the problem for languages that are based on the Latin alphabet... what about the others needing a completely different alphabet? Greek? Russian? Chinese and the likes?\n",
    "\n",
    "We would have needed an entirely new character set... that's the rational behind Unicode. Unicode doesn't contain every character from every language, but it sure contains a gigantic amount of characters (see this table).\n",
    "\n",
    "**You cannot save text to your hard drive as \"Unicode\". Unicode is an abstract representation of the text. You need to \"encode\" this abstract representation. That's where an encoding comes into play.**\n",
    "\n",
    "#### Encodings: UTF-8 vs UTF-16 vs UTF-32 : Explore\n",
    "\n",
    "https://stackoverflow.com/questions/19212306/whats-the-difference-between-ascii-and-unicode"
   ]
  },
  {
   "cell_type": "code",
   "execution_count": null,
   "id": "13f76944",
   "metadata": {},
   "outputs": [],
   "source": []
  },
  {
   "cell_type": "markdown",
   "id": "af5da06c",
   "metadata": {},
   "source": [
    "### `__name__ == main`"
   ]
  },
  {
   "cell_type": "markdown",
   "id": "2cf7d0d9",
   "metadata": {},
   "source": [
    "To better understand why and how this matters, we need to take a step back to understand how Python initializes scripts and how this interacts with its module import mechanism.\n",
    "\n",
    "**Whenever the Python interpreter reads a source file, it does two things**:\n",
    "\n",
    "- it sets a few special variables like `__name__`, and then\n",
    "\n",
    "- it executes all of the code found in the file.\n",
    "\n",
    "\n",
    "If you are running your module (the source file) as the main program, e.g. `python foo.py`, the interpreter will assign the hard-coded string `\"__main__\"` to the `__name__` variable, i.e.\n",
    "\n",
    "```python\n",
    "# It's as if the interpreter inserts this at the top\n",
    "# of your module when run as the main program.\n",
    "__name__ = \"__main__\" \n",
    "\n",
    "```\n",
    "\n",
    "On the other hand, suppose some other module is the main program and it imports your module. This means there's a statement like this in the main program, or in some other module the main program imports:\n",
    "```python\n",
    "# Suppose this is in some other main program.\n",
    "import foo\n",
    "```\n",
    "\n",
    "The interpreter will search for your foo.py file (along with searching for a few other variants), and prior to executing that module, it will assign the name \"foo\" from the import statement to the `__name__` variable, i.e.\n",
    "\n",
    "```python\n",
    "# It's as if the interpreter inserts this at the top\n",
    "# of your module when it's imported from another module.\n",
    "__name__ = \"foo\"\n",
    "\n",
    "```\n",
    "\n",
    "\n",
    "https://stackoverflow.com/questions/419163/what-does-if-name-main-do"
   ]
  },
  {
   "cell_type": "code",
   "execution_count": 1,
   "id": "8eada550",
   "metadata": {},
   "outputs": [
    {
     "name": "stdout",
     "output_type": "stream",
     "text": [
      "before import\n",
      "before function_a\n",
      "before function_b\n",
      "before __name__ guard\n",
      "this is my new script that imports foo.py\n"
     ]
    }
   ],
   "source": [
    "import foo\n",
    "\n",
    "def func_print():\n",
    "  print(\"this is my new script that imports foo.py\")\n",
    "\n",
    "if __name__ == \"__main__\":\n",
    "    func_print()\n",
    "    "
   ]
  },
  {
   "cell_type": "code",
   "execution_count": 3,
   "id": "d27fb882",
   "metadata": {},
   "outputs": [
    {
     "name": "stdout",
     "output_type": "stream",
     "text": [
      "before import\n",
      "before function_a\n",
      "before function_b\n",
      "before __name__ guard\n",
      "Function A\n",
      "Function B 10.0\n",
      "this is my new script that imports bad_foo.py\n"
     ]
    }
   ],
   "source": [
    "import bad_foo\n",
    "\n",
    "def func_print():\n",
    "  print(\"this is my new script that imports bad_foo.py\")\n",
    "\n",
    "if __name__ == \"__main__\":\n",
    "    func_print()\n",
    "    "
   ]
  },
  {
   "cell_type": "markdown",
   "id": "b8fbfa19",
   "metadata": {},
   "source": [
    "### **end of   `__name__ == __main__`**"
   ]
  },
  {
   "cell_type": "code",
   "execution_count": null,
   "id": "2e1dc93b",
   "metadata": {},
   "outputs": [],
   "source": []
  },
  {
   "cell_type": "markdown",
   "id": "d64a83d2",
   "metadata": {},
   "source": [
    "### Encapsulation\n",
    "n Python, encapsulation is a method of wrapping data and functions into a single entity. For example, A class encapsulates all the data (methods and variables). Encapsulation means the internal representation of an object is generally hidden from outside of the object’s definition.\n",
    "\n",
    "In the program below, we define a Computer class.\n",
    "\n",
    "We used `__init__()` method to store the maximum selling price of Computer. We tried to modify the price. However, we can't change it because Python treats the __maxprice as private attributes.\n",
    "\n",
    "As shown, to change the value, we have to use a setter function i.e `setMaxPrice(`) which takes price as a parameter.\n"
   ]
  },
  {
   "cell_type": "code",
   "execution_count": null,
   "id": "32dd0242",
   "metadata": {},
   "outputs": [],
   "source": [
    "class Computer:\n",
    "\n",
    "    def __init__(self):\n",
    "        self.__maxprice = 900\n",
    "\n",
    "    def sell(self):\n",
    "        print(\"Selling Price: {}\".format(self.__maxprice))\n",
    "\n",
    "    def setMaxPrice(self, price):\n",
    "        self.__maxprice = price\n",
    "\n",
    "c = Computer()\n",
    "c.sell()\n",
    "\n",
    "# change the price\n",
    "c.__maxprice = 1000\n",
    "c.sell()\n",
    "\n",
    "# using setter function\n",
    "c.setMaxPrice(1000)\n",
    "c.sell()\n",
    "\n",
    "c.__maxprice"
   ]
  },
  {
   "cell_type": "code",
   "execution_count": null,
   "id": "87baec9e",
   "metadata": {},
   "outputs": [],
   "source": [
    "class Employee:\n",
    "    def __init__(self, name):\n",
    "        self.name = name\n",
    "        self.__salary = 500\n",
    "\n",
    "    def show(self):\n",
    "        print(\"Name is \", self.name, \"and salary is\", self.__salary)\n",
    "        \n",
    "    def setSalary(self, salary):\n",
    "        self.__salary = salary    \n",
    "\n",
    "# Outside class\n",
    "e = Employee(\"Bella\")\n",
    "# e.setSalary(900)\n",
    "print(e.name)\n",
    "e.__salary                          # cant  access this "
   ]
  },
  {
   "cell_type": "code",
   "execution_count": null,
   "id": "7a5fa582",
   "metadata": {},
   "outputs": [],
   "source": []
  }
 ],
 "metadata": {
  "kernelspec": {
   "display_name": "Python 3 (ipykernel)",
   "language": "python",
   "name": "python3"
  },
  "language_info": {
   "codemirror_mode": {
    "name": "ipython",
    "version": 3
   },
   "file_extension": ".py",
   "mimetype": "text/x-python",
   "name": "python",
   "nbconvert_exporter": "python",
   "pygments_lexer": "ipython3",
   "version": "3.8.10"
  }
 },
 "nbformat": 4,
 "nbformat_minor": 5
}
